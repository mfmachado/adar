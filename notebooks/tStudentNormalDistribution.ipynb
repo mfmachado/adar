{
  "nbformat": 4,
  "nbformat_minor": 5,
  "metadata": {
    "kernelspec": {
      "display_name": "Python 3",
      "language": "python",
      "name": "python3"
    },
    "language_info": {
      "codemirror_mode": {
        "name": "ipython",
        "version": 3
      },
      "file_extension": ".py",
      "mimetype": "text/x-python",
      "name": "python",
      "nbconvert_exporter": "python",
      "pygments_lexer": "ipython3",
      "version": "3.8.5"
    },
    "colab": {
      "name": "tStudentNormalDistribution.ipynb",
      "provenance": []
    },
    "widgets": {
      "application/vnd.jupyter.widget-state+json": {
        "625950537d4c49e3a2356cff80b0aab2": {
          "model_module": "@jupyter-widgets/controls",
          "model_name": "VBoxModel",
          "state": {
            "_view_name": "VBoxView",
            "_dom_classes": [
              "widget-interact"
            ],
            "_model_name": "VBoxModel",
            "_view_module": "@jupyter-widgets/controls",
            "_model_module_version": "1.5.0",
            "_view_count": null,
            "_view_module_version": "1.5.0",
            "box_style": "",
            "layout": "IPY_MODEL_f3372ee2392b4a929423288095a16ac2",
            "_model_module": "@jupyter-widgets/controls",
            "children": [
              "IPY_MODEL_f16ee77093c34c848351a7d730568cbd",
              "IPY_MODEL_686c88c3d47345c384f6dfcdc7903840",
              "IPY_MODEL_8f8ef8fa57eb403ab965b81d0f2ebbb8"
            ]
          }
        },
        "f3372ee2392b4a929423288095a16ac2": {
          "model_module": "@jupyter-widgets/base",
          "model_name": "LayoutModel",
          "state": {
            "_view_name": "LayoutView",
            "grid_template_rows": null,
            "right": null,
            "justify_content": null,
            "_view_module": "@jupyter-widgets/base",
            "overflow": null,
            "_model_module_version": "1.2.0",
            "_view_count": null,
            "flex_flow": null,
            "width": null,
            "min_width": null,
            "border": null,
            "align_items": null,
            "bottom": null,
            "_model_module": "@jupyter-widgets/base",
            "top": null,
            "grid_column": null,
            "overflow_y": null,
            "overflow_x": null,
            "grid_auto_flow": null,
            "grid_area": null,
            "grid_template_columns": null,
            "flex": null,
            "_model_name": "LayoutModel",
            "justify_items": null,
            "grid_row": null,
            "max_height": null,
            "align_content": null,
            "visibility": null,
            "align_self": null,
            "height": null,
            "min_height": null,
            "padding": null,
            "grid_auto_rows": null,
            "grid_gap": null,
            "max_width": null,
            "order": null,
            "_view_module_version": "1.2.0",
            "grid_template_areas": null,
            "object_position": null,
            "object_fit": null,
            "grid_auto_columns": null,
            "margin": null,
            "display": null,
            "left": null
          }
        },
        "f16ee77093c34c848351a7d730568cbd": {
          "model_module": "@jupyter-widgets/controls",
          "model_name": "IntSliderModel",
          "state": {
            "_view_name": "IntSliderView",
            "style": "IPY_MODEL_7db6d0fb5a9f4fdba3fa31aafca7dbcd",
            "_dom_classes": [],
            "description": "degrees",
            "step": 1,
            "_model_name": "IntSliderModel",
            "orientation": "horizontal",
            "max": 100,
            "_view_module": "@jupyter-widgets/controls",
            "_model_module_version": "1.5.0",
            "value": 5,
            "_view_count": null,
            "disabled": false,
            "_view_module_version": "1.5.0",
            "min": 5,
            "continuous_update": true,
            "readout_format": "d",
            "description_tooltip": null,
            "readout": true,
            "_model_module": "@jupyter-widgets/controls",
            "layout": "IPY_MODEL_88201203ccbf41dab1aaedf67448e63e"
          }
        },
        "686c88c3d47345c384f6dfcdc7903840": {
          "model_module": "@jupyter-widgets/controls",
          "model_name": "IntSliderModel",
          "state": {
            "_view_name": "IntSliderView",
            "style": "IPY_MODEL_9d2336151cbe4655995b1c8efd3f7172",
            "_dom_classes": [],
            "description": "number_samples",
            "step": 1000,
            "_model_name": "IntSliderModel",
            "orientation": "horizontal",
            "max": 100000,
            "_view_module": "@jupyter-widgets/controls",
            "_model_module_version": "1.5.0",
            "value": 10000,
            "_view_count": null,
            "disabled": false,
            "_view_module_version": "1.5.0",
            "min": 1000,
            "continuous_update": true,
            "readout_format": "d",
            "description_tooltip": null,
            "readout": true,
            "_model_module": "@jupyter-widgets/controls",
            "layout": "IPY_MODEL_96a3bbd1588848bb9b3535f24529f1f6"
          }
        },
        "8f8ef8fa57eb403ab965b81d0f2ebbb8": {
          "model_module": "@jupyter-widgets/output",
          "model_name": "OutputModel",
          "state": {
            "_view_name": "OutputView",
            "msg_id": "",
            "_dom_classes": [],
            "_model_name": "OutputModel",
            "outputs": [
              {
                "output_type": "display_data",
                "metadata": {
                  "tags": [],
                  "needs_background": "light"
                },
                "image/png": "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\n",
                "text/plain": "<Figure size 432x288 with 1 Axes>"
              }
            ],
            "_view_module": "@jupyter-widgets/output",
            "_model_module_version": "1.0.0",
            "_view_count": null,
            "_view_module_version": "1.0.0",
            "layout": "IPY_MODEL_cb0e69c7676a4095a9c76facf2d59409",
            "_model_module": "@jupyter-widgets/output"
          }
        },
        "7db6d0fb5a9f4fdba3fa31aafca7dbcd": {
          "model_module": "@jupyter-widgets/controls",
          "model_name": "SliderStyleModel",
          "state": {
            "_view_name": "StyleView",
            "handle_color": null,
            "_model_name": "SliderStyleModel",
            "description_width": "",
            "_view_module": "@jupyter-widgets/base",
            "_model_module_version": "1.5.0",
            "_view_count": null,
            "_view_module_version": "1.2.0",
            "_model_module": "@jupyter-widgets/controls"
          }
        },
        "88201203ccbf41dab1aaedf67448e63e": {
          "model_module": "@jupyter-widgets/base",
          "model_name": "LayoutModel",
          "state": {
            "_view_name": "LayoutView",
            "grid_template_rows": null,
            "right": null,
            "justify_content": null,
            "_view_module": "@jupyter-widgets/base",
            "overflow": null,
            "_model_module_version": "1.2.0",
            "_view_count": null,
            "flex_flow": null,
            "width": null,
            "min_width": null,
            "border": null,
            "align_items": null,
            "bottom": null,
            "_model_module": "@jupyter-widgets/base",
            "top": null,
            "grid_column": null,
            "overflow_y": null,
            "overflow_x": null,
            "grid_auto_flow": null,
            "grid_area": null,
            "grid_template_columns": null,
            "flex": null,
            "_model_name": "LayoutModel",
            "justify_items": null,
            "grid_row": null,
            "max_height": null,
            "align_content": null,
            "visibility": null,
            "align_self": null,
            "height": null,
            "min_height": null,
            "padding": null,
            "grid_auto_rows": null,
            "grid_gap": null,
            "max_width": null,
            "order": null,
            "_view_module_version": "1.2.0",
            "grid_template_areas": null,
            "object_position": null,
            "object_fit": null,
            "grid_auto_columns": null,
            "margin": null,
            "display": null,
            "left": null
          }
        },
        "9d2336151cbe4655995b1c8efd3f7172": {
          "model_module": "@jupyter-widgets/controls",
          "model_name": "SliderStyleModel",
          "state": {
            "_view_name": "StyleView",
            "handle_color": null,
            "_model_name": "SliderStyleModel",
            "description_width": "",
            "_view_module": "@jupyter-widgets/base",
            "_model_module_version": "1.5.0",
            "_view_count": null,
            "_view_module_version": "1.2.0",
            "_model_module": "@jupyter-widgets/controls"
          }
        },
        "96a3bbd1588848bb9b3535f24529f1f6": {
          "model_module": "@jupyter-widgets/base",
          "model_name": "LayoutModel",
          "state": {
            "_view_name": "LayoutView",
            "grid_template_rows": null,
            "right": null,
            "justify_content": null,
            "_view_module": "@jupyter-widgets/base",
            "overflow": null,
            "_model_module_version": "1.2.0",
            "_view_count": null,
            "flex_flow": null,
            "width": null,
            "min_width": null,
            "border": null,
            "align_items": null,
            "bottom": null,
            "_model_module": "@jupyter-widgets/base",
            "top": null,
            "grid_column": null,
            "overflow_y": null,
            "overflow_x": null,
            "grid_auto_flow": null,
            "grid_area": null,
            "grid_template_columns": null,
            "flex": null,
            "_model_name": "LayoutModel",
            "justify_items": null,
            "grid_row": null,
            "max_height": null,
            "align_content": null,
            "visibility": null,
            "align_self": null,
            "height": null,
            "min_height": null,
            "padding": null,
            "grid_auto_rows": null,
            "grid_gap": null,
            "max_width": null,
            "order": null,
            "_view_module_version": "1.2.0",
            "grid_template_areas": null,
            "object_position": null,
            "object_fit": null,
            "grid_auto_columns": null,
            "margin": null,
            "display": null,
            "left": null
          }
        },
        "cb0e69c7676a4095a9c76facf2d59409": {
          "model_module": "@jupyter-widgets/base",
          "model_name": "LayoutModel",
          "state": {
            "_view_name": "LayoutView",
            "grid_template_rows": null,
            "right": null,
            "justify_content": null,
            "_view_module": "@jupyter-widgets/base",
            "overflow": null,
            "_model_module_version": "1.2.0",
            "_view_count": null,
            "flex_flow": null,
            "width": null,
            "min_width": null,
            "border": null,
            "align_items": null,
            "bottom": null,
            "_model_module": "@jupyter-widgets/base",
            "top": null,
            "grid_column": null,
            "overflow_y": null,
            "overflow_x": null,
            "grid_auto_flow": null,
            "grid_area": null,
            "grid_template_columns": null,
            "flex": null,
            "_model_name": "LayoutModel",
            "justify_items": null,
            "grid_row": null,
            "max_height": null,
            "align_content": null,
            "visibility": null,
            "align_self": null,
            "height": null,
            "min_height": null,
            "padding": null,
            "grid_auto_rows": null,
            "grid_gap": null,
            "max_width": null,
            "order": null,
            "_view_module_version": "1.2.0",
            "grid_template_areas": null,
            "object_position": null,
            "object_fit": null,
            "grid_auto_columns": null,
            "margin": null,
            "display": null,
            "left": null
          }
        }
      }
    }
  },
  "cells": [
    {
      "cell_type": "code",
      "metadata": {
        "cellView": "form",
        "id": "incorrect-trinity",
        "outputId": "00404aab-652f-4c52-f372-636aa6496ddc",
        "colab": {
          "base_uri": "https://localhost:8080/",
          "height": 329,
          "referenced_widgets": [
            "625950537d4c49e3a2356cff80b0aab2",
            "f3372ee2392b4a929423288095a16ac2",
            "f16ee77093c34c848351a7d730568cbd",
            "686c88c3d47345c384f6dfcdc7903840",
            "8f8ef8fa57eb403ab965b81d0f2ebbb8",
            "7db6d0fb5a9f4fdba3fa31aafca7dbcd",
            "88201203ccbf41dab1aaedf67448e63e",
            "9d2336151cbe4655995b1c8efd3f7172",
            "96a3bbd1588848bb9b3535f24529f1f6",
            "cb0e69c7676a4095a9c76facf2d59409"
          ]
        }
      },
      "source": [
        "#@title\n",
        "import numpy as np\n",
        "import matplotlib.pyplot as plt\n",
        "from ipywidgets import interact, interactive, fixed, interact_manual\n",
        "import ipywidgets as widgets\n",
        "\n",
        "def plot_t_and_normal_distribution(degrees, number_samples):\n",
        "    # Generate t- and standard- distributions\n",
        "    t_distribution = np.random.standard_t(degrees, number_samples)\n",
        "    s_distribution = np.random.normal(0, 1, number_samples)\n",
        "    # Plot distributions\n",
        "    _ = plt.hist(t_distribution, bins=100, alpha=0.5, label=\"t-student distribution\")\n",
        "    _ = plt.hist(s_distribution, bins=100, alpha=0.5, label=\"normal distribution\")\n",
        "    _ = plt.legend(loc=2)\n",
        "    plt.xlim(-15, 15)\n",
        "    \n",
        "\n",
        "interact(plot_t_and_normal_distribution, \n",
        "         degrees=widgets.IntSlider(5, min=5, max=100), \n",
        "         number_samples=widgets.IntSlider(10000, min=1000, max=100000, step=1000));"
      ],
      "id": "incorrect-trinity",
      "execution_count": 2,
      "outputs": [
        {
          "output_type": "display_data",
          "data": {
            "application/vnd.jupyter.widget-view+json": {
              "model_id": "625950537d4c49e3a2356cff80b0aab2",
              "version_minor": 0,
              "version_major": 2
            },
            "text/plain": [
              "interactive(children=(IntSlider(value=5, description='degrees', min=5), IntSlider(value=10000, description='nu…"
            ]
          },
          "metadata": {
            "tags": []
          }
        }
      ]
    },
    {
      "cell_type": "code",
      "metadata": {
        "id": "honey-poland"
      },
      "source": [
        ""
      ],
      "id": "honey-poland",
      "execution_count": null,
      "outputs": []
    }
  ]
}