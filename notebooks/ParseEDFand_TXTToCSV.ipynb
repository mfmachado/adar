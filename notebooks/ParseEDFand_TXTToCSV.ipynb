{
  "nbformat": 4,
  "nbformat_minor": 0,
  "metadata": {
    "colab": {
      "name": "ParseEDFand TXTToCSV.ipynb",
      "provenance": [],
      "collapsed_sections": [],
      "toc_visible": true
    },
    "kernelspec": {
      "display_name": "Python 3",
      "name": "python3"
    }
  },
  "cells": [
    {
      "cell_type": "markdown",
      "metadata": {
        "id": "cKliV6qJKfkS"
      },
      "source": [
        "## Parse EDP and .txt with annotations to a CSV file "
      ]
    },
    {
      "cell_type": "code",
      "metadata": {
        "id": "pCP1DqdDKd54",
        "colab": {
          "base_uri": "https://localhost:8080/"
        },
        "cellView": "form",
        "outputId": "267d063c-1115-4db0-b418-9f3a1bdb161b"
      },
      "source": [
        "#@title\n",
        "import os\n",
        "import numpy as np\n",
        "import pandas as pd\n",
        "import urllib.request\n",
        "from datetime import datetime\n",
        "!pip install mne\n",
        "import mne\n",
        "\n",
        "def to_timestamp(x: str, acq_time: datetime):\n",
        "    date = datetime.strptime(x, '%H:%M:%S')\n",
        "    date = datetime(acq_time.year, acq_time.month, acq_time.day, date.hour, date.minute, date.second)\n",
        "    if date.hour < 12:\n",
        "        date = datetime(date.year, date.month, date.day + 1, date.hour, date.minute, date.second)\n",
        "    return (date.day - acq_time.day) * 24 * 3600 + (date.hour - acq_time.hour) * 3600 + (\n",
        "                date.minute - acq_time.minute) * 60 + date.second - acq_time.second\n",
        "\n",
        "\n",
        "def subsample(data: np.ndarray, fs: int, fs_new: int, axis=0):\n",
        "    assert fs % fs_new == 0\n",
        "    factor = int(fs / fs_new)\n",
        "    if data.shape[axis] % factor != 0:\n",
        "        print('Subsampling led to loss of %i samples, in an online setting consider using a BlockBuffer with a '\n",
        "              'buffer size of a multiple of %i samples.' % (data.shape[axis] % factor, factor))\n",
        "    idx_mask = np.arange(data.shape[axis], step=factor)\n",
        "    return data.take(idx_mask, axis)\n",
        "\n",
        "\n",
        "def read_annotation_file(path_filename: str, acq_time: datetime):\n",
        "    df_annotations_data = pd.read_csv(path_filename, sep='\\t', skiprows=20)\n",
        "    df_annotations_data = df_annotations_data.loc[df_annotations_data[\"Event\"].str.startswith(\"SLEEP\")]\n",
        "    df_annotations_data = df_annotations_data.rename(columns={\"Time [hh:mm:ss]\": \"onset\", \"Duration[s]\": \"duration\"})\n",
        "    df_annotations_data[\"timestamp\"] = df_annotations_data.onset.apply(lambda x: to_timestamp(x, acq_time))\n",
        "\n",
        "    return df_annotations_data\n",
        "\n",
        "\n",
        "def merge_data_file_and_annotations(data, df_annotations, annotation_desc_2_event_id, fs_new):\n",
        "    raw_data = data.get_data()\n",
        "    fs = int(data.info[\"sfreq\"])\n",
        "    labels = np.zeros(raw_data.shape[1])\n",
        "    for i in range(df_annotations.shape[0] - 1):\n",
        "        row_start = df_annotations.iloc[i]\n",
        "        row_end = df_annotations.iloc[i + 1]\n",
        "        start_pos = row_start.timestamp * fs\n",
        "        end_pos = row_end.timestamp * fs\n",
        "        if start_pos < labels.shape[0]:\n",
        "            labels[start_pos:end_pos] = annotation_desc_2_event_id[row_start.Event]\n",
        "    labels = labels[:raw_data.shape[-1]]\n",
        "    df_all_night = pd.DataFrame(raw_data.T, columns=data.info.ch_names)\n",
        "    df_all_night[\"times\"] = data.times\n",
        "    df_all_night[\"sleepstage\"] = labels\n",
        "\n",
        "    df_all_night = df_all_night[df_all_night.sleepstage != 0]\n",
        "    df = pd.DataFrame(data=subsample(df_all_night.to_numpy(), fs, fs_new), columns=df_all_night.columns)\n",
        "    return df\n"
      ],
      "execution_count": 5,
      "outputs": [
        {
          "output_type": "stream",
          "text": [
            "Requirement already satisfied: mne in /usr/local/lib/python3.6/dist-packages (0.22.0)\n",
            "Requirement already satisfied: numpy>=1.11.3 in /usr/local/lib/python3.6/dist-packages (from mne) (1.19.5)\n",
            "Requirement already satisfied: scipy>=0.17.1 in /usr/local/lib/python3.6/dist-packages (from mne) (1.4.1)\n"
          ],
          "name": "stdout"
        }
      ]
    },
    {
      "cell_type": "code",
      "metadata": {
        "colab": {
          "base_uri": "https://localhost:8080/",
          "height": 431
        },
        "id": "EjOVoTo9Lyr9",
        "outputId": "78091a08-121e-49ee-f389-c4cbefe3adfb"
      },
      "source": [
        "subject_name = 'n2'\n",
        "\n",
        "map_name_sleep_id = {'SLEEP-S0': 1, 'SLEEP-REM': 2, 'SLEEP-S1': 3,\n",
        "                     'SLEEP-S2': 4, 'SLEEP-S3': 5, 'SLEEP-S4': 5}\n",
        "              \n",
        "data_filename = f'{subject_name}.edf'\n",
        "filename_annotations = f'{subject_name}_annotations.csv'\n",
        "url_data = f'https://physionet.org/files/capslpdb/1.0.0/{subject_name}.edf?download'\n",
        "url_annotations = f'https://physionet.org/files/capslpdb/1.0.0/{subject_name}.txt?download'\n",
        "\n",
        "print(f'Downloading data file: {url_data}')\n",
        "urllib.request.urlretrieve(url_data, data_filename)\n",
        "\n",
        "print(f'Downloading annotations data file: {url_annotations}')\n",
        "urllib.request.urlretrieve(url_annotations, filename_annotations)\n",
        "\n",
        "\n",
        "print(f'Loading File: {data_filename}')\n",
        "data_polysomnography = mne.io.read_raw_edf(data_filename)\n",
        "\n",
        "print(f'Loading Annotations file: {filename_annotations}')\n",
        "df_annotations_polysomnography = read_annotation_file(filename_annotations, data_polysomnography.info[\"meas_date\"])\n",
        "\n",
        "print(\"\\n\\n Example Annotations file: \\n\")\n",
        "df_annotations_polysomnography.head(4)"
      ],
      "execution_count": 31,
      "outputs": [
        {
          "output_type": "stream",
          "text": [
            "Downloading data file: https://physionet.org/files/capslpdb/1.0.0/n2.edf?download\n",
            "Downloading annotations data file: https://physionet.org/files/capslpdb/1.0.0/n2.txt?download\n",
            "Loading File: n2.edf\n",
            "Extracting EDF parameters from /content/n2.edf...\n",
            "EDF file detected\n",
            "Setting channel info structure...\n",
            "Creating raw.info structure...\n",
            "Loading Annotations file: n2_annotations.csv\n",
            "\n",
            "\n",
            " Example Annotations file: \n",
            "\n"
          ],
          "name": "stdout"
        },
        {
          "output_type": "stream",
          "text": [
            "<ipython-input-31-a00e3277c014>:19: RuntimeWarning: Number of records from the header does not match the file size (perhaps the recording was not stopped before exiting). Inferring from the file size.\n",
            "  data_polysomnography = mne.io.read_raw_edf(data_filename)\n"
          ],
          "name": "stderr"
        },
        {
          "output_type": "execute_result",
          "data": {
            "text/html": [
              "<div>\n",
              "<style scoped>\n",
              "    .dataframe tbody tr th:only-of-type {\n",
              "        vertical-align: middle;\n",
              "    }\n",
              "\n",
              "    .dataframe tbody tr th {\n",
              "        vertical-align: top;\n",
              "    }\n",
              "\n",
              "    .dataframe thead th {\n",
              "        text-align: right;\n",
              "    }\n",
              "</style>\n",
              "<table border=\"1\" class=\"dataframe\">\n",
              "  <thead>\n",
              "    <tr style=\"text-align: right;\">\n",
              "      <th></th>\n",
              "      <th>Sleep Stage</th>\n",
              "      <th>onset</th>\n",
              "      <th>Event</th>\n",
              "      <th>duration</th>\n",
              "      <th>Location</th>\n",
              "      <th>timestamp</th>\n",
              "    </tr>\n",
              "  </thead>\n",
              "  <tbody>\n",
              "    <tr>\n",
              "      <th>0</th>\n",
              "      <td>W</td>\n",
              "      <td>22:19:06</td>\n",
              "      <td>SLEEP-S0</td>\n",
              "      <td>30</td>\n",
              "      <td>ROC-LOC</td>\n",
              "      <td>11220</td>\n",
              "    </tr>\n",
              "    <tr>\n",
              "      <th>1</th>\n",
              "      <td>W</td>\n",
              "      <td>22:19:36</td>\n",
              "      <td>SLEEP-S0</td>\n",
              "      <td>30</td>\n",
              "      <td>ROC-LOC</td>\n",
              "      <td>11250</td>\n",
              "    </tr>\n",
              "    <tr>\n",
              "      <th>2</th>\n",
              "      <td>W</td>\n",
              "      <td>22:20:06</td>\n",
              "      <td>SLEEP-S0</td>\n",
              "      <td>30</td>\n",
              "      <td>ROC-LOC</td>\n",
              "      <td>11280</td>\n",
              "    </tr>\n",
              "    <tr>\n",
              "      <th>3</th>\n",
              "      <td>W</td>\n",
              "      <td>22:20:36</td>\n",
              "      <td>SLEEP-S0</td>\n",
              "      <td>30</td>\n",
              "      <td>ROC-LOC</td>\n",
              "      <td>11310</td>\n",
              "    </tr>\n",
              "  </tbody>\n",
              "</table>\n",
              "</div>"
            ],
            "text/plain": [
              "  Sleep Stage     onset     Event  duration Location  timestamp\n",
              "0           W  22:19:06  SLEEP-S0        30  ROC-LOC      11220\n",
              "1           W  22:19:36  SLEEP-S0        30  ROC-LOC      11250\n",
              "2           W  22:20:06  SLEEP-S0        30  ROC-LOC      11280\n",
              "3           W  22:20:36  SLEEP-S0        30  ROC-LOC      11310"
            ]
          },
          "metadata": {
            "tags": []
          },
          "execution_count": 31
        }
      ]
    },
    {
      "cell_type": "markdown",
      "metadata": {
        "id": "eDoOJSExXzR_"
      },
      "source": [
        "## Downsample data and store data into a csv format"
      ]
    },
    {
      "cell_type": "code",
      "metadata": {
        "colab": {
          "base_uri": "https://localhost:8080/",
          "height": 312
        },
        "id": "lXmrfWr_Xxw5",
        "outputId": "e0f8bf06-cea6-47ad-fcb9-11bdf266372e"
      },
      "source": [
        "# New frequency\n",
        "fs_new = 64\n",
        "new_filename = f'{subject_name}_data_and_annotations.csv'\n",
        "print(f'Merge files annotation and polysomnography data. Downsampling data from {data_polysomnography.info[\"sfreq\"]} to {fs_new} Hz')\n",
        "df_data = merge_data_file_and_annotations(data_polysomnography, df_annotations_polysomnography, map_name_sleep_id, fs_new)\n",
        "df_data.to_csv(new_filename)\n",
        "\n",
        "print(\"Data Merged\")\n",
        "df_data.head(4)"
      ],
      "execution_count": 27,
      "outputs": [
        {
          "output_type": "stream",
          "text": [
            "Merge files annotation and polysomnography data. Downsampling data from 512.0 to 64 Hz\n",
            "Data Merged\n"
          ],
          "name": "stdout"
        },
        {
          "output_type": "execute_result",
          "data": {
            "text/html": [
              "<div>\n",
              "<style scoped>\n",
              "    .dataframe tbody tr th:only-of-type {\n",
              "        vertical-align: middle;\n",
              "    }\n",
              "\n",
              "    .dataframe tbody tr th {\n",
              "        vertical-align: top;\n",
              "    }\n",
              "\n",
              "    .dataframe thead th {\n",
              "        text-align: right;\n",
              "    }\n",
              "</style>\n",
              "<table border=\"1\" class=\"dataframe\">\n",
              "  <thead>\n",
              "    <tr style=\"text-align: right;\">\n",
              "      <th></th>\n",
              "      <th>Fp2-F4</th>\n",
              "      <th>F4-C4</th>\n",
              "      <th>C4-P4</th>\n",
              "      <th>P4-O2</th>\n",
              "      <th>C4-A1</th>\n",
              "      <th>ROC-LOC</th>\n",
              "      <th>EMG1-EMG2</th>\n",
              "      <th>ECG1-ECG2</th>\n",
              "      <th>DX1-DX2</th>\n",
              "      <th>SX1-SX2</th>\n",
              "      <th>SAO2</th>\n",
              "      <th>HR</th>\n",
              "      <th>PLETH</th>\n",
              "      <th>STAT</th>\n",
              "      <th>MIC</th>\n",
              "      <th>times</th>\n",
              "      <th>sleepstage</th>\n",
              "    </tr>\n",
              "  </thead>\n",
              "  <tbody>\n",
              "    <tr>\n",
              "      <th>0</th>\n",
              "      <td>0.000044</td>\n",
              "      <td>0.000053</td>\n",
              "      <td>0.000056</td>\n",
              "      <td>-0.000022</td>\n",
              "      <td>-0.000059</td>\n",
              "      <td>-1.205506e-05</td>\n",
              "      <td>8.392846e-07</td>\n",
              "      <td>0.000005</td>\n",
              "      <td>1.007326e-06</td>\n",
              "      <td>-0.000023</td>\n",
              "      <td>94.018463</td>\n",
              "      <td>88.068971</td>\n",
              "      <td>-0.050029</td>\n",
              "      <td>0.0</td>\n",
              "      <td>-0.000005</td>\n",
              "      <td>11220.000000</td>\n",
              "      <td>1.0</td>\n",
              "    </tr>\n",
              "    <tr>\n",
              "      <th>1</th>\n",
              "      <td>0.000044</td>\n",
              "      <td>0.000052</td>\n",
              "      <td>0.000051</td>\n",
              "      <td>-0.000030</td>\n",
              "      <td>-0.000040</td>\n",
              "      <td>-6.042789e-06</td>\n",
              "      <td>-2.548373e-06</td>\n",
              "      <td>-0.000085</td>\n",
              "      <td>9.157509e-07</td>\n",
              "      <td>0.000024</td>\n",
              "      <td>94.018463</td>\n",
              "      <td>88.068971</td>\n",
              "      <td>-0.057674</td>\n",
              "      <td>0.0</td>\n",
              "      <td>0.000002</td>\n",
              "      <td>11220.015625</td>\n",
              "      <td>1.0</td>\n",
              "    </tr>\n",
              "    <tr>\n",
              "      <th>2</th>\n",
              "      <td>0.000042</td>\n",
              "      <td>0.000056</td>\n",
              "      <td>0.000053</td>\n",
              "      <td>-0.000032</td>\n",
              "      <td>-0.000077</td>\n",
              "      <td>-7.996014e-06</td>\n",
              "      <td>-5.447720e-06</td>\n",
              "      <td>-0.000015</td>\n",
              "      <td>3.052503e-07</td>\n",
              "      <td>0.000012</td>\n",
              "      <td>94.018463</td>\n",
              "      <td>88.068971</td>\n",
              "      <td>-0.061092</td>\n",
              "      <td>0.0</td>\n",
              "      <td>0.000002</td>\n",
              "      <td>11220.031250</td>\n",
              "      <td>1.0</td>\n",
              "    </tr>\n",
              "    <tr>\n",
              "      <th>3</th>\n",
              "      <td>0.000045</td>\n",
              "      <td>0.000064</td>\n",
              "      <td>0.000058</td>\n",
              "      <td>-0.000038</td>\n",
              "      <td>-0.000059</td>\n",
              "      <td>2.441531e-07</td>\n",
              "      <td>1.571751e-06</td>\n",
              "      <td>-0.000060</td>\n",
              "      <td>1.770452e-06</td>\n",
              "      <td>-0.000006</td>\n",
              "      <td>94.018463</td>\n",
              "      <td>88.068971</td>\n",
              "      <td>-0.058833</td>\n",
              "      <td>0.0</td>\n",
              "      <td>0.000002</td>\n",
              "      <td>11220.046875</td>\n",
              "      <td>1.0</td>\n",
              "    </tr>\n",
              "  </tbody>\n",
              "</table>\n",
              "</div>"
            ],
            "text/plain": [
              "     Fp2-F4     F4-C4     C4-P4  ...       MIC         times  sleepstage\n",
              "0  0.000044  0.000053  0.000056  ... -0.000005  11220.000000         1.0\n",
              "1  0.000044  0.000052  0.000051  ...  0.000002  11220.015625         1.0\n",
              "2  0.000042  0.000056  0.000053  ...  0.000002  11220.031250         1.0\n",
              "3  0.000045  0.000064  0.000058  ...  0.000002  11220.046875         1.0\n",
              "\n",
              "[4 rows x 17 columns]"
            ]
          },
          "metadata": {
            "tags": []
          },
          "execution_count": 27
        }
      ]
    },
    {
      "cell_type": "code",
      "metadata": {
        "colab": {
          "base_uri": "https://localhost:8080/",
          "height": 279
        },
        "id": "an8qXUlOYur1",
        "outputId": "b9760fe6-8dda-4615-d8d2-29e5767a9d30"
      },
      "source": [
        "import matplotlib.pyplot as plt\n",
        "_ = plt.plot(df_data.times/3600, df_data.sleepstage)\n",
        "_ = plt.xlabel(\"Time (h)\")\n",
        "_ = plt.ylabel(\"ID Stage\")"
      ],
      "execution_count": 35,
      "outputs": [
        {
          "output_type": "display_data",
          "data": {
            "image/png": "[encoded data removed]",
            "text/plain": [
              "<Figure size 432x288 with 1 Axes>"
            ]
          },
          "metadata": {
            "tags": [],
            "needs_background": "light"
          }
        }
      ]
    },
    {
      "cell_type": "markdown",
      "metadata": {
        "id": "7i3LCJN_aW3H"
      },
      "source": [
        "## Load CSV"
      ]
    },
    {
      "cell_type": "code",
      "metadata": {
        "colab": {
          "base_uri": "https://localhost:8080/",
          "height": 278
        },
        "id": "_3CydTSnabMw",
        "outputId": "324f6b68-2e79-45c5-e64e-e5493acf1e70"
      },
      "source": [
        "df = pd.read_csv(new_filename)\n",
        "df.head(4)"
      ],
      "execution_count": 26,
      "outputs": [
        {
          "output_type": "execute_result",
          "data": {
            "text/html": [
              "<div>\n",
              "<style scoped>\n",
              "    .dataframe tbody tr th:only-of-type {\n",
              "        vertical-align: middle;\n",
              "    }\n",
              "\n",
              "    .dataframe tbody tr th {\n",
              "        vertical-align: top;\n",
              "    }\n",
              "\n",
              "    .dataframe thead th {\n",
              "        text-align: right;\n",
              "    }\n",
              "</style>\n",
              "<table border=\"1\" class=\"dataframe\">\n",
              "  <thead>\n",
              "    <tr style=\"text-align: right;\">\n",
              "      <th></th>\n",
              "      <th>Unnamed: 0</th>\n",
              "      <th>Fp2-F4</th>\n",
              "      <th>F4-C4</th>\n",
              "      <th>C4-P4</th>\n",
              "      <th>P4-O2</th>\n",
              "      <th>C4-A1</th>\n",
              "      <th>ROC-LOC</th>\n",
              "      <th>EMG1-EMG2</th>\n",
              "      <th>ECG1-ECG2</th>\n",
              "      <th>DX1-DX2</th>\n",
              "      <th>SX1-SX2</th>\n",
              "      <th>SAO2</th>\n",
              "      <th>HR</th>\n",
              "      <th>PLETH</th>\n",
              "      <th>STAT</th>\n",
              "      <th>MIC</th>\n",
              "      <th>times</th>\n",
              "      <th>sleepstage</th>\n",
              "    </tr>\n",
              "  </thead>\n",
              "  <tbody>\n",
              "    <tr>\n",
              "      <th>0</th>\n",
              "      <td>0</td>\n",
              "      <td>0.000044</td>\n",
              "      <td>0.000053</td>\n",
              "      <td>0.000056</td>\n",
              "      <td>-0.000022</td>\n",
              "      <td>-0.000059</td>\n",
              "      <td>-1.205506e-05</td>\n",
              "      <td>8.392846e-07</td>\n",
              "      <td>0.000005</td>\n",
              "      <td>1.007326e-06</td>\n",
              "      <td>-0.000023</td>\n",
              "      <td>94.018463</td>\n",
              "      <td>88.068971</td>\n",
              "      <td>-0.050029</td>\n",
              "      <td>0.0</td>\n",
              "      <td>-0.000005</td>\n",
              "      <td>11220.000000</td>\n",
              "      <td>1.0</td>\n",
              "    </tr>\n",
              "    <tr>\n",
              "      <th>1</th>\n",
              "      <td>1</td>\n",
              "      <td>0.000044</td>\n",
              "      <td>0.000052</td>\n",
              "      <td>0.000051</td>\n",
              "      <td>-0.000030</td>\n",
              "      <td>-0.000040</td>\n",
              "      <td>-6.042789e-06</td>\n",
              "      <td>-2.548373e-06</td>\n",
              "      <td>-0.000085</td>\n",
              "      <td>9.157509e-07</td>\n",
              "      <td>0.000024</td>\n",
              "      <td>94.018463</td>\n",
              "      <td>88.068971</td>\n",
              "      <td>-0.057674</td>\n",
              "      <td>0.0</td>\n",
              "      <td>0.000002</td>\n",
              "      <td>11220.015625</td>\n",
              "      <td>1.0</td>\n",
              "    </tr>\n",
              "    <tr>\n",
              "      <th>2</th>\n",
              "      <td>2</td>\n",
              "      <td>0.000042</td>\n",
              "      <td>0.000056</td>\n",
              "      <td>0.000053</td>\n",
              "      <td>-0.000032</td>\n",
              "      <td>-0.000077</td>\n",
              "      <td>-7.996014e-06</td>\n",
              "      <td>-5.447720e-06</td>\n",
              "      <td>-0.000015</td>\n",
              "      <td>3.052503e-07</td>\n",
              "      <td>0.000012</td>\n",
              "      <td>94.018463</td>\n",
              "      <td>88.068971</td>\n",
              "      <td>-0.061092</td>\n",
              "      <td>0.0</td>\n",
              "      <td>0.000002</td>\n",
              "      <td>11220.031250</td>\n",
              "      <td>1.0</td>\n",
              "    </tr>\n",
              "    <tr>\n",
              "      <th>3</th>\n",
              "      <td>3</td>\n",
              "      <td>0.000045</td>\n",
              "      <td>0.000064</td>\n",
              "      <td>0.000058</td>\n",
              "      <td>-0.000038</td>\n",
              "      <td>-0.000059</td>\n",
              "      <td>2.441531e-07</td>\n",
              "      <td>1.571751e-06</td>\n",
              "      <td>-0.000060</td>\n",
              "      <td>1.770452e-06</td>\n",
              "      <td>-0.000006</td>\n",
              "      <td>94.018463</td>\n",
              "      <td>88.068971</td>\n",
              "      <td>-0.058833</td>\n",
              "      <td>0.0</td>\n",
              "      <td>0.000002</td>\n",
              "      <td>11220.046875</td>\n",
              "      <td>1.0</td>\n",
              "    </tr>\n",
              "  </tbody>\n",
              "</table>\n",
              "</div>"
            ],
            "text/plain": [
              "   Unnamed: 0    Fp2-F4     F4-C4  ...       MIC         times  sleepstage\n",
              "0           0  0.000044  0.000053  ... -0.000005  11220.000000         1.0\n",
              "1           1  0.000044  0.000052  ...  0.000002  11220.015625         1.0\n",
              "2           2  0.000042  0.000056  ...  0.000002  11220.031250         1.0\n",
              "3           3  0.000045  0.000064  ...  0.000002  11220.046875         1.0\n",
              "\n",
              "[4 rows x 18 columns]"
            ]
          },
          "metadata": {
            "tags": []
          },
          "execution_count": 26
        }
      ]
    }
  ]
}