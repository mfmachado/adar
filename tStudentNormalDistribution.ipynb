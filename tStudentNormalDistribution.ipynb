{
 "cells": [
  {
   "cell_type": "code",
   "execution_count": 1,
   "id": "collaborative-bhutan",
   "metadata": {},
   "outputs": [
    {
     "data": {
      "application/vnd.jupyter.widget-view+json": {
       "model_id": "ee985885524e46a6ab3941ae27c3f1a7",
       "version_major": 2,
       "version_minor": 0
      },
      "text/plain": [
       "interactive(children=(IntSlider(value=5, description='degrees', min=5), IntSlider(value=10000, description='nu…"
      ]
     },
     "metadata": {},
     "output_type": "display_data"
    }
   ],
   "source": [
    "#@title\n",
    "import numpy as np\n",
    "import matplotlib.pyplot as plt\n",
    "from ipywidgets import interact, interactive, fixed, interact_manual\n",
    "import ipywidgets as widgets\n",
    "\n",
    "def plot_t_and_normal_distribution(degrees, number_samples):\n",
    "    # Generate t- and standard- distributions\n",
    "    t_distribution = np.random.standard_t(degrees, number_samples)\n",
    "    s_distribution = np.random.normal(0, 1, number_samples)\n",
    "    # Plot distributions\n",
    "    _ = plt.hist(t_distribution, bins=100, alpha=0.5, label=\"t-student distribution\")\n",
    "    _ = plt.hist(s_distribution, bins=100, alpha=0.5, label=\"normal distribution\")\n",
    "    _ = plt.legend(loc=2)\n",
    "    plt.xlim(-15, 15)\n",
    "    \n",
    "\n",
    "interact(plot_t_and_normal_distribution, \n",
    "         degrees=widgets.IntSlider(5, min=5, max=100), \n",
    "         number_samples=widgets.IntSlider(10000, min=1000, max=100000, step=1000));"
   ]
  },
  {
   "cell_type": "code",
   "execution_count": null,
   "id": "exempt-section",
   "metadata": {},
   "outputs": [],
   "source": []
  }
 ],
 "metadata": {
  "kernelspec": {
   "display_name": "Python 3",
   "language": "python",
   "name": "python3"
  },
  "language_info": {
   "codemirror_mode": {
    "name": "ipython",
    "version": 3
   },
   "file_extension": ".py",
   "mimetype": "text/x-python",
   "name": "python",
   "nbconvert_exporter": "python",
   "pygments_lexer": "ipython3",
   "version": "3.8.5"
  }
 },
 "nbformat": 4,
 "nbformat_minor": 5
}
