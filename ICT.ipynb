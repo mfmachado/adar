{
  "nbformat": 4,
  "nbformat_minor": 0,
  "metadata": {
    "colab": {
      "name": "ICT.ipynb",
      "provenance": [],
      "collapsed_sections": [],
      "toc_visible": true,
      "authorship_tag": "ABX9TyPirE+tN0OoA2hbDwaQyNw+",
      "include_colab_link": true
    },
    "kernelspec": {
      "name": "python3",
      "display_name": "Python 3"
    },
    "language_info": {
      "name": "python"
    },
    "widgets": {
      "application/vnd.jupyter.widget-state+json": {
        "9b5e20cf45364254968e839214816f32": {
          "model_module": "@jupyter-widgets/controls",
          "model_name": "VBoxModel",
          "model_module_version": "1.5.0",
          "state": {
            "_dom_classes": [
              "widget-interact"
            ],
            "_model_module": "@jupyter-widgets/controls",
            "_model_module_version": "1.5.0",
            "_model_name": "VBoxModel",
            "_view_count": null,
            "_view_module": "@jupyter-widgets/controls",
            "_view_module_version": "1.5.0",
            "_view_name": "VBoxView",
            "box_style": "",
            "children": [
              "IPY_MODEL_7d4d8a4379754422a9ab85b5bd85596c",
              "IPY_MODEL_815962283275428f884845fa037ae4b2",
              "IPY_MODEL_dc18c10bd9c946d3ad5c6ced91b4b85e"
            ],
            "layout": "IPY_MODEL_39bb0eb8f55842da99ba6c468e372c98"
          }
        },
        "7d4d8a4379754422a9ab85b5bd85596c": {
          "model_module": "@jupyter-widgets/controls",
          "model_name": "FloatTextModel",
          "model_module_version": "1.5.0",
          "state": {
            "_dom_classes": [],
            "_model_module": "@jupyter-widgets/controls",
            "_model_module_version": "1.5.0",
            "_model_name": "FloatTextModel",
            "_view_count": null,
            "_view_module": "@jupyter-widgets/controls",
            "_view_module_version": "1.5.0",
            "_view_name": "FloatTextView",
            "continuous_update": false,
            "description": "m",
            "description_tooltip": null,
            "disabled": false,
            "layout": "IPY_MODEL_db70d7d62be841c0b01c746ddca0b3f3",
            "step": null,
            "style": "IPY_MODEL_ebcff6fa776743e1a066ddbe545c6742",
            "value": 0
          }
        },
        "815962283275428f884845fa037ae4b2": {
          "model_module": "@jupyter-widgets/controls",
          "model_name": "FloatTextModel",
          "model_module_version": "1.5.0",
          "state": {
            "_dom_classes": [],
            "_model_module": "@jupyter-widgets/controls",
            "_model_module_version": "1.5.0",
            "_model_name": "FloatTextModel",
            "_view_count": null,
            "_view_module": "@jupyter-widgets/controls",
            "_view_module_version": "1.5.0",
            "_view_name": "FloatTextView",
            "continuous_update": false,
            "description": "b",
            "description_tooltip": null,
            "disabled": false,
            "layout": "IPY_MODEL_72d2c7baf16c4b528cb10646638c3d7f",
            "step": null,
            "style": "IPY_MODEL_aa8aed0a98de4f5aafd95a1aafb7cb16",
            "value": 0
          }
        },
        "dc18c10bd9c946d3ad5c6ced91b4b85e": {
          "model_module": "@jupyter-widgets/output",
          "model_name": "OutputModel",
          "model_module_version": "1.0.0",
          "state": {
            "_dom_classes": [],
            "_model_module": "@jupyter-widgets/output",
            "_model_module_version": "1.0.0",
            "_model_name": "OutputModel",
            "_view_count": null,
            "_view_module": "@jupyter-widgets/output",
            "_view_module_version": "1.0.0",
            "_view_name": "OutputView",
            "layout": "IPY_MODEL_773bb253e92e42d4abd93bc5e5323333",
            "msg_id": "",
            "outputs": [
              {
                "output_type": "stream",
                "name": "stdout",
                "text": [
                  "\n",
                  "Wrong, give it another try!\n",
                  "\n"
                ]
              },
              {
                "output_type": "display_data",
                "data": {
                  "text/plain": "<Figure size 432x288 with 1 Axes>",
                  "image/png": "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\n"
                },
                "metadata": {
                  "needs_background": "light"
                }
              },
              {
                "output_type": "display_data",
                "data": {
                  "text/plain": "False"
                },
                "metadata": {}
              }
            ]
          }
        },
        "39bb0eb8f55842da99ba6c468e372c98": {
          "model_module": "@jupyter-widgets/base",
          "model_name": "LayoutModel",
          "model_module_version": "1.2.0",
          "state": {
            "_model_module": "@jupyter-widgets/base",
            "_model_module_version": "1.2.0",
            "_model_name": "LayoutModel",
            "_view_count": null,
            "_view_module": "@jupyter-widgets/base",
            "_view_module_version": "1.2.0",
            "_view_name": "LayoutView",
            "align_content": null,
            "align_items": null,
            "align_self": null,
            "border": null,
            "bottom": null,
            "display": null,
            "flex": null,
            "flex_flow": null,
            "grid_area": null,
            "grid_auto_columns": null,
            "grid_auto_flow": null,
            "grid_auto_rows": null,
            "grid_column": null,
            "grid_gap": null,
            "grid_row": null,
            "grid_template_areas": null,
            "grid_template_columns": null,
            "grid_template_rows": null,
            "height": null,
            "justify_content": null,
            "justify_items": null,
            "left": null,
            "margin": null,
            "max_height": null,
            "max_width": null,
            "min_height": null,
            "min_width": null,
            "object_fit": null,
            "object_position": null,
            "order": null,
            "overflow": null,
            "overflow_x": null,
            "overflow_y": null,
            "padding": null,
            "right": null,
            "top": null,
            "visibility": null,
            "width": null
          }
        },
        "db70d7d62be841c0b01c746ddca0b3f3": {
          "model_module": "@jupyter-widgets/base",
          "model_name": "LayoutModel",
          "model_module_version": "1.2.0",
          "state": {
            "_model_module": "@jupyter-widgets/base",
            "_model_module_version": "1.2.0",
            "_model_name": "LayoutModel",
            "_view_count": null,
            "_view_module": "@jupyter-widgets/base",
            "_view_module_version": "1.2.0",
            "_view_name": "LayoutView",
            "align_content": null,
            "align_items": null,
            "align_self": null,
            "border": null,
            "bottom": null,
            "display": null,
            "flex": null,
            "flex_flow": null,
            "grid_area": null,
            "grid_auto_columns": null,
            "grid_auto_flow": null,
            "grid_auto_rows": null,
            "grid_column": null,
            "grid_gap": null,
            "grid_row": null,
            "grid_template_areas": null,
            "grid_template_columns": null,
            "grid_template_rows": null,
            "height": null,
            "justify_content": null,
            "justify_items": null,
            "left": null,
            "margin": null,
            "max_height": null,
            "max_width": null,
            "min_height": null,
            "min_width": null,
            "object_fit": null,
            "object_position": null,
            "order": null,
            "overflow": null,
            "overflow_x": null,
            "overflow_y": null,
            "padding": null,
            "right": null,
            "top": null,
            "visibility": null,
            "width": null
          }
        },
        "ebcff6fa776743e1a066ddbe545c6742": {
          "model_module": "@jupyter-widgets/controls",
          "model_name": "DescriptionStyleModel",
          "model_module_version": "1.5.0",
          "state": {
            "_model_module": "@jupyter-widgets/controls",
            "_model_module_version": "1.5.0",
            "_model_name": "DescriptionStyleModel",
            "_view_count": null,
            "_view_module": "@jupyter-widgets/base",
            "_view_module_version": "1.2.0",
            "_view_name": "StyleView",
            "description_width": ""
          }
        },
        "72d2c7baf16c4b528cb10646638c3d7f": {
          "model_module": "@jupyter-widgets/base",
          "model_name": "LayoutModel",
          "model_module_version": "1.2.0",
          "state": {
            "_model_module": "@jupyter-widgets/base",
            "_model_module_version": "1.2.0",
            "_model_name": "LayoutModel",
            "_view_count": null,
            "_view_module": "@jupyter-widgets/base",
            "_view_module_version": "1.2.0",
            "_view_name": "LayoutView",
            "align_content": null,
            "align_items": null,
            "align_self": null,
            "border": null,
            "bottom": null,
            "display": null,
            "flex": null,
            "flex_flow": null,
            "grid_area": null,
            "grid_auto_columns": null,
            "grid_auto_flow": null,
            "grid_auto_rows": null,
            "grid_column": null,
            "grid_gap": null,
            "grid_row": null,
            "grid_template_areas": null,
            "grid_template_columns": null,
            "grid_template_rows": null,
            "height": null,
            "justify_content": null,
            "justify_items": null,
            "left": null,
            "margin": null,
            "max_height": null,
            "max_width": null,
            "min_height": null,
            "min_width": null,
            "object_fit": null,
            "object_position": null,
            "order": null,
            "overflow": null,
            "overflow_x": null,
            "overflow_y": null,
            "padding": null,
            "right": null,
            "top": null,
            "visibility": null,
            "width": null
          }
        },
        "aa8aed0a98de4f5aafd95a1aafb7cb16": {
          "model_module": "@jupyter-widgets/controls",
          "model_name": "DescriptionStyleModel",
          "model_module_version": "1.5.0",
          "state": {
            "_model_module": "@jupyter-widgets/controls",
            "_model_module_version": "1.5.0",
            "_model_name": "DescriptionStyleModel",
            "_view_count": null,
            "_view_module": "@jupyter-widgets/base",
            "_view_module_version": "1.2.0",
            "_view_name": "StyleView",
            "description_width": ""
          }
        },
        "773bb253e92e42d4abd93bc5e5323333": {
          "model_module": "@jupyter-widgets/base",
          "model_name": "LayoutModel",
          "model_module_version": "1.2.0",
          "state": {
            "_model_module": "@jupyter-widgets/base",
            "_model_module_version": "1.2.0",
            "_model_name": "LayoutModel",
            "_view_count": null,
            "_view_module": "@jupyter-widgets/base",
            "_view_module_version": "1.2.0",
            "_view_name": "LayoutView",
            "align_content": null,
            "align_items": null,
            "align_self": null,
            "border": null,
            "bottom": null,
            "display": null,
            "flex": null,
            "flex_flow": null,
            "grid_area": null,
            "grid_auto_columns": null,
            "grid_auto_flow": null,
            "grid_auto_rows": null,
            "grid_column": null,
            "grid_gap": null,
            "grid_row": null,
            "grid_template_areas": null,
            "grid_template_columns": null,
            "grid_template_rows": null,
            "height": null,
            "justify_content": null,
            "justify_items": null,
            "left": null,
            "margin": null,
            "max_height": null,
            "max_width": null,
            "min_height": null,
            "min_width": null,
            "object_fit": null,
            "object_position": null,
            "order": null,
            "overflow": null,
            "overflow_x": null,
            "overflow_y": null,
            "padding": null,
            "right": null,
            "top": null,
            "visibility": null,
            "width": null
          }
        },
        "1545f9cd7aaa48928698237271b23cc1": {
          "model_module": "@jupyter-widgets/controls",
          "model_name": "VBoxModel",
          "model_module_version": "1.5.0",
          "state": {
            "_dom_classes": [
              "widget-interact"
            ],
            "_model_module": "@jupyter-widgets/controls",
            "_model_module_version": "1.5.0",
            "_model_name": "VBoxModel",
            "_view_count": null,
            "_view_module": "@jupyter-widgets/controls",
            "_view_module_version": "1.5.0",
            "_view_name": "VBoxView",
            "box_style": "",
            "children": [
              "IPY_MODEL_926b9282f8af4454822bed5e62c38079",
              "IPY_MODEL_6c6b97bc68fe4c4893ecdc34fe28dbde",
              "IPY_MODEL_db668537fd924cdf8ec9bc20d14cf794"
            ],
            "layout": "IPY_MODEL_50b5a194ee754112804a2dd21937f9c2"
          }
        },
        "926b9282f8af4454822bed5e62c38079": {
          "model_module": "@jupyter-widgets/controls",
          "model_name": "FloatSliderModel",
          "model_module_version": "1.5.0",
          "state": {
            "_dom_classes": [],
            "_model_module": "@jupyter-widgets/controls",
            "_model_module_version": "1.5.0",
            "_model_name": "FloatSliderModel",
            "_view_count": null,
            "_view_module": "@jupyter-widgets/controls",
            "_view_module_version": "1.5.0",
            "_view_name": "FloatSliderView",
            "continuous_update": true,
            "description": "m",
            "description_tooltip": null,
            "disabled": false,
            "layout": "IPY_MODEL_607fabcf60ed4bdab3f47c1151465c02",
            "max": 0.3,
            "min": -0.045,
            "orientation": "horizontal",
            "readout": true,
            "readout_format": ".2f",
            "step": 0.005,
            "style": "IPY_MODEL_9624084dca0f4967b338dcb79b553a70",
            "value": 0.3
          }
        },
        "6c6b97bc68fe4c4893ecdc34fe28dbde": {
          "model_module": "@jupyter-widgets/controls",
          "model_name": "FloatSliderModel",
          "model_module_version": "1.5.0",
          "state": {
            "_dom_classes": [],
            "_model_module": "@jupyter-widgets/controls",
            "_model_module_version": "1.5.0",
            "_model_name": "FloatSliderModel",
            "_view_count": null,
            "_view_module": "@jupyter-widgets/controls",
            "_view_module_version": "1.5.0",
            "_view_name": "FloatSliderView",
            "continuous_update": true,
            "description": "b",
            "description_tooltip": null,
            "disabled": false,
            "layout": "IPY_MODEL_d7a6f3bf24dc4a0e91b16af5a9647bbb",
            "max": 0.51,
            "min": -2.9,
            "orientation": "horizontal",
            "readout": true,
            "readout_format": ".2f",
            "step": 0.1,
            "style": "IPY_MODEL_8083132a7ea34eb1a741a9c421dfa96a",
            "value": -2.9
          }
        },
        "db668537fd924cdf8ec9bc20d14cf794": {
          "model_module": "@jupyter-widgets/output",
          "model_name": "OutputModel",
          "model_module_version": "1.0.0",
          "state": {
            "_dom_classes": [],
            "_model_module": "@jupyter-widgets/output",
            "_model_module_version": "1.0.0",
            "_model_name": "OutputModel",
            "_view_count": null,
            "_view_module": "@jupyter-widgets/output",
            "_view_module_version": "1.0.0",
            "_view_name": "OutputView",
            "layout": "IPY_MODEL_982947b44fdd4a4da77aeb7461d99437",
            "msg_id": "",
            "outputs": [
              {
                "output_type": "display_data",
                "data": {
                  "text/plain": "<Figure size 432x288 with 1 Axes>",
                  "image/png": "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\n"
                },
                "metadata": {
                  "needs_background": "light"
                }
              }
            ]
          }
        },
        "50b5a194ee754112804a2dd21937f9c2": {
          "model_module": "@jupyter-widgets/base",
          "model_name": "LayoutModel",
          "model_module_version": "1.2.0",
          "state": {
            "_model_module": "@jupyter-widgets/base",
            "_model_module_version": "1.2.0",
            "_model_name": "LayoutModel",
            "_view_count": null,
            "_view_module": "@jupyter-widgets/base",
            "_view_module_version": "1.2.0",
            "_view_name": "LayoutView",
            "align_content": null,
            "align_items": null,
            "align_self": null,
            "border": null,
            "bottom": null,
            "display": null,
            "flex": null,
            "flex_flow": null,
            "grid_area": null,
            "grid_auto_columns": null,
            "grid_auto_flow": null,
            "grid_auto_rows": null,
            "grid_column": null,
            "grid_gap": null,
            "grid_row": null,
            "grid_template_areas": null,
            "grid_template_columns": null,
            "grid_template_rows": null,
            "height": null,
            "justify_content": null,
            "justify_items": null,
            "left": null,
            "margin": null,
            "max_height": null,
            "max_width": null,
            "min_height": null,
            "min_width": null,
            "object_fit": null,
            "object_position": null,
            "order": null,
            "overflow": null,
            "overflow_x": null,
            "overflow_y": null,
            "padding": null,
            "right": null,
            "top": null,
            "visibility": null,
            "width": null
          }
        },
        "607fabcf60ed4bdab3f47c1151465c02": {
          "model_module": "@jupyter-widgets/base",
          "model_name": "LayoutModel",
          "model_module_version": "1.2.0",
          "state": {
            "_model_module": "@jupyter-widgets/base",
            "_model_module_version": "1.2.0",
            "_model_name": "LayoutModel",
            "_view_count": null,
            "_view_module": "@jupyter-widgets/base",
            "_view_module_version": "1.2.0",
            "_view_name": "LayoutView",
            "align_content": null,
            "align_items": null,
            "align_self": null,
            "border": null,
            "bottom": null,
            "display": null,
            "flex": null,
            "flex_flow": null,
            "grid_area": null,
            "grid_auto_columns": null,
            "grid_auto_flow": null,
            "grid_auto_rows": null,
            "grid_column": null,
            "grid_gap": null,
            "grid_row": null,
            "grid_template_areas": null,
            "grid_template_columns": null,
            "grid_template_rows": null,
            "height": null,
            "justify_content": null,
            "justify_items": null,
            "left": null,
            "margin": null,
            "max_height": null,
            "max_width": null,
            "min_height": null,
            "min_width": null,
            "object_fit": null,
            "object_position": null,
            "order": null,
            "overflow": null,
            "overflow_x": null,
            "overflow_y": null,
            "padding": null,
            "right": null,
            "top": null,
            "visibility": null,
            "width": null
          }
        },
        "9624084dca0f4967b338dcb79b553a70": {
          "model_module": "@jupyter-widgets/controls",
          "model_name": "SliderStyleModel",
          "model_module_version": "1.5.0",
          "state": {
            "_model_module": "@jupyter-widgets/controls",
            "_model_module_version": "1.5.0",
            "_model_name": "SliderStyleModel",
            "_view_count": null,
            "_view_module": "@jupyter-widgets/base",
            "_view_module_version": "1.2.0",
            "_view_name": "StyleView",
            "description_width": "",
            "handle_color": null
          }
        },
        "d7a6f3bf24dc4a0e91b16af5a9647bbb": {
          "model_module": "@jupyter-widgets/base",
          "model_name": "LayoutModel",
          "model_module_version": "1.2.0",
          "state": {
            "_model_module": "@jupyter-widgets/base",
            "_model_module_version": "1.2.0",
            "_model_name": "LayoutModel",
            "_view_count": null,
            "_view_module": "@jupyter-widgets/base",
            "_view_module_version": "1.2.0",
            "_view_name": "LayoutView",
            "align_content": null,
            "align_items": null,
            "align_self": null,
            "border": null,
            "bottom": null,
            "display": null,
            "flex": null,
            "flex_flow": null,
            "grid_area": null,
            "grid_auto_columns": null,
            "grid_auto_flow": null,
            "grid_auto_rows": null,
            "grid_column": null,
            "grid_gap": null,
            "grid_row": null,
            "grid_template_areas": null,
            "grid_template_columns": null,
            "grid_template_rows": null,
            "height": null,
            "justify_content": null,
            "justify_items": null,
            "left": null,
            "margin": null,
            "max_height": null,
            "max_width": null,
            "min_height": null,
            "min_width": null,
            "object_fit": null,
            "object_position": null,
            "order": null,
            "overflow": null,
            "overflow_x": null,
            "overflow_y": null,
            "padding": null,
            "right": null,
            "top": null,
            "visibility": null,
            "width": null
          }
        },
        "8083132a7ea34eb1a741a9c421dfa96a": {
          "model_module": "@jupyter-widgets/controls",
          "model_name": "SliderStyleModel",
          "model_module_version": "1.5.0",
          "state": {
            "_model_module": "@jupyter-widgets/controls",
            "_model_module_version": "1.5.0",
            "_model_name": "SliderStyleModel",
            "_view_count": null,
            "_view_module": "@jupyter-widgets/base",
            "_view_module_version": "1.2.0",
            "_view_name": "StyleView",
            "description_width": "",
            "handle_color": null
          }
        },
        "982947b44fdd4a4da77aeb7461d99437": {
          "model_module": "@jupyter-widgets/base",
          "model_name": "LayoutModel",
          "model_module_version": "1.2.0",
          "state": {
            "_model_module": "@jupyter-widgets/base",
            "_model_module_version": "1.2.0",
            "_model_name": "LayoutModel",
            "_view_count": null,
            "_view_module": "@jupyter-widgets/base",
            "_view_module_version": "1.2.0",
            "_view_name": "LayoutView",
            "align_content": null,
            "align_items": null,
            "align_self": null,
            "border": null,
            "bottom": null,
            "display": null,
            "flex": null,
            "flex_flow": null,
            "grid_area": null,
            "grid_auto_columns": null,
            "grid_auto_flow": null,
            "grid_auto_rows": null,
            "grid_column": null,
            "grid_gap": null,
            "grid_row": null,
            "grid_template_areas": null,
            "grid_template_columns": null,
            "grid_template_rows": null,
            "height": null,
            "justify_content": null,
            "justify_items": null,
            "left": null,
            "margin": null,
            "max_height": null,
            "max_width": null,
            "min_height": null,
            "min_width": null,
            "object_fit": null,
            "object_position": null,
            "order": null,
            "overflow": null,
            "overflow_x": null,
            "overflow_y": null,
            "padding": null,
            "right": null,
            "top": null,
            "visibility": null,
            "width": null
          }
        },
        "dc534d735ad141b6b62ed51c9af80663": {
          "model_module": "@jupyter-widgets/controls",
          "model_name": "VBoxModel",
          "model_module_version": "1.5.0",
          "state": {
            "_dom_classes": [
              "widget-interact"
            ],
            "_model_module": "@jupyter-widgets/controls",
            "_model_module_version": "1.5.0",
            "_model_name": "VBoxModel",
            "_view_count": null,
            "_view_module": "@jupyter-widgets/controls",
            "_view_module_version": "1.5.0",
            "_view_name": "VBoxView",
            "box_style": "",
            "children": [
              "IPY_MODEL_3cb7138c4d4347fcbf26be61c36b8783",
              "IPY_MODEL_7f74fab252a540e6aaec14645d60a990",
              "IPY_MODEL_09df97ad331b44769434a3fc8340d9aa"
            ],
            "layout": "IPY_MODEL_90d5f04cdcd34d0d9101c6d50dcd2712"
          }
        },
        "3cb7138c4d4347fcbf26be61c36b8783": {
          "model_module": "@jupyter-widgets/controls",
          "model_name": "FloatSliderModel",
          "model_module_version": "1.5.0",
          "state": {
            "_dom_classes": [],
            "_model_module": "@jupyter-widgets/controls",
            "_model_module_version": "1.5.0",
            "_model_name": "FloatSliderModel",
            "_view_count": null,
            "_view_module": "@jupyter-widgets/controls",
            "_view_module_version": "1.5.0",
            "_view_name": "FloatSliderView",
            "continuous_update": true,
            "description": "m",
            "description_tooltip": null,
            "disabled": false,
            "layout": "IPY_MODEL_348db1663d9e40fd93c710ea9b202c67",
            "max": 0.3,
            "min": -0.045,
            "orientation": "horizontal",
            "readout": true,
            "readout_format": ".2f",
            "step": 0.005,
            "style": "IPY_MODEL_308c7fd3aaf640c2992407084a74bb71",
            "value": 0.3
          }
        },
        "7f74fab252a540e6aaec14645d60a990": {
          "model_module": "@jupyter-widgets/controls",
          "model_name": "FloatSliderModel",
          "model_module_version": "1.5.0",
          "state": {
            "_dom_classes": [],
            "_model_module": "@jupyter-widgets/controls",
            "_model_module_version": "1.5.0",
            "_model_name": "FloatSliderModel",
            "_view_count": null,
            "_view_module": "@jupyter-widgets/controls",
            "_view_module_version": "1.5.0",
            "_view_name": "FloatSliderView",
            "continuous_update": true,
            "description": "b",
            "description_tooltip": null,
            "disabled": false,
            "layout": "IPY_MODEL_2a6105cce47741f184f640692bc61c2e",
            "max": 0.51,
            "min": -2.9,
            "orientation": "horizontal",
            "readout": true,
            "readout_format": ".2f",
            "step": 0.1,
            "style": "IPY_MODEL_7277d618c6f448478dd23e60c6154fab",
            "value": -2.9
          }
        },
        "09df97ad331b44769434a3fc8340d9aa": {
          "model_module": "@jupyter-widgets/output",
          "model_name": "OutputModel",
          "model_module_version": "1.0.0",
          "state": {
            "_dom_classes": [],
            "_model_module": "@jupyter-widgets/output",
            "_model_module_version": "1.0.0",
            "_model_name": "OutputModel",
            "_view_count": null,
            "_view_module": "@jupyter-widgets/output",
            "_view_module_version": "1.0.0",
            "_view_name": "OutputView",
            "layout": "IPY_MODEL_220bc27417db4309b5f0eb9e1b441095",
            "msg_id": "",
            "outputs": [
              {
                "output_type": "display_data",
                "data": {
                  "text/plain": "<Figure size 1080x360 with 2 Axes>",
                  "image/png": "iVBORw0KGgoAAAANSUhEUgAAA3UAAAFNCAYAAACnuEbJAAAABHNCSVQICAgIfAhkiAAAAAlwSFlzAAALEgAACxIB0t1+/AAAADh0RVh0U29mdHdhcmUAbWF0cGxvdGxpYiB2ZXJzaW9uMy4yLjIsIGh0dHA6Ly9tYXRwbG90bGliLm9yZy+WH4yJAAAgAElEQVR4nOzdebyWc/7H8dc3RZI1ydpkF6oTka0sDWONslMiZIksw2TNPoYxmDTGZJkw0mRJIWFqSCQtjhYxthBpI5U6dep8f3/cp37H6T51n/U69zmv5+PRo/u+7uu+r/d93526Pn2/1+cbYoxIkiRJkrJTnaQDSJIkSZLKzqJOkiRJkrKYRZ0kSZIkZTGLOkmSJEnKYhZ1kiRJkpTFLOokSZIkKYtZ1EmSJKnGCiHMCCH8tozPbRpCWBxCWK+ic0kVyaJOkiSplissfJYWFjCrfvWr4gxvhRDyimV4uYoz/KoAjDF+E2NsGGNcWZU5pNKqm3QASZIkVQsnxBj/s66dQgh1Y4wrim1brzSFz1r2vyzG+FimryMpxZE6SZIklSiEcG4I4d0QwgMhhPnArSGEASGEv4cQhocQfgEODyE0LxxtWxBCmBZC6FjkNdbYv5QZpocQji9yv24IYW4IYZ/C+x0Lj7mgMEPzEl5nQAjhziL3DwshzCy8/TTQFHi5cJTwDyGEZiGEGEKoW7jPtiGEYSGEH0MIn4cQLizyWreGEAaHEJ4KISwqzNOmNO9TKiuLOkmSJK1LW+BLoAlwV+G2swpvbwyMA14G3gC2Ai4Hngkh7F7kNYruP6aUx38WOLPI/d8B82KMk0IIuxU+fiXQGBhOqjBbvzQHiDF2Bb4hNWLZMMZ4b5rdBgEzgW2BU4A/hhCOKPJ4x8J9NgOGAVU6hVW1l0WdJEmSAF4qHOla9evCIo99H2N8KMa4Isa4tHDb0BjjuzHGAiAHaAj8Kca4PMY4CniFXxdiq/ePMeaVkKFvsQx3FG4fCHQMITQovH8WqUIO4HTg1RjjmzHGfOA+YEPgoPJ8GMWFEHYADgZ6xxjzYoy5wGPAOUV2GxNjHF44tfRpoFVFZpBK4jV1kiRJAjhpLdfUfbuObdsC3xYWeKt8DWy3jtcorle6a+pijJ+HEKYDJxQ2T+kItC5y7K+L7FsQQvi22LErwrbAjzHGRUW2fQ0UnWL5Q5HbS4D66a5BlCqaRZ0kSZLWJa5j2/fADiGEOkUKu6bA/9bxGqWxagpmHeDjGOPnRY7dYtVOIYQA7AB8l+Y1fgEaFLm/dbHH15bxe2CLEMLGRQq7piUcR6pSTr+UJElSeY0jNTL1hxBCvRDCYcAJpK4vqyiDgKOAS0hNx1xlMHBcCKFDCKEe8HtgGfBemtfIBY4NIWwRQtia1HV4Rc0Gdkp38Bjjt4WveXcIoX4IoSVwPvCvcrwnqUJY1EmSJAn+v+vjql9DMn1ijHE5qSLuGGAe8DBwTozxk1Jm6Fcsw8Qix5gFjCV1rdy/i2z/FOgCPFR47BNINTtZnub1nwY+AmaQaury72KP3w3cVHg93zVpnn8m0IzUqN0Q4JZMloGQKluIsbwj4ZIkSZKkpDhSJ0mSJElZzKJOkiRJkrKYRZ0kSZIkZTGLOkmSJEnKYhZ1kiRJkpTFsmLx8S233DI2a9Ys6RiSpEo2ceLEeTHGxknnyBb++yhJtcfa/o3MiqKuWbNmTJgwIekYkqRKFkL4OukM2cR/HyWp9ljbv5FOv5QkSZKkLGZRJ0mSJElZzKJOkiRJkrJYVlxTl05+fj4zZ84kLy8v6Si1Xv369dl+++2pV69e0lEkSZKkWidri7qZM2ey8cYb06xZM0IISceptWKMzJ8/n5kzZ7LjjjsmHUeSJEmqdbJ2+mVeXh6NGjWyoEtYCIFGjRo5YipJkiQlJGuLOsCCrprwe5AkSZKSk9VFXTb66quvaNu2Lbvssgunn346y5cvX2OfDz74gJycHHJycmjVqhVDhgyp0Ay5ubkceOCB7LXXXrRs2ZJ///vfaff7+uuv6dChAy1btuSwww5j5syZFZpDkiRJUvlZ1FWx3r17c9VVV/H555+z+eab8/jjj6+xz957782ECRPIzc1lxIgRXHTRRaxYsSKj1x8wYAC33nrrWvdp0KABTz31FNOmTWPEiBFceeWVLFiwYI39rrnmGs455xwmT55Mnz59uP766zPKIEmSJKnqWNSVUZ8+fXjwwQdX37/xxhv561//utbnxBgZNWoUp5xyCgDdunXjpZdeWmO/Bg0aULduqodNXl7e6umN48ePp2XLluTl5fHLL7+w1157MXXq1FJn32233dh1110B2Hbbbdlqq62YO3fuGvt9/PHHHHHEEQAcfvjhDB06tNTHklRLTJ0KgwYlnUKSpFopa7tfJq179+507tyZK6+8koKCAgYNGsSoUaPIyclJu//AgQPZaqut2GyzzVYXbNtvvz3fffdd2v3HjRtH9+7d+frrr3n66aepW7cu++23Hx07duSmm25i6dKldOnShb333rtc7+ODDz5g+fLl7Lzzzms81qpVK1588UWuuOIKhgwZwqJFi5g/fz6NGjUq1zEl1SAFBdC3Lyt7X8vSLTalYadOsMEGSaeSJKlWqRlF3ZVXQm5uxb5mTg4UGYkrrlmzZjRq1IgPP/yQ2bNn07p1a37zm9+Qu5Yc8+bNy/jwbdu2Zdq0aUyfPp1u3bpxzDHHUL9+ffr06cN+++1H/fr16du3LwDz58+nQ4cOAPz4448sX7589Qjg008/TYsWLdIeY9asWXTt2pUnn3ySOnXWHLS97777uOyyyxgwYADt27dnu+22Y7311sv4PUiq4WbOhHPPhZEj+b59K97tcx5nWNBJklTlakZRl5ALLriAAQMG8MMPP9C9e3cWLVpEu3bt0u47cOBAmjdvzoIFC1ixYgV169Zl5syZbLfddms9RvPmzWnYsCFTp06lTZs2zJ8/n8WLF5Ofn09eXh4bbbQRjRo1Wl1MDhgwgBkzZvzqurpx48Zx0UUXAXD77bfTsWNHFi5cyHHHHcddd93FAQcckPbY2267LS+++CIAixcv5oUXXmCzzTYr7cckqSZ67jm46CJYtgz+8Q9G7lcP7IQrSVIiakZRt5YRtcrUqVMn+vTpQ35+PgMHDmS99dZb60gdpK5Ne/755znjjDN48sknOfHEE9fY56uvvmKHHXagbt26fP3113zyySc0a9YMgIsuuog77riDr776it69e9OvX7915mzbtu2vci1fvpxOnTpxzjnnrL6+L5158+axxRZbUKdOHe6++266d+++zmNJquF+/hkuvxyefhr23z/1+267Qe6ApJNJklRr2SilHNZff30OP/xwTjvttIynJd5zzz3cf//97LLLLsyfP5/zzz8fgGHDhtGnTx8AxowZQ6tWrcjJyaFTp048/PDDbLnlljz11FPUq1ePs846i+uuu47x48czatSoUucePHgwo0ePZsCAAauXTlhV9PXp04dhw4YB8NZbb7H77ruz2267MXv2bG688cZSH0tSDfLOO9CqFQUDnyG3R0cYMyZV0EmSpESFGGPSGdapTZs2ccKECb/aNn36dJo3b55QopSCggL22WcfnnvuudXdJGur6vB9SKoky5fDLbfAPffATjvxap8zmdtyZ87NOXf1LgMKR+qKbiuLEMLEGGObcr1ILZLu30dJUs20tn8jHakro48//phddtmFDh061PqCTlINNn06HHAA/OlPcP75kJvL3JZrdsuVJEnJqRnX1CVgzz335Msvv0w6hiRVjhjhb39jxTVXs2LDDaj/0kuQ5hpgSZKUPEfqJEm/NmsWHHssXH45s/ZrztDn7rSgkySpGqu0kboQwg7AU0ATIAL9Y4x/DSFsAfwbaAbMAE6LMf5UWTkkSaXw4ovQowcsWQIPP8zIA+q7VIEkSdVcZY7UrQB+H2PcEzgA6BlC2BO4DhgZY9wVGFl4X5KUpEWLoHt3OPlkaNYMPvwQLrnEgk6SpCxQaUVdjHFWjHFS4e1FwHRgO+BE4MnC3Z4ETqqsDJKkDLz3HuTkUPDkAD664HgYOxZ23z3pVJIkKUNVck1dCKEZ0BoYBzSJMc4qfOgHUtMzs96tt97KfffdV+LjL730Eh9//HEVJpKkdcjPh5tvhnbtIEZGPH49H/Y8GerVSzqZJEkqhUov6kIIDYEXgCtjjAuLPhZTi+SlXSgvhNAjhDAhhDBh7ty5lR2z0lnUSapWPv0UDjoI7rwTunWD3Fzm5Lg8iyRJ2ahSi7oQQj1SBd0zMcYXCzfPDiFsU/j4NsCcdM+NMfaPMbaJMbZp3LhxubMUFES+nLuYsV/M48u5iykoKP+i63fddRe77bYbhxxyCJ9++ikAjz76KPvttx+tWrXi5JNPZsmSJbz33nsMGzaMa6+9lpycHL744ou0+0lSpYsR/v53VuS0JO+z6fDCC/DEE7DJJkknkyRJZVRpRV0IIQCPA9NjjPcXeWgY0K3wdjdgaGVlWKWgIDJi2g8c2/cdznx0HMf2fYcR034oV2E3ceJEBg0aRG5uLsOHD2f8+PEAdO7cmfHjx/PRRx/RvHlzHn/8cQ466CA6duzIn//8Z3Jzc9l5553T7idJlWr2bDjhBLj0UmbvsxtDB98BnTsnnapGCyE8EUKYE0KYWmTbqSGEaSGEghBCmyLb64UQngwhTAkhTA8hXJ9MaklStqnMkbqDga7AESGE3MJfxwJ/Ao4MIXwG/LbwfqWaMf8Xrh6cS15+AQB5+QVcPTiXGfN/KfNrvvPOO3Tq1IkGDRqwySab0LFjRwCmTp1Ku3btaNGiBc888wzTpk1L+/xM95OkCjFsGLRoASNHwkMP8Wa/q1m61eZJp6oNBgBHF9s2FegMjC62/VRggxhjC2Bf4KLCa9IlSVqrSlunLsY4BiipF3aHyjpuOrMX5q0u6FbJyy9gzqI8dmrcsEKPde655/LSSy/RqlUrBgwYwFtvvVWu/SSpXBYvhquvhkcfhZwceOYZ2HNPyB2QdLJaIcY4unhhFmOcDhDWXC4iAhuFEOoCGwLLgYXFd5Ikqbgq6X6ZtCab1Kd+vV+/1fr16rDVxvXL/Jrt27fnpZdeYunSpSxatIiXX34ZgEWLFrHNNtuQn5/PM888s3r/jTfemEWLFq2+X9J+klRh3n8fWrcmPvYYU849FsaNSxV0qq6eB34BZgHfAPfFGH9MNpIkKRvUiqKuWaONuP+0nNWFXf16dbj/tByaNdqozK+5zz77cPrpp9OqVSuOOeYY9ttvPwDuuOMO2rZty8EHH8wee+yxev8zzjiDP//5z7Ru3ZovvviixP0kqdzy8+HWW+GQQ2D5ckY82puJV5wK66+fdDKt3f7ASmBbYEfg9yGEnYrvVNO6Q0uSyq/Spl9WJ3XqBI7ea2v26NWOOYvy2Grj+jRrtBF16pQ0OzQzN954IzfeeOMa2y+55JI1th188MG/WtLgkksuSbufJJXLZ59B166pUbmuXeGhh5j91ZCkUykzZwEjYoz5wJwQwrtAG+DLojvFGPsD/QHatGlT/lbOkqSsVytG6iBV2O3UuCEH7LQlOzVuWO6CTpKqlRihf3/yW+7Nso+nwKBB8NRTsOmmSSdT5r4BjgAIIWwEHAB8kmgiSVJWqDVFnSTVWHPmwIknwkUXMbflLgx97g44/fSkUwkIITwLjAV2DyHMDCGcH0LoFEKYCRwIvBpCeL1w978BDUMI04DxwD9jjJOTSS5Jyia1YvqlJNVYr74K3bvDzz/DAw/wRvtNoI7/X1ddxBjPLOGhNebExhgXk1rWQJKkUvFffknKRr/8AhdfDMcfD1tvDRMmwJVXWtBJklQLOVInSdlm/Hg4+2z4/HOmnnM0k3p25py99046lSRJSoj/pVsNzJgxg4EDByYdQ1J1t2IF3HEHHHggLF0KI0cy4arTKVi/XtLJJElSgizqymG99dYjJyeHvffemxNOOIEFCxaU+jVWrlxJz5492Xfffdd4rFmzZsybN68iokrKdl98Ae3bQ58+cNppMHkyHH540qkkSVI1YFFXDhtuuCG5ublMnTqVLbbYgr/97W+lfo3PP/+c3r17s/vuu1dCQklZL0Z44gnIyWH5lFze/mMPGDgQNt886WSSJKmasKirIAceeCDfffcdAF988QVHH300++67L+3ateOTT1LLDD333HPsvffetGrVivbt2wMwa9Ys7r33XgDmz5/PUUcdxV577cUFF1xAjKk1ZWfMmMHeRa6Xue+++7j11lsByM3N5YADDqBly5Z06tSJn376CYC+ffuy55570rJlS84444wq+QwkVbB58+Dkk+H886FNG4YOvoOvjjkw6VSSJKmasairACtXrmTkyJF07NgRgB49evDQQw8xceJE7rvvPi699FIAbr/9dl5//XU++ugjhg0btsbr3HbbbRxyyCFMmzaNTp068c0336zz2Oeccw733HMPkydPpkWLFtx2220A/OlPf+LDDz9k8uTJPPLIIxX4biVViREjoEULeOUV+POfYeRIftmmUdKpJElSNVRjul8OyB1Qoa93bs6569xn6dKl5OTk8N1339G8eXOOPPJIFi9ezHvvvcepp/7/UkPLli0D4OCDD+bcc8/ltNNOo3Pnzmu83ujRo3nxxRcBOO6449h8HdOrfv75ZxYsWMChhx4KQLdu3VYft2XLlpx99tmcdNJJnHTSSRm9Z0nVwJIl0Ls39OsHe+2VKu5atUo6lSRJqsYcqSuHVdfUff3118QY+dvf/kZBQQGbbbYZubm5q39Nnz4dgEceeYQ777yTb7/9ln333Zf58+dndJy6detSUFCw+n5eXt46n/Pqq6/Ss2dPJk2axH777ceKFSvK9iYlVZ1Jk2DffaFfP6adfRRPP36FBZ0kSVqnGjNSl8nIWmVp0KABffv25aSTTuLSSy9lxx135LnnnuPUU08lxsjkyZNp1aoVX3zxBW3btqVt27a89tprfPvtt796nfbt2zNw4EBuuukmXnvttdXXxzVp0oQ5c+Ywf/58GjZsyCuvvMLRRx/Npptuyuabb84777xDu3btePrppzn00EMpKCjg22+/5fDDD+eQQw5h0KBBLF68mM022yyJj0fSuqxcCffem+ps2aQJvPkm47ecmXQqSZKUJWpMUZe01q1b07JlS5599lmeeeYZLrnkEu68807y8/M544wzaNWqFddeey2fffYZMUY6dOhAq1atePvtt1e/xi233MKZZ57JXnvtxUEHHUTTpk0BqFevHn369GH//fdnu+22Y4899lj9nCeffJKLL76YJUuWsNNOO/HPf/6TlStX0qVLF37++WdijPTq1cuCTqquZsyAc86Bd95JLVXw97/DFltABU8plyRJNZdFXTksXrz4V/dffvnl1bdHjBixxv6rrpcr6rDDDuOwww4DoFGjRrzxxhtpj9WrVy969eq1xvacnBzef//9NbaPGTNmrdklJSxGeOopuPxylscVvH/HhbS/8R8QQtLJJElSlrGok6SqNn8+XHwxPP88tG/P0N4n8Mu2W9Legk6SJJWBjVIkqSq9+Sa0bAlDh8Kf/gSjRvHLtlsmnUqSJGUxizpJqgpLl8IVV8BRR7FgA2DcuNTSBeutl3QySZKU5bJ6+mWMkeB0pcTFGJOOIFVvublw9tnw8cd8fMZvmXjFqXRt3TrpVJIkqYbI2pG6+vXrM3/+fAuKhMUYmT9/PvXr1086ilT9rFwJf/4z7L8//PQTjBjBB73PZmX99ZNOJkmSapCsHanbfvvtmTlzJnPnzk06Sq1Xv359tt9++6RjSNXLN99At27w1lvQuTP07w+NGrlUgSRJqnBZW9TVq1ePHXfcMekYkrSmgQPh0ktZvmIZH9x2Pofc/KhLFUiSpEqTtUWdJFU7P/0El14KgwbBwQcz7PoTWbxdYw6xoJMkSZUoa6+pk6RqZdSo1FIFzz8Pd90Fb7/N4u0aJ51KkiTVAhZ1klQeeXnw+99Dhw78XHcFvP8+3HCDSxVIkqQq4/RLSSqrKVNSSxVMmcL0045gwpWn0XXffZNOJUmSahmLOkkqrYICePBBuP562HxzePVVxm07J+lUkiSplnL6pSSVxrffwpFHpqZcHntsarTu2GOTTiVJkmoxizpJytSgQdCyJflj3+XdPufBiy9CY5uhSJKkZFnUSdK6LFgAXbrAmWfCHnsw7N+381mn9q49J0mSqgWLOklam7ffhlatUqN0t98O77zDoh22SjqVJEnSahZ1kpTOsmXQuzfx8MNZGPPg3Xfh5puhrv2lJElS9eLZiSQVN21aaqmCjz7ifycfyvirz6BL27ZJp5IkSUrLok6SVikogIcegt69YZNNYNgwxu4wP+lUkiRJa+X0S0kC+O47OPpouPLK1JIFU6bACScknUqSJGmdLOok6bnnoEUL8t95m/duPAeGDYMmTZJOJUmSlBGLOkm1188/Q7ducNppsMsuvDzoNv53yuEuVSBJkrKKRZ2k2umdd1JLFfzrX9CnD7z7Lgt/s3XSqSRJkkrNok5S7bJ8OdxwA/HQQ1m4cgmMGQO33Qb16iWdTDVMCOGJEMKcEMLUIttODSFMCyEUhBDaFNu/ZQhhbOHjU0II9as+tSQpG1nUSao9pk+HAw+Eu+/msxMPYdig21L3pcoxADi62LapQGdgdNGNIYS6wL+Ai2OMewGHAfmVH1GSVBO4pIGkmi9GePhhuOYa2GgjGDKE95otSDqVargY4+gQQrNi26YDhDWv2zwKmBxj/KhwP9fSkCRlzJE6STXbrFlw7LFw2WVw2GGppQpOOinpVFJxuwExhPB6CGFSCOEPSQeSJGUPizpJNdeQIdCiBSv+O5L3r+sCw4fDNtsknUpKpy5wCHB24e+dQggd0u0YQugRQpgQQpgwd+7cqswoSaqmLOok1TyLFsH550PnzvCb3/Dys7fxyekdXKpA1dlMYHSMcV6McQkwHNgn3Y4xxv4xxjYxxjaNGzeu0pCSpOrJok5SzTJ2LOTkwIABcMMNMHYsP+/o6JyqvdeBFiGEBoVNUw4FPk44kyQpS1jUSaoZ8vOhTx8KDjmYRXkL4e234a67YP31k06mWiqE8CwwFtg9hDAzhHB+CKFTCGEmcCDwagjhdYAY40/A/cB4IBeYFGN8NanskqTsUmndL0MITwDHA3NijHsXbrsVuBBYdRHADTHG4ZWVQVIt8b//QZcuMH48X55wMOP+cDZnH3JI0qlUy8UYzyzhoSEl7P8vUssaSJJUKpW5pMEAoB/wVLHtD8QY76vE40qqLWKEf/wDfv97qF8fnn+eMTsvSjqVJElSlaq06ZcxxtHAj5X1+pJqudmz4YQT4JJL4JBDUksVnHxy0qkkSZKqXBLX1F0WQpgcQngihLB5AseXlO2GDUstVfCfNxh37Vnw2muw7bZJp5IkSUpEVRd1fwd2BnKAWcBfStrRdXgkrWHxYujRA048EbbbjpefuYXpZx0Jdez5JEmSaq8qPROKMc6OMa6MMRYAjwL7r2Vf1+GR9P/GjYPWreGxx6B3bxg3jp933i7pVJIkSYmr0qIuhFB0sahOwNSqPL6kLLRiBdx2GwUHH8TixT/BW2/Bn/7kUgWSJEmFKnNJg2eBw4AtC9fkuQU4LISQA0RgBnBRZR1fUg3w+eeppQrGjePL4w5iXO+zObtd+6RTSZIkVSuVVtSVsD7P45V1PEk1SIzw+ONw5ZVQrx4MGsSY3ZcmnUqSJKlasruApOpl7lw46SS48EI44IDUUgWnn550KkmSpGrLok5S9TF8OLRowcoRw/ng92fAG2/A9tsnnUqSJKlas6iTlLwlS+DSS+G446BJE15+5hY+7vI7lyqQJEnKgGdMkpI1YQLssw888ghccw188AELdnF0TpIkKVMWdZKSsWIF3HknBQcewC8L5sDIkfDnP8MGGySdTJIkKatY1Emqel98Ae3bw803M+O3bRj63J1w+OFJp5IkScpKlbakgSStIUYYMAB69YL11oNnnmH0nsuTTiVJkpTVHKmTVDXmzYOTT4bu3aFNG5g8Gc46K+lUkiRJWc+ROkmVb8QIOO88mD+f8Veexsddfke3pk2TTiVJklQjOFInqfIsWQKXXw7HHAONGsEHHzCt2zHE9fyrR5IkqaJ4ZiWpckyalJpm2a8fXHEFjB8POTlJp5IkSapxLOokVayVK+Huu6FtW36ZN4vX/34NPPggbLhh0skkSZJqJK+pk1RxZsyArl1hzBg45RSGXnYoyzdtmHQqSZKkGs2ROknlFyM89RS0bAkffQRPPgmDB1vQSZIkVQFH6iSVz48/wsUXw3PPMbv1rjR58Q1o1izpVJIkSbWGI3WSyu7NN6FFCxgyhImXncyIR6+zoJMkSapiFnWSSi8vD666Co46CjbZBMaNY8r5x7tUgSRJUgI8A5NUOh99lFqq4MEH4bLLYOJE2GefpFNJkiTVWhZ1kjJTUAD33Qf778+S2TN5s9/V8NBD0KBB0skkSZJqNRulSFq3b76Bbt3grbegc2eGXnYYyzbfOOlUkiRJwpE6SesycGBqqYIJE+CJJ+D55y3oJEmSqhGLOknp/fQTnHkmnH02s5s1Tl1Ld955EELSySRJklSE0y8lrWnUqNR0yx9+YFLPzkw591i67bRT0qkkSZKUhiN1kv7fsmVwzTXQoUOqAcrYsUy+4ARi3fWSTiZJkqQSWNRJSpkyBfbfH/7yF7jkEpg0KbV0gSRJkqo1izqptisogPvvhzZtWDpzBv/peyU8/DBstFHSySRJkpQBr6mTarOZM1PXzo0aBSeeyEu9jmDZFpsknUqSJEml4EidVFsNHgwtWsC4cfDoozBkiAWdVMFCCE+EEOaEEKYW2XZqCGFaCKEghLDGHOcQQtMQwuIQwjVVm1aSlK0s6qTa5uefoWtXOP105u6wBeTmwgUXuFSBVDkGAEcX2zYV6AyMLuE59wOvVWImSVIN4/RLqTYZPTpV0H33HR9efBKTzz+ebrvsknQqqcaKMY4OITQrtm06QEjzHykhhJOAr4BfqiCeJKmGcKROqg2WLYPeveGww2D99eHdd/noohNdqkCqRkIIDePHZ9IAACAASURBVIHewG1JZ5EkZReLOqmmmzYNDjgA7r0XLrwQPvwQ2rZNOpWkNd0KPBBjXLy2nUIIPUIIE0IIE+bOnVs1ySRJ1ZpFnVRTFRRA376w774s/foLRj7QC/7xD2jYMOlkktJrC9wbQpgBXAncEEK4rPhOMcb+McY2McY2jRs3ruqMkqRqyGvqpJro++/h3HPhzTfh+OMZeuVvyWu0adKpJK1FjLHdqtshhFuBxTHGfsklkiRlC0fqpJrmhRdSSxW8+y488ggMG2ZBJyUkhPAsMBbYPYQwM4RwfgihUwhhJnAg8GoI4fVkU0qSsp0jdVJNsXAh9OoFTz7J3L12pPGLY2G33ZJOJdVqMcYzS3hoyDqed2vFp5Ek1VQWdVJNMGZMaqmCb74ht0dHPrrgBLpZ0EmSJNUKTr+Ustny5XDjjXDooVCnDowZQ+4lnYj1/P8aSZKk2sKiTspWn3wCBx4If/wjnHce5Oam7kuSJKlWsaiTsk2M8Le/wT77kPfl/xj1l8vgscdg442TTiZJkqQEWNRJ2WTWLDj2WLjsMjj0UIYOvoNvjtg36VRSjRVC6FLk9sHFHltjDTlJkpJgUSdli5deSi1V8NZb0K8fDB/O0sabJZ1KqumuLnL7oWKPda/KIJIklcSiTqruFi2C88+HTp2Y33gjmDQJevaEEJJOJtUGoYTb6e5LkpQIW+RJ1dl776WWKvjqKyZ3P47ci0/inObNk04l1SaxhNvp7kuSlAiLOqk6ys+HO+6Au+6CHXaAt99m0sZfJJ1Kqo32CCFMJjUqt3PhbQrv75RcLEmS/p9FnVTd/O9/0KULjB8P3bpB376wySaQa1EnJcChcUlStbfOa+pCCJeHEDavijBSrRYjPPIItG7Nsk8/5r/3XgoDBqQKOkmJiDF+XfQXsBjYB9iy8L4kSYnLpFFKE2B8CGFwCOHoEOzOIFW42bPhhBPgkkvg4IMZ+twdfH3kfkmnkmq9EMIrIYS9C29vA0wl1fXy6RDClYmGkySp0DqLuhjjTcCuwOPAucBnIYQ/hhB2ruRsUu3w8suppQr+8x948EEYMYIlWzk4LlUTO8YYpxbePg94M8Z4AtAWlzSQJFUTGS1pEGOMwA+Fv1YAmwPPhxDuLek5IYQnQghzQghTi2zbIoTwZgjhs8LfPXNV7bV4MfToAR078uPm9WHiRLjiCqjjSiNSNZJf5HYHYDhAjHERUJBIIkmSisnkmrorQggTgXuBd4EWMcZLgH2Bk9fy1AHA0cW2XQeMjDHuCowsvC/VPuPGQevW8NhjTDn3GF55+mbYa6+kU0la07eF15Z3InUt3QiAEMKGQL1Ek0mSVCiTIYEtgM4xxt/FGJ+LMeYDxBgLgONLelKMcTTwY7HNJwJPFt5+Ejip9JGlLLZiBdx+Oxx8MCxfDv/9LxOvOI2C9T03lKqp84G9SF1+cHqMcUHh9gOAfyYVSpKkota5pEGM8Za1PDa9lMdrEmOcVXj7B1JNWKTa4fPPUwuJv/8+nH029OsHm20GuV8lnUxSCWKMc4CL02z/L/Dfqk8kSdKaElunLsYYQwixpMdDCD2AHgBNmzatslxShYsRHn8crrySZXUi7999MYde9/ekU0nKQAhh2NoejzF2rKoskiSVpKqLutkhhG1ijLMKW0PPKWnHGGN/oD9AmzZtSiz+pGpt7ly48EIYOhSOOIKhfziOJU224NCkc0nK1IHAt8CzwDjAZX0kSdVOVbfZGwZ0K7zdDRhaxceXqs7w4amlCl57De6/H958kyVNtkg6laTS2Rq4Adgb+CtwJDAvxvh2jPHtRJNJklSo0oq6EMKzwFhg9xDCzBDC+cCfgCNDCJ8Bvy28L9UsS5ZAz55w3HH8uEk9mDABrrrKpQqkLBRjXBljHBFj7EaqOcrnwFshhMsSjiZJ0mqVNv0yxnhmCQ91qKxjSombMAG6dIFPP2Vq19/xYc+T6dqiRdKpJJVDCGED4DjgTKAZ0BcYkmQmSZKKSqxRilSjrFwJ99wDt9wCW28NI0cyYYtvkk4lqZxCCE+Rmno5HLgtxjg14UiSJK3B+WBSeX31FRx6KNx4I5xyCkyeDEcckXQqSRWjC7ArcAXwXghhYeGvRSGEhQlnkyQJcKROKrsY4ckn4fLLWc5K3r+rB+1v+EfSqSRVoBij//kpSar2LOqkspg/H3r0gBdfhEMPZWjvE/hlm0a0TzqXJEmSah3/B1IqrddfTy1V8PLLcO+9MHIkv2zTKOlUkiRJqqUs6qRMLV0KvXrB0UfzU4M68MEHcO21sN56SSeTJElSLeb0SykTH34IZ58N06cz7eyjmHT5KXTNyUk6lSRJkmRRJ63VypVw331w883QuDG8+Sbjt5yZdCpJkiRpNadfSiWZMQMOPxyuu46vDsuBKVPgt79NOpUkSZL0K47UScXFCP/6F/TsCcA7t1/AF8cfxI5bbJFwMEmSJGlNjtRJRf34I5x+OpxzDuTkwOTJfHHCwRBC0skkSZKktCzqpFX+8x9o2RKGDIG774b//heaNUs6lSRJkrRWFnVSXh5cdRUceSQL1i/g5SdvhOuuc6kCSeUSQngihDAnhDC1yLZTQwjTQggFIYQ2RbYfGUKYGEKYUvj7EcmkliRlI6+pU+320UeppQqmTYPLLuPls/Zm5YYbJJ1KUs0wAOgHPFVk21SgM/CPYvvOA06IMX4fQtgbeB3YripCSpKynyN1qp0KClJLFey/P8yfD8OHw0MPWdBJqjAxxtHAj8W2TY8xfppm3w9jjN8X3p0GbBhC8C8kSVJGHKlT7fPNN9CtG7z1Fl8fvg+/Gfw6bLll0qkkaZWTgUkxxmVJB5EkZQeLOtUuAwfCpZfCypWMueU8Pj+xHeda0EmqJkIIewH3AEetZZ8eQA+Apk2bVlEySVJ15vRL1Q4//QRnnZW6fm7PPSE3l89Pau9SBZKqjRDC9sAQ4JwY4xcl7Rdj7B9jbBNjbNO4ceOqCyhJqrYs6lTzjRqVWqpg8GC4/XYYPRp23jnpVJK0WghhM+BV4LoY47tJ55EkZReLOtVcy5bBNddAhw78XCefVwbcADffDHWddSyp8oUQngXGAruHEGaGEM4PIXQKIcwEDgReDSG8Xrj7ZcAuQJ8QQm7hr60Sii5JyjKe3apmmjIlNdVyyhS4+GJePieHFXa2lFSFYoxnlvDQkDT73gncWbmJJEk1lSN1qlkKCuCBB6BNG5g9G155Bf7+dws6SZIk1ViO1KnmmDkztVTBqFF80z6Hps+9Dls5e0mSJEk1myN1qhkGD4YWLeD993n35nMZ9WAvCzpJkiTVChZ1ym4//wxdu8Lpp8Puu0NuLp91PtSlCiRJklRrWNQpe40eDa1awbPPwq23wpgxsOuuSaeSJEmSqpRFnbLP8uVw3XVw2GEsLFjKq09cD7fc4lIFkiRJqpU8C1Z2+fjj1FIFublw4YUMO3cfVjSon3QqSZIkKTGO1Ck7FBTAQw/BvvumulwOHQr9+1vQSZIkqdZzpE7V3/ffw3nnwRtv8O0hLdnhuddh662TTiVJkiRVC47UqXp74YXUUgXvvMPYG85hZN8rLegkSZKkIizqVD0tXJganTvlFNhpJ/jwQz499XCXKpAkSZKKsahT9fPuu5CTA089BTffDO+9l1qDTpIkSdIaLOpUfeTnw003Qfv2LMxfzKuPXwe33w716iWdTJIkSaq2bJSi6uGTT6BLF5g4Ebp3Z1j3NqzYaMOkU0mSJEnVniN1SlaM8PDDsM8+MGMGvPgiPP64BZ0kSZKUIUfqlJwffoDu3eG11/juoL3Z7vk3YJttkk4lSZIkZRVH6pSMl15KLVXw3//y/nVdeLPf1RZ0kiRJUhlY1KlqLV4MF1wAnTpB06YwaRKfnN7BpQokSZKkMrKoU9UZOza1VMETT8D116fuN2+edCpJkiQpq1nUqfLl58Mtt8Ahh7B4yQKGP3Yd/PGPsP76SSeTJEmSsp6NUlS5/ve/1FIF48dDt24MvaAt+Q3tbClJkiRVFEfqVDlihP79oXVr+PxzeO45GDDAgk6SJEmqYI7UqeLNnp1qhvLKK3zfdk+2feEN2G67pFNJkiRJNZIjdapYL7+cWqrgzTcZd+2ZvPHw7y3oJEmSpEpkUaeK8csvcPHF0LEjbLstTJjA9LOOgjr+EZMkSZIqk2fcKr8PPkhdO9e/P1x7LYwbB3vvnXQqSZIkqVawqFPZrVgBt98OBx3E4kXzGfGPa+Hee2GDDZJOJkmSJNUaNkpR2Xz+OXTtCu+/D2edxbCLD2b5xg2STiVJkiTVOomM1IUQZoQQpoQQckMIE5LIoDKKER57DHJyYPp0GDgQnnnGgk6SJElKSJIjdYfHGOcleHyV1ty5cOGFMHQos/bbg21eeAN22CHpVJIkSVKt5jV1yszw4amlCl57jfFXnc7rj1xrQSdJkiRVA0kVdRF4I4QwMYTQI90OIYQeIYQJIYQJc+fOreJ4Wm3JEujZE447Dho3hvHjmXbO0S5VIEmSJFUTSZ2ZHxJj3Ac4BugZQmhffIcYY/8YY5sYY5vGjRtXfULBhAn8vNfO8PDDcPXVMH48tGyZdCpJkiRJRSRS1MUYvyv8fQ4wBNg/iRwqwcqVcNddcOCB1F2yLDXV8i9/gfr1k04mSZIkqZgqb5QSQtgIqBNjXFR4+yjg9qrOoRJ89VVqqYJ334XTTmPope1YvmnDpFNJkiRJKkESI3VNgDEhhI+AD4BXY4wjEsihomKEJ5+EVq1gyhR4+mkYNMiCTpLKIYTwRAhhTghhapFtp4YQpoUQCkIIbYrtf30I4fMQwqchhN9VfWJJUjaq8pG6GOOXQKuqPq7WYv58uOgieOEFfthnd7Z+8XX4zW+STiVJNcEAoB/wVJFtU4HOwD+K7hhC2BM4A9gL2Bb4TwhhtxjjyqqJKknKVrYwrO1efz21VMGwYUy44lRe7/8HCzpJqiAxxtHAj8W2TY8xfppm9xOBQTHGZTHGr4DP8ZpzSVIGLOpqq6VL4Yor4OijYfPN4YMPmHruscT1/CMhSQnZDvi2yP2ZhdskSVorz+Brow8/ZMFeu0DfvqnCbsIEyMlJOpUkKQOu4ypJKs6irjZZuRLuuQfatqXe4iW88fDv4cEHYcMNk04mSYLvgB2K3N++cNuvuI6rJKm4Km+UooR8/TWccw6MHg2nnMKwnoeybDM7W0pSNTIMGBhCuJ9Uo5RdSXWJliRprRypq+lihH/9C1q2hA8/TC1bMHiwBZ0kVYEQwrPAWGD3EMLMEML5IYROIYSZwIHAqyGE1wFijNOAwcDHwAigp50vJUmZcKSuJvvpJ7jkEvj3v5mdsytNXnwddtwx6VSSVGvEGM8s4aEhJex/F3BX5SWSJNVEFnU11ciR0K0bzJ7NxMtOZuq5x9LNgk6SJEmqcZx+WdPk5cHVV8Nvfwsbbwzvv8+U8493qQJJkiSphvJMvyaZPBn22w8eeIDpp3eAiRNh332TTiVJkiSpElnU1QQFBXDffamCbt483ux3NeOu6wINGiSdTJIkSVIls6jLdt9+m5pqee21cNxxMGUK3x3cIulUkiRJkqqIRV02e/bZ1FIF48fDE0/ACy/AllsmnUqSJElSFbKoy0YLFsBZZ8FZZzGnaSNeGHgznHcehJB0MkmSJElVzCUNss1//5taqmDWLLjjDl47ehti3fWSTqVarqAgMmdRHguX5vPl3MU0a7QRder4nwzVgd+NJEk1nyN12WLZstR1cx06wIYbwnvvwU03WdApcQUFkRHTfuCBN//HI29/ybF932HEtB8oKIhJR6v1/G4kSaodLOqywdSpsP/+cN99fHLyYTBpUqrTpWqkVSMrn89ZxJdzF1f7E/AZ83/h6sG55K9M5czLL+DqwbnMmP9Lwsmqn6r+bv1uJEmqHZx+WZ0VFEDfvnDddbDppvyn75XMbNeKPTbaKOlkqiRFR1byV0aef+cd7j8th6P32jrpaCWavTCPvPwCGvLb1dvy8guYsyivwo5RE6YQJvHdVsV3I0mSkudIXXU1cyYcdRRcdVXq9ylTmNmuVdKpVMmycWSlySb1qV/v13+V1K9Xh602rl8hr19TphAm8d1W9ncjSZKqB4u66mjw4NRSBWPHwj/+AUOHwlZbJZ1KVWD1yMrK39JwZWp0pbqPrDRrtBH3n5azunioX68O95+WQ7NGFTOinA2FbibTKpP4bkv6bppu3iCrpvhKkqS1c/pldfLzz3D55fD008zdeyfeufNCOp/YI+lUqkKrRlby8gtWb1s1svLJwgSDrUWdOoGj99qaPXq1Y86iPLbauH6FTo+s7lMIM51WWd7vtixTUNN9N003b8Ab02dX6DTQmjA9VpKkbOZIXXUxejS0agXPPAN9+jD8ietZ+Jvqex2VKkdlj3pVljp1Ajs1bsgBO23JTo0bVugJfWVMIazIhiWZjiSW57stzxTU4t/NNz8tqdCRz5oyPVaSpGzmSF3Sli+HPn3g3nthp51gzBg48EBi7oCkkykBlT3qVZUqavRmVTF09eBc8vILflUMjf6ubLkqsmFJpiOJpflui392MZIqxAp+XYjt0atdpeXN1OqiNk22nRo3LNNrSpKk0rGoS9LHH8PZZ0NuLv87qR27PT0cGnoSVNutGlnJ5hPi8hRO6YrBiix011aElEVpplVm8t2m++zuO6VVhRViFT3Fd21FYjb/GZYkKZs4/TIJBQXw0EOw774wcyYj77+c927pbkFXStm2nlttUtbmJiVN5QMqbHpnRTcsqegps+k+u8/mLMpoCmomPxPlbZ5S/BhbbWyHTUmSkuZIXVX7/ns47zx44w049lh4/HG+/WFE0qmyTjau51abmkmUdYpfVUzlq4yGJRU5kpjusxs8YSZ/7NSCG4ZMKXEK6tp+JopmKU/zlHTH6HdW6xKnx0qSpKphUVeVXngBevSApUvh4Yfh4oshBPgh6WDpVecipKKn0FW2bCxCy6OshVNVTOUrzTV6xX8G1lb8FJ9WWdafn3Sf3U9LlrNP080YXqxwBFYfY8p3CzIuiItPA/1y7uKMfp7S/dxdNvBDRlzRbo1s1eXvCkmSagOLuqqwaBH06gUDBjCveTPeuesaOnW6JOlUv1Kak9fqoLq3uS+upCJ0zyvaVZvCuSKL+LI2N1lbMZhJXmCd7yHThiXpCvH+XdtkVDhlOmpWms+u6RYbrS7G0h1jizCnzAVxpj9PJe33w8K81VNjJUlS1bOoq2zvvgtdu8LXX8ONN/Lqic2I9arXx17ak9fqINvWc0t3Mrx5g/WZ9M2CMp34V7SKHkksaxfPtRWD68rb76zWLF8RM3oPmTQsSVeIT/j6x4wKp/JMI830syt+jIJIxgVxcSX9PG29SX1Gf/f/RfKq6+fKcgxJklR5bJRSWfLz4aaboH371P3Ro+HOO8tc0FVmU5B0jRlWn7xWUDOJilbe5hRV3WQl3Vprp7bZnhuGTMmomUhl5y1rY5O1KcvadasKmuG92jGoR1uG92qXtshNl3fyzJ8r9D2ka6iyqnAqKl1RU95mLJl8dsWP8cLEmfQ6Ytcy/Uyk+3nqd1ZrPp616FdNa76avzgr11GUJKmmq15DRjXFp59Cly4wYQKfnXgIuz71KmyySZlfrrKvx0o3irS2//WvDiNh5VnPLYnr29KNQO221cYZjfpURd7STGctzzTNkqZMFpXJKFpJf2bLMyW3eLZ0o1Ivf/Qd95zckt4vTF7rSGJpppGWVfFjzPo5j39P+IZ/9ziApfkrS/Uzke7nKUY47qF3vH5OkqQsYFFXkWKERx6B3/8eGjRg1H09+aZDG3YtR0EHld8UJN0J6NpOXjNZ8Lms1zuVRlnXc0uiyUpJJ82ZnPhXRd5Mp9+t7VrLdX2XJU2ZnLMwj4V55W8msl4o+39EZNrVsffRzTmqeRNabLfpWouaTKeRlke6Y/Q+ujktttusTD9XxX+exn4xz+vnJEnKEhZ1FeWHH+D882H4cPjd7+Cf/+Sb2a9XyEtXdlOQkk4OMzl5Tae81ztVtvJ8nuUZpSp+0lxQEDM68S8p74+/LKvUxiZFp9+VtlFIOsWL080brM9nsxfzwKiKaSbSYvtNy9ScJV22dY1Kres/E0ozklzWP1PlGa3ORFWMNkqSpIphUVcRhg6FCy6AxYtTi4r37JlaqmB2xbx8ZTcFWdvJYUWNhE2e+TP9R3+Z0WhTZS+lUNbPM6lmIuny/qbRhny3IG+NLEc1b1JhBUK66XeZNgpJp3hx2nmf7fnryM8qtJkIUKYipzK6Omby81OeLpmZHqOsqmK0UZIkVQwbpZTH4sVw4YVw0knM37IBQ565GS67LFXQVaDyNgXJRFmaWpSkpAYTmTSOKHqSu6o5w4hpP1RoY5Cyfp5JNRNJl/eOE1vQ+4XJv8pyz4jpvDp1Vpk/u+JZ5iwqe6OQdIo3iwkhsz8TmeatUyek3ZZJk5l0jWyqYlSqMv5MVZRMm9ZIkqTkOVJXVu+/n2qG8uWXcP31vNppJwoqaamCip5mlcRIWKbXO1XG9WPp3m9ZPs+k1sZL9/2ny3J8y+1ShV4FfXalvdZyXYqP/Kztz0RFyXQkLKlRqapYbL08KnMkUJIkVRyLutLKz4e77oI774Ttt4e334Z27SjIHfCr3Sq6cKqok6vyTvfKRHmud6rowmlt77e0n2emzUQqoxtguu9/jcK5Tvruj2W99q6ir7UsXpxuvUl9dt96k0otpDJdL66yr08ridetSZKkimBRVxqffZZaSHzcOD4/7iB2eWY4bLrpGrsl0TI/U+VZFBky72pZ1uudKvr6wdK833UV4pk2E6mK7zpdlv1+s0XG195lkq+ir7Vc9ZpFn9t0i40qtZAqzUhYEqNSXrcmSZIqgkVdJmKERx+Fq64ibrABw267gPEHtKT78vVoVhBLXhi5jNPgKnMdsPJM9yptV8t0J8jrOmle20luJkspFJfp+y2pEC/aeGTG/F84qnmTX3VDTNdM5OrBuex5RbtKneKaruBqunmDNT67O05sQY+nJ5Q5X2UXOpX9+tV9JCypEUJJklSzWNSty5w5qc6WL79M7PBbRl13DxeP/hf5b39Z4qhHeVrQl2d6ZEnPLYiROoXNW8pzklvarpZlHcmpyJPcTN9vuvd2z4jp5K8sKLFghfRreW3eYH0mfbOgUqe4QvqCKJNr76oqX3WQDSNhXrcmSZLKy+6Xa/PKK9CiBbzxBjz4IF898wI93569zk516TrpFZ0Gt7bOhOXphlfSc+ctXrZ6n/J00ixPV8vSKE8nzuKdDleNXq3r/aZ7b6sbj6zlu0j3XZ/aZntuGDIlkY6GxT+76pavqtnBUZIk1QaO1BUqKIjMmP8LsxfmsfV6K2l2dx9C//78uNsOjP7bTZx0yhXMTjMqk66ASTc6UNI0uOJTMsszPbKk5y7Ky189MlWekbDSdrWsSJlMSV3bFMp0C0iv872V0Hik6HeR7rvebauNq01Hw+qeryo4EiZJkmq6WlnUFS3gmmySuhbpjemzuXpwLrt/PZ2/vvoX+GkW8ZpreOXU3ShYvx6QeROPTFvQpysIyzM9sqTnbly/3q/2K+tJbmm7WlaUTKeklnQt4/DCqaClvZYvXeOR4t9FSYt2V5fruKp7PqmmCyE8ARwPzIkx7l24bQvg30AzYAZwWozxpxDCpsC/gKak/n2+L8b4zyRyS5KyS60r6lYVCEVP3vt3bcO1gybSY/Qger37LLMbNqLb2Xdz6x96UvDd86ufW5omHpm0oE9XEJbnGqCSnvvDih/K/oEVe09l7WpZHpl2sCzPKGemjUfSfRfFv+uCglitruOq7vmkGm4A0A94qsi264CRMcY/hRCuK7zfG+gJfBxjPCGE0Bj4NITwTIxxeVWHliRll1pX1K0qEFYVV3n5BXw2NpenB1zDPt9/ykt7HkqfIy9hYf2Ga4yilWfqYqYFYXmOUdJzn5pcuc05YN1dLcsj02KtvJ0OM2k8ksl3Ud07Glb3fFJNEmMcHUJoVmzzicBhhbefBN4iVdRFYOMQQgAaAj8CK6oipyQpu9X4oq74VMtVBcLi9f4DMdL9w0jXvz5GXgz0OuFahu15KFDy2mhlnbpYmhPpilwHrCbItFirjE6H5fm+q/P3UN3zSTVckxjjrMLbPwBNCm/3A4YB3wMbA6fHGAvSPF+SpF+p0UVduqmWj3ZtQ/16dVh/8VIeGP4fjvvfF0zaOYe5/frzxrvzoALWRiuJJ9Jlk2mx5giUpGwT/6+9uw+Wqr7vOP7+CAYMRtSAlooENUTrI6moMMGUAiLaRG2jFZOZOCkOtdP41KaJ1rRq4qRYbXyY2rSMJjqpRVMaIqNWS4ymNpkqjyKoRMSniwj4gIoWo/DtH+e3ZLn3Isvdu3v2t/fzmtm5e86e3f1+f/fsOfvd3++cExGSKqdBPhlYCkwEDgHmS3okIrb7eVHSDGAGwIgRI5oZrpmZtai2Luq6G2r5zbuf4Af7v8onr/8Re21+m2smn8dR113JlCOGcd+x77oYaEHN6uU0M2uSdZKGRcRaScOA9Wn+V4CZERHAKknPAYcBj1U/OSJmAbMAxowZs/11cczMrE8qpaiTNBW4EegH3BIRMxvxPtsNtQSGbB7P9NnfY9ySe3nvd45g5XU3c9Zxx24rEMooBmo5VX87qzV/F2tm1kbmAecCM9Pfu9P8F4FJwCOS9gcOBVaXEqGZmWWl6UWdpH7AzcBJQAewQNK8iHiyt9+rcizWpq1wzNp1zLr7Yg55vYON53+Vva+/lqMH9s4p3HtamNV6qv4yYmuGZuRvZlYmSbMpTooyRFIHcAVFMfcjSdOBF4A/Tot/G7hN0hOAgG9ExKvNj9rMzHKzWwnveTywKiJWp9M030lxJrBeVzkW67wly7j/9rsY9P7/8eisu9jr5pugYFZOIgAADLhJREFUhoKuUhCtWv82qzdsYuvWrqNcqguTf/75ak696RHuX/FKt8t2tu1U/Vu2P1X/86+9s+vJ7iD+nsbWDI3O38ysbBFxTkQMi4jdI2J4RNwaEa9FxKSIGBURkyPi9bTsyxExJSKOiogjI+Jfy47fzMzyUEZRdwDwUtV0R5rX6yrHYl107gW8ecppbF64mOOmn7XLvWgfVhDVU5hsO1X/lsnsuWXytud3vpRCT7V60dTo/M3MzMzM+oIyirqaSJohaaGkhRs2bOjx6+y2mxh29hkMuWcuIz81ouZhfbUWRPUUJpXhodV25bpqO+tJbPWiqd78zczMzMysnKJuDXBg1fTwNG87ETErIsZExJihQ4c2LbiKWguiegqTyvDQyvN35bpqtfQktnrRVE/+ZmZmZmZWKOPslwuAUZIOoijmpgFfLCGOD9WMC17Xc121bT2JW7fvSTzswhO3nSGyERfj7k2+rpyZmZmZWf2aXtRFxAeSvgo8QHFJg+9HxIpmx7EzzbrgdU9P1b+tJ5HJ2+ZVehIrr5VD0eRLFZiZmZmZ1aeU69RFxH3AfWW8d61a/YLXtfYkumgyMzMzM2tvLXuilFZQKYjGHjyEg4fu2VI9XD4ezczMzMzMoKSeOqtfDkMrzczMzMys8VzUZcxDK83MzMzMzMMvzczMzMzMMuaizszMzMzMLGMu6szMzMzMzDLmos7MzMzMzCxjLurMzMzMzMwy5qLOzMzMzMwsYy7qzMzMzMzMMuaizszMzMzMLGOKiLJj2ClJG4AX6nyZIcCrvRBO2dohD+fQOtohj3bIAdojj97I4RMRMbQ3gukLemn/2Era4XPQCG6XrtwmXblNumq3NtnhPjKLoq43SFoYEWPKjqNe7ZCHc2gd7ZBHO+QA7ZFHO+Rg5fI61D23S1duk67cJl31pTbx8EszMzMzM7OMuagzMzMzMzPLWF8q6maVHUAvaYc8nEPraIc82iEHaI882iEHK5fXoe65Xbpym3TlNumqz7RJnzmmzszMzMzMrB31pZ46MzMzMzOzttOWRZ2k70taL2l51bx9Jc2X9Ez6u0+ZMe6MpAMlPSTpSUkrJF2U5ueWx0BJj0l6POVxVZp/kKRHJa2SdJekj5Qd685I6idpiaR70nRWOUh6XtITkpZKWpjmZbU+AUjaW9IcSU9LekrSuJzykHRo+h9Ubm9JujinHAAkXZI+08slzU6f9aw+E1aOWtd1SeemZZ6RdG43j8+r3s/nrJ42kfRRSfembeIKSTObG33vkjRV0sq0Hbm0m8cHpO3LqrS9GVn12GVp/kpJJzcz7kbqaZtIOknSorTvXyRpYrNjb6R61pX0+AhJmyR9rVkxN1JbFnXAbcDUTvMuBR6MiFHAg2m6lX0A/GVEHA6MBf5c0uHkl8d7wMSIOAYYDUyVNBa4Brg+Ij4JvAFMLzHGWl0EPFU1nWMOvx8Ro6tO75vb+gRwI3B/RBwGHEPxP8kmj4hYmf4Ho4FjgXeBuWSUg6QDgAuBMRFxJNAPmEaenwlrvp2u65L2Ba4ATgCOB66oLnQk/RGwqTnhNkW9bXJd2iZ+GviMpFOaE3bvktQPuBk4BTgcOCd996k2HXgjbWeup9jukJabBhxB8R3wn9LrZa2eNqG4PtvnI+Io4Fzgh82JuvHqbJeK7wL/2ehYm6Uti7qI+G/g9U6zTwduT/dvB85oalC7KCLWRsTidP9tii+uB5BfHhERlR3v7ukWwERgTprf8nlIGg78AXBLmhaZ5bADWa1PkgYDnwVuBYiIX0fERjLLo8ok4NmIeIH8cugP7CGpP/BRYC3t8ZmwxqtlXT8ZmB8Rr0fEG8B80o+1kvYE/gK4ugmxNkuP2yQi3o2Ih6DYJgKLgeFNiLkRjgdWRcTqlMudFG1Trbqt5gCT0j75dODOiHgvIp4DVqXXy12P2yQilkTEy2n+Copt9oCmRN149awrSDoDeI6iXdpCWxZ1O7B/RKxN918B9i8zmF2Ruos/DTxKhnmoGLa4FFhPsRN6FtgYER+kRTooCtZWdgPwdWBrmv44+eUQwH+lIRgz0rzc1qeDgA3AD1QMhb1F0iDyy6NiGjA73c8mh4hYA1wHvEhRzL0JLCK/z4SVo5Z1/QDgparp6vXp28A/UPRyt4t62wQohqcDn6fo7cvRTnOsXiZtb96k2CfX8twc1dMm1b4ALI6I9xoUZ7P1uF3SD0PfAK5qQpxN07/sAMoQESEpi9N+phXvP4CLI+Kt9AMDkE8eEbEFGJ12NnOBw0oOaZdI+hywPiIWSZpQdjx1GB8RayTtB8yX9HT1g5msT/2B3wUuiIhHJd1Ip2FKmeRBOt7sNOCyzo+1eg5pyNfpFEX2RuDf6Trk3fowST8Ffqubhy6vntjVdV3SaOCQiLik8/Exra5RbVL1+v0pfiS6KSJW9yxKa0eSjqAYejil7FhaxJUUhwpsqv5enbu+VNStkzQsItZKGkbRa9TSJO1OUdDdERE/TrOzy6MiIjZKeggYB+wtqX/65WQ4sKbc6D7UZ4DTJJ0KDAT2ojiuK6ccKr0rRMR6SXMphi7ktj51AB0R8WiankNR1OWWBxTHASyOiHVpOqccJgPPRcQGAEk/pvicZPWZsMaJiMk7ekxSLev6GmBC1fRw4GGK/ccYSc9TfIfZT9LDETGBFtfANqmYBTwTETf0QrhlWQMcWDXd3XakskxHKmQHA6/V+Nwc1dMmlcNH5gJfjohnGx9u09TTLicAZ0r6e2BvYKukzRHxj40Pu3H60vDLeRQHiZL+3l1iLDuVxvzeCjwVEd+teii3PIamHjok7QGcRHF84EPAmWmxls4jIi6LiOERMZJiuNzPIuJLZJSDpEGSPla5T/Fr3XIyW58i4hXgJUmHplmTgCfJLI/kHH4z9BLyyuFFYKyKs+6J3/wfsvlMWKlqWdcfAKZI2if1DE8BHoiI70XEb6ft8XjgVzkUdDXocZsASLqa4gvrxU2ItZEWAKNUnEn3IxT73HmdlqluqzMp9smR5k9LZzw8CBgFPNakuBupx22Svn/dC1waEb9oWsTN0eN2iYgTI2Jk2o7cAHwn94IOgIhouxvFF6W1wPsUv+xPpxhb/CDwDPBTYN+y49xJDuMpjoFaBixNt1MzzONoYEnKYznwt2n+wRQb21UUQ7cGlB1rjflMAO7JLYcU6+PptgK4PM3Pan1KMY8GFqZ16ifAPrnlAQyi+LVwcNW83HK4Cng6fa5/CAzI6TPhW3m3Ha3rwBjglqrl/iStS6uAr3TzOiOB5WXnU3abUPRQBMUPppXvC+eVnVMdbXEq8CuK4+8r+6pvAael+wPT9mVV2t4cXPXcy9PzVgKnlJ1L2W0CfBN4p2q9WArsV3Y+ZbdLp9e4Evha2bn0xk0pITMzMzMzM8tQXxp+aWZmZmZm1nZc1JmZmZmZmWXMRZ2ZmZmZmVnGXNSZmZmZmZllzEWdmZmZmZlZxlzUmZmZmVlDSfpl+jtS0hd7+bX/urv3MutLfEkDMzMzM2sKSRMorgv2uV14Tv+I+OBDHt8UEXv2RnxmuXJPnVmLkXScpGWSBkoaJGmFpCPLjsvMzKynJG1Kd2cCJ0paKukSSf0kXStpQdr3/WlafoKkRyTNA55M834iaVHaL85I82YCe6TXu6P6vVS4VtJySU9IOrvqtR+WNEfS05LukKTmtohZ73JPnVkLknQ1MBDYA+iIiL8rOSQzM7Meq/Smde6pS8XZfhFxtaQBwC+As4BPAPcCR0bEc2nZfSPidUl7AAuA34uI1zr31FW91xeA84GpwJD0nBOAQ4G7gSOAl9N7/lVE/E8TmsKsIfqXHYCZdetbFDufzcCFJcdiZmbWKFOAoyWdmaYHA6OAXwOPVQq65EJJf5juH5iWe+1DXns8MDsitgDrJP0cOA54K712B4CkpcBIwEWdZctFnVlr+jiwJ7A7RY/dO+WGY2Zm1hACLoiIB7abWfTovdNpejIwLiLelfQwxf6xp96rur8Ffye2zPmYOrPW9C/A3wB3ANeUHIuZmVlveRv4WNX0A8CfSdodQNKnJA3q5nmDgTdSQXcYMLbqsfcrz+/kEeDsdNzeUOCzwGO9koVZi/GvEmYtRtKXgfcj4t8k9QN+KWliRPys7NjMzMzqtAzYIulx4DbgRoqhj4vTyUo2AGd087z7gfMlPQWsBP636rFZwDJJiyPiS1Xz5wLjgMeBAL4eEa+kotCsrfhEKWZmZmZmZhnz8EszMzMzM7OMuagzMzMzMzPLmIs6MzMzMzOzjLmoMzMzMzMzy5iLOjMzMzMzs4y5qDMzMzMzM8uYizozMzMzM7OMuagzMzMzMzPL2P8DC2BUqLFJ9EsAAAAASUVORK5CYII=\n"
                },
                "metadata": {
                  "needs_background": "light"
                }
              }
            ]
          }
        },
        "90d5f04cdcd34d0d9101c6d50dcd2712": {
          "model_module": "@jupyter-widgets/base",
          "model_name": "LayoutModel",
          "model_module_version": "1.2.0",
          "state": {
            "_model_module": "@jupyter-widgets/base",
            "_model_module_version": "1.2.0",
            "_model_name": "LayoutModel",
            "_view_count": null,
            "_view_module": "@jupyter-widgets/base",
            "_view_module_version": "1.2.0",
            "_view_name": "LayoutView",
            "align_content": null,
            "align_items": null,
            "align_self": null,
            "border": null,
            "bottom": null,
            "display": null,
            "flex": null,
            "flex_flow": null,
            "grid_area": null,
            "grid_auto_columns": null,
            "grid_auto_flow": null,
            "grid_auto_rows": null,
            "grid_column": null,
            "grid_gap": null,
            "grid_row": null,
            "grid_template_areas": null,
            "grid_template_columns": null,
            "grid_template_rows": null,
            "height": null,
            "justify_content": null,
            "justify_items": null,
            "left": null,
            "margin": null,
            "max_height": null,
            "max_width": null,
            "min_height": null,
            "min_width": null,
            "object_fit": null,
            "object_position": null,
            "order": null,
            "overflow": null,
            "overflow_x": null,
            "overflow_y": null,
            "padding": null,
            "right": null,
            "top": null,
            "visibility": null,
            "width": null
          }
        },
        "348db1663d9e40fd93c710ea9b202c67": {
          "model_module": "@jupyter-widgets/base",
          "model_name": "LayoutModel",
          "model_module_version": "1.2.0",
          "state": {
            "_model_module": "@jupyter-widgets/base",
            "_model_module_version": "1.2.0",
            "_model_name": "LayoutModel",
            "_view_count": null,
            "_view_module": "@jupyter-widgets/base",
            "_view_module_version": "1.2.0",
            "_view_name": "LayoutView",
            "align_content": null,
            "align_items": null,
            "align_self": null,
            "border": null,
            "bottom": null,
            "display": null,
            "flex": null,
            "flex_flow": null,
            "grid_area": null,
            "grid_auto_columns": null,
            "grid_auto_flow": null,
            "grid_auto_rows": null,
            "grid_column": null,
            "grid_gap": null,
            "grid_row": null,
            "grid_template_areas": null,
            "grid_template_columns": null,
            "grid_template_rows": null,
            "height": null,
            "justify_content": null,
            "justify_items": null,
            "left": null,
            "margin": null,
            "max_height": null,
            "max_width": null,
            "min_height": null,
            "min_width": null,
            "object_fit": null,
            "object_position": null,
            "order": null,
            "overflow": null,
            "overflow_x": null,
            "overflow_y": null,
            "padding": null,
            "right": null,
            "top": null,
            "visibility": null,
            "width": null
          }
        },
        "308c7fd3aaf640c2992407084a74bb71": {
          "model_module": "@jupyter-widgets/controls",
          "model_name": "SliderStyleModel",
          "model_module_version": "1.5.0",
          "state": {
            "_model_module": "@jupyter-widgets/controls",
            "_model_module_version": "1.5.0",
            "_model_name": "SliderStyleModel",
            "_view_count": null,
            "_view_module": "@jupyter-widgets/base",
            "_view_module_version": "1.2.0",
            "_view_name": "StyleView",
            "description_width": "",
            "handle_color": null
          }
        },
        "2a6105cce47741f184f640692bc61c2e": {
          "model_module": "@jupyter-widgets/base",
          "model_name": "LayoutModel",
          "model_module_version": "1.2.0",
          "state": {
            "_model_module": "@jupyter-widgets/base",
            "_model_module_version": "1.2.0",
            "_model_name": "LayoutModel",
            "_view_count": null,
            "_view_module": "@jupyter-widgets/base",
            "_view_module_version": "1.2.0",
            "_view_name": "LayoutView",
            "align_content": null,
            "align_items": null,
            "align_self": null,
            "border": null,
            "bottom": null,
            "display": null,
            "flex": null,
            "flex_flow": null,
            "grid_area": null,
            "grid_auto_columns": null,
            "grid_auto_flow": null,
            "grid_auto_rows": null,
            "grid_column": null,
            "grid_gap": null,
            "grid_row": null,
            "grid_template_areas": null,
            "grid_template_columns": null,
            "grid_template_rows": null,
            "height": null,
            "justify_content": null,
            "justify_items": null,
            "left": null,
            "margin": null,
            "max_height": null,
            "max_width": null,
            "min_height": null,
            "min_width": null,
            "object_fit": null,
            "object_position": null,
            "order": null,
            "overflow": null,
            "overflow_x": null,
            "overflow_y": null,
            "padding": null,
            "right": null,
            "top": null,
            "visibility": null,
            "width": null
          }
        },
        "7277d618c6f448478dd23e60c6154fab": {
          "model_module": "@jupyter-widgets/controls",
          "model_name": "SliderStyleModel",
          "model_module_version": "1.5.0",
          "state": {
            "_model_module": "@jupyter-widgets/controls",
            "_model_module_version": "1.5.0",
            "_model_name": "SliderStyleModel",
            "_view_count": null,
            "_view_module": "@jupyter-widgets/base",
            "_view_module_version": "1.2.0",
            "_view_name": "StyleView",
            "description_width": "",
            "handle_color": null
          }
        },
        "220bc27417db4309b5f0eb9e1b441095": {
          "model_module": "@jupyter-widgets/base",
          "model_name": "LayoutModel",
          "model_module_version": "1.2.0",
          "state": {
            "_model_module": "@jupyter-widgets/base",
            "_model_module_version": "1.2.0",
            "_model_name": "LayoutModel",
            "_view_count": null,
            "_view_module": "@jupyter-widgets/base",
            "_view_module_version": "1.2.0",
            "_view_name": "LayoutView",
            "align_content": null,
            "align_items": null,
            "align_self": null,
            "border": null,
            "bottom": null,
            "display": null,
            "flex": null,
            "flex_flow": null,
            "grid_area": null,
            "grid_auto_columns": null,
            "grid_auto_flow": null,
            "grid_auto_rows": null,
            "grid_column": null,
            "grid_gap": null,
            "grid_row": null,
            "grid_template_areas": null,
            "grid_template_columns": null,
            "grid_template_rows": null,
            "height": null,
            "justify_content": null,
            "justify_items": null,
            "left": null,
            "margin": null,
            "max_height": null,
            "max_width": null,
            "min_height": null,
            "min_width": null,
            "object_fit": null,
            "object_position": null,
            "order": null,
            "overflow": null,
            "overflow_x": null,
            "overflow_y": null,
            "padding": null,
            "right": null,
            "top": null,
            "visibility": null,
            "width": null
          }
        },
        "ece88d6c83464327b62dafd69ed2897c": {
          "model_module": "@jupyter-widgets/controls",
          "model_name": "VBoxModel",
          "model_module_version": "1.5.0",
          "state": {
            "_dom_classes": [
              "widget-interact"
            ],
            "_model_module": "@jupyter-widgets/controls",
            "_model_module_version": "1.5.0",
            "_model_name": "VBoxModel",
            "_view_count": null,
            "_view_module": "@jupyter-widgets/controls",
            "_view_module_version": "1.5.0",
            "_view_name": "VBoxView",
            "box_style": "",
            "children": [
              "IPY_MODEL_4c9e6cfa31904b2f965b04172b95701b",
              "IPY_MODEL_bf2deee09b0141bd92667d88e4fa2b8f"
            ],
            "layout": "IPY_MODEL_665f14a4671c4c28b7c664c692b9a914"
          }
        },
        "4c9e6cfa31904b2f965b04172b95701b": {
          "model_module": "@jupyter-widgets/controls",
          "model_name": "FloatTextModel",
          "model_module_version": "1.5.0",
          "state": {
            "_dom_classes": [],
            "_model_module": "@jupyter-widgets/controls",
            "_model_module_version": "1.5.0",
            "_model_name": "FloatTextModel",
            "_view_count": null,
            "_view_module": "@jupyter-widgets/controls",
            "_view_module_version": "1.5.0",
            "_view_name": "FloatTextView",
            "continuous_update": false,
            "description": "n",
            "description_tooltip": null,
            "disabled": false,
            "layout": "IPY_MODEL_5c0ab9e937d24bcf8098a986daa0336c",
            "step": null,
            "style": "IPY_MODEL_4a84fa342eb24e958db3befcf53410ba",
            "value": 0
          }
        },
        "bf2deee09b0141bd92667d88e4fa2b8f": {
          "model_module": "@jupyter-widgets/output",
          "model_name": "OutputModel",
          "model_module_version": "1.0.0",
          "state": {
            "_dom_classes": [],
            "_model_module": "@jupyter-widgets/output",
            "_model_module_version": "1.0.0",
            "_model_name": "OutputModel",
            "_view_count": null,
            "_view_module": "@jupyter-widgets/output",
            "_view_module_version": "1.0.0",
            "_view_name": "OutputView",
            "layout": "IPY_MODEL_ec365058174a4c80ab715768fb6704c5",
            "msg_id": "",
            "outputs": [
              {
                "output_type": "stream",
                "name": "stdout",
                "text": [
                  "\n",
                  "MSE: 17.59 years\n",
                  "\n"
                ]
              },
              {
                "output_type": "display_data",
                "data": {
                  "text/plain": "<Figure size 432x288 with 1 Axes>",
                  "image/png": "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\n"
                },
                "metadata": {
                  "needs_background": "light"
                }
              }
            ]
          }
        },
        "665f14a4671c4c28b7c664c692b9a914": {
          "model_module": "@jupyter-widgets/base",
          "model_name": "LayoutModel",
          "model_module_version": "1.2.0",
          "state": {
            "_model_module": "@jupyter-widgets/base",
            "_model_module_version": "1.2.0",
            "_model_name": "LayoutModel",
            "_view_count": null,
            "_view_module": "@jupyter-widgets/base",
            "_view_module_version": "1.2.0",
            "_view_name": "LayoutView",
            "align_content": null,
            "align_items": null,
            "align_self": null,
            "border": null,
            "bottom": null,
            "display": null,
            "flex": null,
            "flex_flow": null,
            "grid_area": null,
            "grid_auto_columns": null,
            "grid_auto_flow": null,
            "grid_auto_rows": null,
            "grid_column": null,
            "grid_gap": null,
            "grid_row": null,
            "grid_template_areas": null,
            "grid_template_columns": null,
            "grid_template_rows": null,
            "height": null,
            "justify_content": null,
            "justify_items": null,
            "left": null,
            "margin": null,
            "max_height": null,
            "max_width": null,
            "min_height": null,
            "min_width": null,
            "object_fit": null,
            "object_position": null,
            "order": null,
            "overflow": null,
            "overflow_x": null,
            "overflow_y": null,
            "padding": null,
            "right": null,
            "top": null,
            "visibility": null,
            "width": null
          }
        },
        "5c0ab9e937d24bcf8098a986daa0336c": {
          "model_module": "@jupyter-widgets/base",
          "model_name": "LayoutModel",
          "model_module_version": "1.2.0",
          "state": {
            "_model_module": "@jupyter-widgets/base",
            "_model_module_version": "1.2.0",
            "_model_name": "LayoutModel",
            "_view_count": null,
            "_view_module": "@jupyter-widgets/base",
            "_view_module_version": "1.2.0",
            "_view_name": "LayoutView",
            "align_content": null,
            "align_items": null,
            "align_self": null,
            "border": null,
            "bottom": null,
            "display": null,
            "flex": null,
            "flex_flow": null,
            "grid_area": null,
            "grid_auto_columns": null,
            "grid_auto_flow": null,
            "grid_auto_rows": null,
            "grid_column": null,
            "grid_gap": null,
            "grid_row": null,
            "grid_template_areas": null,
            "grid_template_columns": null,
            "grid_template_rows": null,
            "height": null,
            "justify_content": null,
            "justify_items": null,
            "left": null,
            "margin": null,
            "max_height": null,
            "max_width": null,
            "min_height": null,
            "min_width": null,
            "object_fit": null,
            "object_position": null,
            "order": null,
            "overflow": null,
            "overflow_x": null,
            "overflow_y": null,
            "padding": null,
            "right": null,
            "top": null,
            "visibility": null,
            "width": null
          }
        },
        "4a84fa342eb24e958db3befcf53410ba": {
          "model_module": "@jupyter-widgets/controls",
          "model_name": "DescriptionStyleModel",
          "model_module_version": "1.5.0",
          "state": {
            "_model_module": "@jupyter-widgets/controls",
            "_model_module_version": "1.5.0",
            "_model_name": "DescriptionStyleModel",
            "_view_count": null,
            "_view_module": "@jupyter-widgets/base",
            "_view_module_version": "1.2.0",
            "_view_name": "StyleView",
            "description_width": ""
          }
        },
        "ec365058174a4c80ab715768fb6704c5": {
          "model_module": "@jupyter-widgets/base",
          "model_name": "LayoutModel",
          "model_module_version": "1.2.0",
          "state": {
            "_model_module": "@jupyter-widgets/base",
            "_model_module_version": "1.2.0",
            "_model_name": "LayoutModel",
            "_view_count": null,
            "_view_module": "@jupyter-widgets/base",
            "_view_module_version": "1.2.0",
            "_view_name": "LayoutView",
            "align_content": null,
            "align_items": null,
            "align_self": null,
            "border": null,
            "bottom": null,
            "display": null,
            "flex": null,
            "flex_flow": null,
            "grid_area": null,
            "grid_auto_columns": null,
            "grid_auto_flow": null,
            "grid_auto_rows": null,
            "grid_column": null,
            "grid_gap": null,
            "grid_row": null,
            "grid_template_areas": null,
            "grid_template_columns": null,
            "grid_template_rows": null,
            "height": null,
            "justify_content": null,
            "justify_items": null,
            "left": null,
            "margin": null,
            "max_height": null,
            "max_width": null,
            "min_height": null,
            "min_width": null,
            "object_fit": null,
            "object_position": null,
            "order": null,
            "overflow": null,
            "overflow_x": null,
            "overflow_y": null,
            "padding": null,
            "right": null,
            "top": null,
            "visibility": null,
            "width": null
          }
        }
      }
    }
  },
  "cells": [
    {
      "cell_type": "markdown",
      "metadata": {
        "id": "view-in-github",
        "colab_type": "text"
      },
      "source": [
        "<a href=\"https://colab.research.google.com/github/mfmachado/adar/blob/main/ICT.ipynb\" target=\"_parent\"><img src=\"https://colab.research.google.com/assets/colab-badge.svg\" alt=\"Open In Colab\"/></a>"
      ]
    },
    {
      "cell_type": "markdown",
      "source": [
        "# ICT @ BrainAGE\n",
        "\n",
        "Com o envelhecimento ocorrem várias alterações no corpo humano, nomeadamente no cérebro onde o volume de massa cinzenta diminiu, a massa branca aumenta até à idade de 50 anos diminuindo posteriormente e o liquido cefeloraquidiano (CSF) aumenta com a idade. A modulação do envelhecimento saudável do cérebro poderá abrir portas para perceber algumas patolofias como alzheimer, Parkinson etc que actualmente não têm cura. \n",
        "\n",
        "**A questão que se impõe é como é que podemos modular o envelhecimento utilizando dados?** Neste tutorial irão perceber como é que ocorre o ajuste de uma recta a dados.\n"
      ],
      "metadata": {
        "id": "dc-jVoCJ5UN2"
      }
    },
    {
      "cell_type": "code",
      "source": [
        "#@title\n",
        "## Data\n",
        "import math\n",
        "import numpy as np\n",
        "import pandas as pd\n",
        "import matplotlib.pyplot as plt\n",
        "import seaborn as sns\n",
        "from ipywidgets import interact\n",
        "import ipywidgets as widgets\n",
        "import random\n",
        "from sklearn.linear_model import LinearRegression\n",
        "from sklearn.metrics import mean_absolute_error\n",
        "\n",
        "\n",
        "random.seed(2022)\n",
        "\n",
        "def generate_data_without_noise(m, b, number_points):\n",
        "  \n",
        "    x = np.linspace(10, 80, number_points)\n",
        "    y = x*m + b\n",
        "    return pd.DataFrame(np.vstack([x, y]).T, columns=[\"x\", \"y\"])\n",
        "\n",
        "def generate_data_with_noise(m, b, number_points):\n",
        "    \n",
        "    x = np.linspace(10, 80, number_points)\n",
        "    y = x*m + b + np.random.normal(0, 0.5, number_points)\n",
        "    return pd.DataFrame(np.vstack([x, y]).T, columns=[\"x\", \"y\"])\n",
        "\n",
        "def data_generation():\n",
        "    \n",
        "    number_points = 200\n",
        "    age = np.linspace(10, 80, number_points)\n",
        "    csf = 0.0005*age**2 + np.random.normal(0.5, 0.2, number_points)\n",
        "    return pd.DataFrame(np.vstack([age, csf]).T, \n",
        "                        columns=[\"age\", \"csf\"]).sample(frac=1)\n",
        "\n",
        "\n",
        "m, b = round(random.random()/5, 2), round(random.random()/5, 2)\n",
        "df_data = generate_data_without_noise(m, b, n_points)\n",
        "  \n",
        "m_noise, b_noise = round(random.random()/10, 2), round(random.random()/10, 2)\n",
        "df_data_noise = generate_data_with_noise(m_noise, b_noise, n_points)\n"
      ],
      "metadata": {
        "cellView": "form",
        "id": "6RrXdnVCI-g4"
      },
      "execution_count": 103,
      "outputs": []
    },
    {
      "cell_type": "markdown",
      "source": [
        "## Regressão Linear\n",
        "\n",
        "A regressão linear descreve a relação entre uma variável dependente, $y$, e uma variável independente, $x$, pela equação: $y = mx +b$. Onde $m$ corresponde ao declive e $b$ a ordenada na origem $b$.\n",
        "\n",
        "No gráfico abaixo, Figura 1, está uma recta que segue a equação:\n",
        "$y=2x+5$ \n"
      ],
      "metadata": {
        "id": "pkwlzLb6HwZo"
      }
    },
    {
      "cell_type": "markdown",
      "source": [
        ""
      ],
      "metadata": {
        "id": "MkuSOsiYXo2U"
      }
    },
    {
      "cell_type": "code",
      "source": [
        "#@title\n",
        "\n",
        "plt.plot([0, 20], [5, 45], 'r', label=f\"y=2x+5\")\n",
        "_ = plt.xlabel(\"x\")\n",
        "_ = plt.ylabel(\"y\")\n",
        "_ = plt.legend()\n",
        "_ = plt.title(\"Figure 1\")"
      ],
      "metadata": {
        "colab": {
          "base_uri": "https://localhost:8080/",
          "height": 295
        },
        "cellView": "form",
        "id": "2SNHr83FIv3B",
        "outputId": "cf1af9b4-fd19-4033-c74b-da4547e104bf"
      },
      "execution_count": 104,
      "outputs": [
        {
          "output_type": "display_data",
          "data": {
            "text/plain": [
              "<Figure size 432x288 with 1 Axes>"
            ],
            "image/png": "[encoded data removed]"
          },
          "metadata": {
            "needs_background": "light"
          }
        }
      ]
    },
    {
      "cell_type": "markdown",
      "source": [
        "### Exercício 1: Conseguem encontrar os parametros da recta ($m$ e $b$) através de dados?\n",
        "\n",
        "Usando os dados que se encontram na tabela abaixo, tentem encontrar ($m$ e $b$). Preencham a vossa solução no widget abaixo e verifiquem se está correcta.\n",
        "\n",
        "Nota: Para encontrar ($m$ e $b$) podem usar um sistema de equações."
      ],
      "metadata": {
        "id": "pjP8D2d1_KYF"
      }
    },
    {
      "cell_type": "code",
      "source": [
        "#@title\n",
        "n_points = 71\n",
        "\n",
        "df_data.head(5)"
      ],
      "metadata": {
        "colab": {
          "base_uri": "https://localhost:8080/",
          "height": 206
        },
        "cellView": "form",
        "id": "-czvTOX3JCqO",
        "outputId": "8ecf3c4d-47cf-45b4-a298-1f8f11bc7995"
      },
      "execution_count": 105,
      "outputs": [
        {
          "output_type": "execute_result",
          "data": {
            "text/plain": [
              "      x     y\n",
              "0  10.0  1.19\n",
              "1  11.0  1.30\n",
              "2  12.0  1.41\n",
              "3  13.0  1.52\n",
              "4  14.0  1.63"
            ],
            "text/html": [
              "\n",
              "  <div id=\"df-0b6d8a09-6b9b-4170-8d2b-ebd1ad0674d8\">\n",
              "    <div class=\"colab-df-container\">\n",
              "      <div>\n",
              "<style scoped>\n",
              "    .dataframe tbody tr th:only-of-type {\n",
              "        vertical-align: middle;\n",
              "    }\n",
              "\n",
              "    .dataframe tbody tr th {\n",
              "        vertical-align: top;\n",
              "    }\n",
              "\n",
              "    .dataframe thead th {\n",
              "        text-align: right;\n",
              "    }\n",
              "</style>\n",
              "<table border=\"1\" class=\"dataframe\">\n",
              "  <thead>\n",
              "    <tr style=\"text-align: right;\">\n",
              "      <th></th>\n",
              "      <th>x</th>\n",
              "      <th>y</th>\n",
              "    </tr>\n",
              "  </thead>\n",
              "  <tbody>\n",
              "    <tr>\n",
              "      <th>0</th>\n",
              "      <td>10.0</td>\n",
              "      <td>1.19</td>\n",
              "    </tr>\n",
              "    <tr>\n",
              "      <th>1</th>\n",
              "      <td>11.0</td>\n",
              "      <td>1.30</td>\n",
              "    </tr>\n",
              "    <tr>\n",
              "      <th>2</th>\n",
              "      <td>12.0</td>\n",
              "      <td>1.41</td>\n",
              "    </tr>\n",
              "    <tr>\n",
              "      <th>3</th>\n",
              "      <td>13.0</td>\n",
              "      <td>1.52</td>\n",
              "    </tr>\n",
              "    <tr>\n",
              "      <th>4</th>\n",
              "      <td>14.0</td>\n",
              "      <td>1.63</td>\n",
              "    </tr>\n",
              "  </tbody>\n",
              "</table>\n",
              "</div>\n",
              "      <button class=\"colab-df-convert\" onclick=\"convertToInteractive('df-0b6d8a09-6b9b-4170-8d2b-ebd1ad0674d8')\"\n",
              "              title=\"Convert this dataframe to an interactive table.\"\n",
              "              style=\"display:none;\">\n",
              "        \n",
              "  <svg xmlns=\"http://www.w3.org/2000/svg\" height=\"24px\"viewBox=\"0 0 24 24\"\n",
              "       width=\"24px\">\n",
              "    <path d=\"M0 0h24v24H0V0z\" fill=\"none\"/>\n",
              "    <path d=\"M18.56 5.44l.94 2.06.94-2.06 2.06-.94-2.06-.94-.94-2.06-.94 2.06-2.06.94zm-11 1L8.5 8.5l.94-2.06 2.06-.94-2.06-.94L8.5 2.5l-.94 2.06-2.06.94zm10 10l.94 2.06.94-2.06 2.06-.94-2.06-.94-.94-2.06-.94 2.06-2.06.94z\"/><path d=\"M17.41 7.96l-1.37-1.37c-.4-.4-.92-.59-1.43-.59-.52 0-1.04.2-1.43.59L10.3 9.45l-7.72 7.72c-.78.78-.78 2.05 0 2.83L4 21.41c.39.39.9.59 1.41.59.51 0 1.02-.2 1.41-.59l7.78-7.78 2.81-2.81c.8-.78.8-2.07 0-2.86zM5.41 20L4 18.59l7.72-7.72 1.47 1.35L5.41 20z\"/>\n",
              "  </svg>\n",
              "      </button>\n",
              "      \n",
              "  <style>\n",
              "    .colab-df-container {\n",
              "      display:flex;\n",
              "      flex-wrap:wrap;\n",
              "      gap: 12px;\n",
              "    }\n",
              "\n",
              "    .colab-df-convert {\n",
              "      background-color: #E8F0FE;\n",
              "      border: none;\n",
              "      border-radius: 50%;\n",
              "      cursor: pointer;\n",
              "      display: none;\n",
              "      fill: #1967D2;\n",
              "      height: 32px;\n",
              "      padding: 0 0 0 0;\n",
              "      width: 32px;\n",
              "    }\n",
              "\n",
              "    .colab-df-convert:hover {\n",
              "      background-color: #E2EBFA;\n",
              "      box-shadow: 0px 1px 2px rgba(60, 64, 67, 0.3), 0px 1px 3px 1px rgba(60, 64, 67, 0.15);\n",
              "      fill: #174EA6;\n",
              "    }\n",
              "\n",
              "    [theme=dark] .colab-df-convert {\n",
              "      background-color: #3B4455;\n",
              "      fill: #D2E3FC;\n",
              "    }\n",
              "\n",
              "    [theme=dark] .colab-df-convert:hover {\n",
              "      background-color: #434B5C;\n",
              "      box-shadow: 0px 1px 3px 1px rgba(0, 0, 0, 0.15);\n",
              "      filter: drop-shadow(0px 1px 2px rgba(0, 0, 0, 0.3));\n",
              "      fill: #FFFFFF;\n",
              "    }\n",
              "  </style>\n",
              "\n",
              "      <script>\n",
              "        const buttonEl =\n",
              "          document.querySelector('#df-0b6d8a09-6b9b-4170-8d2b-ebd1ad0674d8 button.colab-df-convert');\n",
              "        buttonEl.style.display =\n",
              "          google.colab.kernel.accessAllowed ? 'block' : 'none';\n",
              "\n",
              "        async function convertToInteractive(key) {\n",
              "          const element = document.querySelector('#df-0b6d8a09-6b9b-4170-8d2b-ebd1ad0674d8');\n",
              "          const dataTable =\n",
              "            await google.colab.kernel.invokeFunction('convertToInteractive',\n",
              "                                                     [key], {});\n",
              "          if (!dataTable) return;\n",
              "\n",
              "          const docLinkHtml = 'Like what you see? Visit the ' +\n",
              "            '<a target=\"_blank\" href=https://colab.research.google.com/notebooks/data_table.ipynb>data table notebook</a>'\n",
              "            + ' to learn more about interactive tables.';\n",
              "          element.innerHTML = '';\n",
              "          dataTable['output_type'] = 'display_data';\n",
              "          await google.colab.output.renderOutput(dataTable, element);\n",
              "          const docLink = document.createElement('div');\n",
              "          docLink.innerHTML = docLinkHtml;\n",
              "          element.appendChild(docLink);\n",
              "        }\n",
              "      </script>\n",
              "    </div>\n",
              "  </div>\n",
              "  "
            ]
          },
          "metadata": {},
          "execution_count": 105
        }
      ]
    },
    {
      "cell_type": "code",
      "source": [
        "#@title\n",
        "def verify_slop_intercep(df, x_label, y_label, m_estimate, b_estimate, m_real, b_real):\n",
        "  if m_estimate==m_real and b_estimate==b_real:\n",
        "    print(f\"\\nCorrect, the m is {m_real} and b is {b_real}\\n\")\n",
        "  else:\n",
        "    print(f\"\\nWrong, give it another try!\\n\")\n",
        "  \n",
        "  sns.scatterplot(data=df, x=x_label,y=y_label, label=\"data\")\n",
        "  plt.plot(df[x_label], m_estimate*df[x_label]+b_estimate, 'r', label=f\"y={m_estimate}x+{b_estimate}\")\n",
        "  plt.legend()\n",
        "  plt.title(\"Figure 2\")\n",
        "  return m_estimate==m_real and b_estimate==b_real\n",
        "m_widget = widgets.FloatText(value=0, description='m', disabled=False)\n",
        "b_widget = widgets.FloatText(value=0, description='b', disabled=False)\n",
        "result = interact(verify_slop_intercep, \n",
        "            df=widgets.fixed(df_data),\n",
        "            x_label=widgets.fixed(\"x\"),\n",
        "            y_label=widgets.fixed(\"y\"),\n",
        "            m_estimate=m_widget, b_estimate=b_widget, \n",
        "            m_real=widgets.fixed(m), b_real=widgets.fixed(b))"
      ],
      "metadata": {
        "colab": {
          "base_uri": "https://localhost:8080/",
          "height": 433,
          "referenced_widgets": [
            "9b5e20cf45364254968e839214816f32",
            "7d4d8a4379754422a9ab85b5bd85596c",
            "815962283275428f884845fa037ae4b2",
            "dc18c10bd9c946d3ad5c6ced91b4b85e",
            "39bb0eb8f55842da99ba6c468e372c98",
            "db70d7d62be841c0b01c746ddca0b3f3",
            "ebcff6fa776743e1a066ddbe545c6742",
            "72d2c7baf16c4b528cb10646638c3d7f",
            "aa8aed0a98de4f5aafd95a1aafb7cb16",
            "773bb253e92e42d4abd93bc5e5323333"
          ]
        },
        "id": "5elcBMcK_qI3",
        "outputId": "72cd6f1c-a62a-4c0f-9b9e-eb21e6244503",
        "cellView": "form"
      },
      "execution_count": 106,
      "outputs": [
        {
          "output_type": "display_data",
          "data": {
            "text/plain": [
              "interactive(children=(FloatText(value=0.0, description='m'), FloatText(value=0.0, description='b'), Output()),…"
            ],
            "application/vnd.jupyter.widget-view+json": {
              "version_major": 2,
              "version_minor": 0,
              "model_id": "9b5e20cf45364254968e839214816f32"
            }
          },
          "metadata": {}
        }
      ]
    },
    {
      "cell_type": "markdown",
      "source": [
        "## Variabilidade dos dados\n",
        "\n",
        "O dados adquiridos em problemas reais contêm variabidade. Essa variabilidade tem diferentes origens, no caso do cérebro, por exemplo, o cérebro de cada pessoa é diferente. \n",
        "\n",
        "Na Figure 3, está representado um caso mais realista, acham que neste caso é possível determinar $m$ e $b$ usando um sistema de equações?\n",
        "\n",
        "A resposta é não, pois cada pair de pontos dará uma equação diferente! Explorem o widget abaixo."
      ],
      "metadata": {
        "id": "75oMbsrnHGsJ"
      }
    },
    {
      "cell_type": "code",
      "source": [
        "#@title\n",
        "\n",
        "def verify_slop_intercep(df, x_label, y_label, m_estimate, b_estimate):\n",
        "  \n",
        "  sns.scatterplot(data=df, x=x_label,y=y_label, label=\"data\")\n",
        "  plt.plot(df[x_label], m_estimate*df[x_label]+b_estimate, 'r', label=f\"y={m_estimate}x+{b_estimate}\")\n",
        "  plt.legend()\n",
        "  plt.title(\"Figure 3\")\n",
        "  return \n",
        "\n",
        "\n",
        "m_value = 0.3\n",
        "\n",
        "b_value = -2.9\n",
        "\n",
        "step_m = 0.005\n",
        "step_b = 0.1\n",
        "nsteps = 15\n",
        "\n",
        "min_m_value = m_noise - nsteps*step_m\n",
        "max_m_value = max(m_noise + 5*step_m, m_value)\n",
        "min_b_value = min(b_value, b_noise - nsteps*step_b)\n",
        "max_b_value = b_noise + 5*step_b\n",
        "\n",
        "m_widget = widgets.FloatSlider(value=m_value, \n",
        "                               min=min_m_value, \n",
        "                               max=max_m_value, \n",
        "                               step=step_m,\n",
        "                               description='m', disabled=False)\n",
        "\n",
        "b_widget = widgets.FloatSlider(value=b_value, \n",
        "                               min=min_b_value, \n",
        "                               max=max_b_value, \n",
        "                               step=step_b,\n",
        "                               description='b', disabled=False)\n",
        "\n",
        "_= interact(verify_slop_intercep, \n",
        "            df=widgets.fixed(df_data_noise),\n",
        "            x_label=widgets.fixed(\"x\"),\n",
        "            y_label=widgets.fixed(\"y\"),\n",
        "            m_estimate=m_widget, b_estimate=b_widget)"
      ],
      "metadata": {
        "colab": {
          "base_uri": "https://localhost:8080/",
          "height": 359,
          "referenced_widgets": [
            "1545f9cd7aaa48928698237271b23cc1",
            "926b9282f8af4454822bed5e62c38079",
            "6c6b97bc68fe4c4893ecdc34fe28dbde",
            "db668537fd924cdf8ec9bc20d14cf794",
            "50b5a194ee754112804a2dd21937f9c2",
            "607fabcf60ed4bdab3f47c1151465c02",
            "9624084dca0f4967b338dcb79b553a70",
            "d7a6f3bf24dc4a0e91b16af5a9647bbb",
            "8083132a7ea34eb1a741a9c421dfa96a",
            "982947b44fdd4a4da77aeb7461d99437"
          ]
        },
        "id": "FnKbotOwIxbN",
        "outputId": "ed354dc3-f3de-40d3-f8c8-0c68b9f255c9",
        "cellView": "form"
      },
      "execution_count": 107,
      "outputs": [
        {
          "output_type": "display_data",
          "data": {
            "text/plain": [
              "interactive(children=(FloatSlider(value=0.3, description='m', max=0.3, min=-0.045, step=0.005), FloatSlider(va…"
            ],
            "application/vnd.jupyter.widget-view+json": {
              "version_major": 2,
              "version_minor": 0,
              "model_id": "1545f9cd7aaa48928698237271b23cc1"
            }
          },
          "metadata": {}
        }
      ]
    },
    {
      "cell_type": "markdown",
      "source": [
        "## Optimização dos paramêtros da recta\n",
        "\n",
        "Como podemos então decidir qual o melhor $m$ e $b$? \n",
        "\n",
        "Em suma, é necessário uma métrica que nos permita avaliar o ajuste da recta aos dados. Existem diferentes métricas, uma das métricas que é usada é a Soma do Quadrado dos Erros (MSE - Mean Squared Error), que é dada pela equação abaixo.\n",
        "\n",
        "\\begin{align}\n",
        "    MSE = \\frac{1}{N}\\sum_{i=1}^N(y - \\hat{y})^2 \n",
        "\\end{align}\n",
        "\n",
        "onde $N$ é o número de instâncias, $y$ e $\\hat{y}$ é o valor real e estimado de y, respectivamente.\n",
        "\n",
        "O objectivo é minimizar o MSE, ou seja:\n",
        "\\begin{align}\n",
        "\\min _{m, b} \\frac{1}{N}\\sum_{i=1}^{N}\\left(y_{i}-\\hat{y}_i\\right)^{2}\n",
        "\\end{align}"
      ],
      "metadata": {
        "id": "3ja7qAtDQMtz"
      }
    },
    {
      "cell_type": "markdown",
      "source": [
        "### Exercicío 2: Encontra os paramêtros da recta com menor valore de MSE.\n",
        "\n",
        "Explora o widget abaixo e encontra o valor de $m$ e $b$ cujo erro é mais baixo."
      ],
      "metadata": {
        "id": "LtgfSEjHQ9UJ"
      }
    },
    {
      "cell_type": "code",
      "source": [
        "#@title\n",
        "from sklearn.metrics import mean_squared_error\n",
        "values_mse = []\n",
        "def verify_slop_intercep(df, x_label, y_label, m_estimate, b_estimate, m_real, b_real):\n",
        "  \n",
        "  f, ax = plt.subplots(1, 2, figsize=(15, 5))\n",
        "  sns.scatterplot(data=df, x=x_label,y=y_label, label=\"data\", ax=ax[0])\n",
        "  y_pred = m_estimate*df[x_label]+b_estimate\n",
        "  ax[0].plot(df[x_label], y_pred, 'r', \n",
        "             label=f\"y={m_estimate}x+{b_estimate}\")\n",
        "  mse = mean_squared_error(df[y_label], y_pred)\n",
        "  \n",
        "  ymin = np.minimum(df[y_label], y_pred)\n",
        "  ymax = np.maximum(df[y_label], y_pred)\n",
        "  ax[0].vlines(df[x_label], ymin, ymax, 'g', alpha=0.5, label='Resíduos')\n",
        "\n",
        "  values_mse.append(mse)\n",
        "\n",
        "  ax[1].plot(values_mse)\n",
        "  ax[1].set_ylabel(\"MSE\")\n",
        "  ax[1].set_xlabel(\"iteration\")\n",
        "  ax[1].set_title(\"Error Evolution\")\n",
        "  ax[0].legend()\n",
        "  if m_estimate == m_real and b_estimate == b_real:\n",
        "    print(\"Congratulations you found the real m and b value!\")\n",
        "    ax[1].plot([len(values_mse)-1], [values_mse[-1]], 'ro')\n",
        "  return \n",
        "\n",
        "\n",
        "m_widget = widgets.FloatSlider(value=m_value, \n",
        "                               min=min_m_value, \n",
        "                               max=max_m_value, \n",
        "                               step=step_m,\n",
        "                               description='m', disabled=False)\n",
        "\n",
        "b_widget = widgets.FloatSlider(value=b_value, \n",
        "                               min=min_b_value, \n",
        "                               max=max_b_value, \n",
        "                               step=step_b,\n",
        "                               description='b', disabled=False)\n",
        "\n",
        "_= interact(verify_slop_intercep, \n",
        "            df=widgets.fixed(df_data_noise),\n",
        "            x_label=widgets.fixed(\"x\"),\n",
        "            y_label=widgets.fixed(\"y\"),\n",
        "            m_estimate=m_widget, b_estimate=b_widget,\n",
        "            m_real=widgets.fixed(m_noise), b_real=widgets.fixed(b_noise))\n"
      ],
      "metadata": {
        "id": "47Z7V6QfQk0d",
        "colab": {
          "base_uri": "https://localhost:8080/",
          "height": 414,
          "referenced_widgets": [
            "dc534d735ad141b6b62ed51c9af80663",
            "3cb7138c4d4347fcbf26be61c36b8783",
            "7f74fab252a540e6aaec14645d60a990",
            "09df97ad331b44769434a3fc8340d9aa",
            "90d5f04cdcd34d0d9101c6d50dcd2712",
            "348db1663d9e40fd93c710ea9b202c67",
            "308c7fd3aaf640c2992407084a74bb71",
            "2a6105cce47741f184f640692bc61c2e",
            "7277d618c6f448478dd23e60c6154fab",
            "220bc27417db4309b5f0eb9e1b441095"
          ]
        },
        "outputId": "9d22a19e-7bd3-4797-af1e-d10682b1b863",
        "cellView": "form"
      },
      "execution_count": 108,
      "outputs": [
        {
          "output_type": "display_data",
          "data": {
            "text/plain": [
              "interactive(children=(FloatSlider(value=0.3, description='m', max=0.3, min=-0.045, step=0.005), FloatSlider(va…"
            ],
            "application/vnd.jupyter.widget-view+json": {
              "version_major": 2,
              "version_minor": 0,
              "model_id": "dc534d735ad141b6b62ed51c9af80663"
            }
          },
          "metadata": {}
        }
      ]
    },
    {
      "cell_type": "markdown",
      "source": [
        "## Características não lineares\n",
        "\n",
        "A matéria cinzenta decresce monotonicamente com a idade, no entanto não é o caso de todas as features, como por exemplo o Líquido Cefaloraquidiano (CSF) que erá representado na Figura abaixo. Como fazemos nestes casos? Há várias soluções, uma delas é transformar a característica não linear em linear para que conseguimos, desta forma, aplicar uma recta aos dados, por exemplo aplicando a seguinte equação aos dados:\n",
        "\\begin{align}\n",
        "    x_{linear} = x_{non~linear}^n\n",
        "\\end{align}\n",
        "\n"
      ],
      "metadata": {
        "id": "nSboBfwxNp7L"
      }
    },
    {
      "cell_type": "code",
      "source": [
        "#@title\n",
        "df = data_generation()\n",
        "_ = sns.scatterplot(data=df, y=\"age\", x=\"csf\")"
      ],
      "metadata": {
        "colab": {
          "base_uri": "https://localhost:8080/",
          "height": 279
        },
        "cellView": "form",
        "id": "43r1xxvk6BbT",
        "outputId": "0ae243f4-b306-411c-8f6a-8f857b5e856d"
      },
      "execution_count": 109,
      "outputs": [
        {
          "output_type": "display_data",
          "data": {
            "text/plain": [
              "<Figure size 432x288 with 1 Axes>"
            ],
            "image/png": "[encoded data removed]"
          },
          "metadata": {
            "needs_background": "light"
          }
        }
      ]
    },
    {
      "cell_type": "markdown",
      "source": [
        "### Exercício 3: Qual a transformação polinomial que deve ser aplicada ao líquido cefaloraquidiano, que minimize o MSE?\n",
        "\n",
        "Terás de descobrir o valor de $n$ da equação: $x_{linear} = x_{non~linear}^n$\n",
        "\n",
        "\n",
        "Try different orders on the widget below and select the one that have a better fitting to the data.\n"
      ],
      "metadata": {
        "id": "HJvctq9H5N9F"
      }
    },
    {
      "cell_type": "code",
      "source": [
        "#@title\n",
        "\n",
        "def f(order):\n",
        "    pipeline = LinearRegression()\n",
        "    pipeline.fit(df[[\"csf\"]]**order, df[\"age\"])   \n",
        "    predicted_age = pipeline.predict(df[[\"csf\"]]**order)\n",
        "    \n",
        "    sns.scatterplot(data=df, x=\"csf\", y=\"age\", label=\"CSF\")\n",
        "    plt.plot(df[\"csf\"], predicted_age, 'or', label='Model Prediction')\n",
        "    mae = round(mean_absolute_error(df[\"age\"], predicted_age), 2)\n",
        "    print(f\"\\nMSE: {mae} years\\n\")\n",
        "    if order == 0.5:\n",
        "      print(\"Correct! The order is 0.5.\\n\")\n",
        "    return \n",
        "\n",
        "widget_csf_order = widgets.FloatText(value=0, description='n', disabled=False)\n",
        "n = interact(f, order=widget_csf_order)"
      ],
      "metadata": {
        "colab": {
          "base_uri": "https://localhost:8080/",
          "height": 366,
          "referenced_widgets": [
            "ece88d6c83464327b62dafd69ed2897c",
            "4c9e6cfa31904b2f965b04172b95701b",
            "bf2deee09b0141bd92667d88e4fa2b8f",
            "665f14a4671c4c28b7c664c692b9a914",
            "5c0ab9e937d24bcf8098a986daa0336c",
            "4a84fa342eb24e958db3befcf53410ba",
            "ec365058174a4c80ab715768fb6704c5"
          ]
        },
        "id": "CjQHiOrj5pFo",
        "outputId": "05151a56-fa93-4c51-a155-f2f0430040ff",
        "cellView": "form"
      },
      "execution_count": 110,
      "outputs": [
        {
          "output_type": "display_data",
          "data": {
            "text/plain": [
              "interactive(children=(FloatText(value=0.0, description='n'), Output()), _dom_classes=('widget-interact',))"
            ],
            "application/vnd.jupyter.widget-view+json": {
              "version_major": 2,
              "version_minor": 0,
              "model_id": "ece88d6c83464327b62dafd69ed2897c"
            }
          },
          "metadata": {}
        }
      ]
    }
  ]
}