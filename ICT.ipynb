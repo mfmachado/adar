{
  "nbformat": 4,
  "nbformat_minor": 0,
  "metadata": {
    "colab": {
      "name": "ICT.ipynb",
      "provenance": [],
      "collapsed_sections": [],
      "toc_visible": true,
      "authorship_tag": "ABX9TyO7aOfJJKC/a9UYIKrZs20C",
      "include_colab_link": true
    },
    "kernelspec": {
      "name": "python3",
      "display_name": "Python 3"
    },
    "language_info": {
      "name": "python"
    },
    "widgets": {
      "application/vnd.jupyter.widget-state+json": {
        "61c0a9c427cc4461b0b1b64a5a74f614": {
          "model_module": "@jupyter-widgets/controls",
          "model_name": "VBoxModel",
          "model_module_version": "1.5.0",
          "state": {
            "_dom_classes": [
              "widget-interact"
            ],
            "_model_module": "@jupyter-widgets/controls",
            "_model_module_version": "1.5.0",
            "_model_name": "VBoxModel",
            "_view_count": null,
            "_view_module": "@jupyter-widgets/controls",
            "_view_module_version": "1.5.0",
            "_view_name": "VBoxView",
            "box_style": "",
            "children": [
              "IPY_MODEL_de00b55f2b714f488f9409775a98a899",
              "IPY_MODEL_c7455c78bade48c08fb0ecbaaf3c2f17",
              "IPY_MODEL_1451a2272a8b4bae899be9825c87ecdb"
            ],
            "layout": "IPY_MODEL_f49339a77aa54435ab177b04bec40142"
          }
        },
        "de00b55f2b714f488f9409775a98a899": {
          "model_module": "@jupyter-widgets/controls",
          "model_name": "FloatTextModel",
          "model_module_version": "1.5.0",
          "state": {
            "_dom_classes": [],
            "_model_module": "@jupyter-widgets/controls",
            "_model_module_version": "1.5.0",
            "_model_name": "FloatTextModel",
            "_view_count": null,
            "_view_module": "@jupyter-widgets/controls",
            "_view_module_version": "1.5.0",
            "_view_name": "FloatTextView",
            "continuous_update": false,
            "description": "m",
            "description_tooltip": null,
            "disabled": false,
            "layout": "IPY_MODEL_1bcb2ee8085c4df0b0bc0a5e39631521",
            "step": null,
            "style": "IPY_MODEL_26e2aba743304e909f52be06a842973f",
            "value": 0
          }
        },
        "c7455c78bade48c08fb0ecbaaf3c2f17": {
          "model_module": "@jupyter-widgets/controls",
          "model_name": "FloatTextModel",
          "model_module_version": "1.5.0",
          "state": {
            "_dom_classes": [],
            "_model_module": "@jupyter-widgets/controls",
            "_model_module_version": "1.5.0",
            "_model_name": "FloatTextModel",
            "_view_count": null,
            "_view_module": "@jupyter-widgets/controls",
            "_view_module_version": "1.5.0",
            "_view_name": "FloatTextView",
            "continuous_update": false,
            "description": "b",
            "description_tooltip": null,
            "disabled": false,
            "layout": "IPY_MODEL_cadcc1b6d1b14f2aa5d2282ea0ffb6bd",
            "step": null,
            "style": "IPY_MODEL_2ba40ba5d4e34ce0b7f84483ac783176",
            "value": 0
          }
        },
        "1451a2272a8b4bae899be9825c87ecdb": {
          "model_module": "@jupyter-widgets/output",
          "model_name": "OutputModel",
          "model_module_version": "1.0.0",
          "state": {
            "_dom_classes": [],
            "_model_module": "@jupyter-widgets/output",
            "_model_module_version": "1.0.0",
            "_model_name": "OutputModel",
            "_view_count": null,
            "_view_module": "@jupyter-widgets/output",
            "_view_module_version": "1.0.0",
            "_view_name": "OutputView",
            "layout": "IPY_MODEL_aa8c74719cb9413fa15a5da76eb3e7c0",
            "msg_id": "",
            "outputs": [
              {
                "output_type": "stream",
                "name": "stdout",
                "text": [
                  "\n",
                  "Wrong, give it another try!\n",
                  "\n"
                ]
              },
              {
                "output_type": "display_data",
                "data": {
                  "text/plain": "<Figure size 432x288 with 1 Axes>",
                  "image/png": "iVBORw0KGgoAAAANSUhEUgAAAXgAAAEWCAYAAABsY4yMAAAABHNCSVQICAgIfAhkiAAAAAlwSFlzAAALEgAACxIB0t1+/AAAADh0RVh0U29mdHdhcmUAbWF0cGxvdGxpYiB2ZXJzaW9uMy4yLjIsIGh0dHA6Ly9tYXRwbG90bGliLm9yZy+WH4yJAAAc1klEQVR4nO3df3RV9Znv8fdDiB4JaCRGxVAMDP4ChUCD0PHHqnXmjjpeHISl6NXqaEvX6lRFWwdrWdRZ1nZY7bXK1DX3SumgXpFafwB2dWlbGNe14wwCSuWXjsoPDQrEtJYfJmMgz/xxzokn8STnJDn77H32+bzWyjJnn52zH+LJk2++z/f7bHN3REQkfgaFHYCIiARDCV5EJKaU4EVEYkoJXkQkppTgRURiSgleRCSmlOAl9szsoJmNCTsOkWJTgpfYMLOdZtaaSujpj1Pcfai7b49AfH9tZr8zs4/MbI+Z/dTMhoUdl8SXErzEzf9MJfT0x/tBXcjMBvfxS44DvgecApwF1AE/LHRcImlK8BJ7ZuZmNjb1eY2ZPWdm+81snZl9z8x+l3quPnXu4IyvfdHMvpL6/EYz+zcz+7GZtQD3mNnRZvYjM3vXzPaa2f8xs2OyxeHuy9z9eXf/2N3/CCwGzgv8GyBlSwleys1DwCHgZOCG1EdfTAW2AycB9wH/CJwONABjSY7KF+T5WhcCW/p4fZG89fVPTJGoW2Fmh1Ofv+juf5N+wswqgJnA2e7+MbDVzB4BvtiH13/f3f8p9XpHgDnABHf/Q+rY94FlwLd7exEz+0uSv1ym9uHaIn2iBC9x8zfu/tsenqsl+Z5/L+PYez2c25PM82uBIcAGM0sfM6Citxcws2kkfwnMcvf/7OP1RfKmKRopJ83AYWBkxrHPZXx+KPXfIRnHTu72GpntVz8EWoHx7l6d+jjO3Yf2FICZTQJWATe5++q+/gNE+kIJXsqGux8BniFZHB1iZmcCX854vhnYDVxnZhVmdhPwZ728XgfJQumPzexEADOrM7O/yna+mZ0NPA/c4u7PFerfJdITJXgpN98guVxxD/AY8ATwXxnPfxW4E2gBxgMv53i9ecDbwH+Y2X7gt8AZPZz7TZLTOksy1umryCqBMd3wQ8qZmS0ETnb3vq6mEYk8jeClrJjZmWY2wZLOBW4Gng07LpEgaBWNlJthJKdlTgH2Av8bWBlqRCIB0RSNiEhMaYpGRCSmIjVFc8IJJ3h9fX3YYYiIlIwNGzZ86O612Z6LVIKvr69n/fr1YYchIlIyzGxXT89pikZEJKaU4EVEYkoJXkQkpiI1B59Ne3s7TU1NtLW1hR1K2UkkEowcOZLKysqwQxGRfoh8gm9qamLYsGHU19eT0ZJVAubutLS00NTUxOjRo8MOR0T6IfJTNG1tbdTU1Ci5F5mZUVNTo7+cRALU0eFsbz7Iv7/zIdubD9LRUdiNp5EfwQNK7iHR910kOB0dzvNb9nDHkxtpa+8gUTmI+69q4JLxJzNoUGF+9iI/ghcRiaOdLYc6kztAW3sHdzy5kZ0th3J8Zf6U4AOyY8cOpk6dytixY7n66qv55JNPsp73gx/8gLFjx3LGGWfwwgsvlOx1RSS3zCmZnS2HOpN7Wlt7B/sOFG5aVAk+IPPmzeP222/n7bff5vjjj2fJkiWfOWfr1q0sX76cLVu28Pzzz/P1r3+dI0eO5PX6S5cu5Z577in6dUWkf9JTMpcteolrFq/l9+99RKKyawpOVA7ixGGJgl1TCT6HBQsW8MADD3Q+/s53vsODDz7Y69e4O2vWrGHWrFkA3HDDDaxYseIz561cuZLZs2dz9NFHM3r0aMaOHcsrr7zCunXrmDBhAm1tbRw6dIjx48ezefPmnLEO9LoiUjjdC6g7Puw6JfPk+iZuu/i0ziSfnoOvr6kqWAwlUWTtNHcubNxY2NdsaICMBN7dTTfdxJVXXsncuXPp6Ohg+fLlrFmzhoaGhqznL1u2jBNPPJHq6moGD05+e0eOHMnu3bs/c+7u3buZNm1a5+P0ebNmzWL69OnMnz+f1tZWrrvuOs4+++yc/5SWlpYBXVdECiNbAfVHsyZ2mZL54E9tPPrvu3jkb8/FcU4clqC+pqpgBVYotQQfgvr6empqanjttdfYu3cvkyZN4tRTT2VjL79oPvzwwwFfd8GCBUyZMoVEIsGiRYuAZAK/+OKLAfjDH/7AJ5980jlCf+yxxxgxYsSArysiA5etgPrWvgMkKgd1SfJ//PgTaocdzZjaoYHEUVoJvpeRdpC+8pWvsHTpUvbs2cNNN93EgQMHuOCCC7Keu2zZMs466yw++ugjDh8+zODBg2lqaqKuru4z59bV1fHee+91Ps48r6WlhYMHD9Le3k5bWxtVVVXU1NR0/mJZunQpO3fu7DIP7+4Dvq6I9E9Hh7Oz5RB797fR2n7kMwXUJ9c38f0Z53D3s5u6LIss5JRMd6WV4EMyY8YMFixYQHt7O8uWLaOioqLXETzARRddxFNPPcXs2bN55JFHuOKKKz5zzvTp07n22mu54447eP/993nrrbc499xzAfja177Gvffey44dO5g3bx4/+clPcsZpZgO+roj0XfcpmdsuHpt1tD55VDW/uvUC9h1oC2RKpjsVWfNw1FFHcdFFF3HVVVdRUVGR19csXLiQ+++/n7Fjx9LS0sLNN98MwKpVq1iwYAEA48eP56qrrmLcuHFccsklPPTQQ1RUVPDoo49SWVnJtddey1133cW6detYs2ZN4NcVkfxlFlE37f4orwLqqOFVjKkdyrQxJzCmdmigyR0idk/WxsZG737Dj23btnHWWWeFFFFSR0cHkydP5he/+AWnnXZaqLEUWxS+/yJR033EfuvFY1m0+u0u54w4LsEDVzcEVkBNM7MN7t6Y7TlN0eSwdetWLr/8cmbMmFF2yV1EkjLn1086NoE7XUbsHU7RC6j5UILPYdy4cWzfvj3sMEQkJPkseXx6QxO3fuk0Fq15q2gF1HwowYuI9CKfJY8f/KmNn69/l5/PmUZr+5GiFFDzoQQvItJNf5Y8zrvkLM6pqw49qWdSghcRyRDVJY/9oQQvImUvc8Q+5KiKrEseH1zddX591PBkQg+ziJqLEnwf3XPPPQwdOpRvfetbWZ9fsWIFp59+OuPGjStyZCLSH9mWPBa7Z0xQtNGpwFasWMHWrVvDDkNE8tS9iJpe8pgpveSxWBuUCiXQBG9mt5vZFjPbbGZPmFnhGh33IIh7HN53332cfvrpnH/++bz55psALF68mClTpjBx4kRmzpzJxx9/zMsvv8yqVau48847aWho4J133sl6noiEp3uO2Lu/LeuSxyDb+BZLYFM0ZlYH3AqMc/dWM3sSmA0sDeqaQdzjcMOGDSxfvpyNGzdy+PBhJk+ezOc//3muvPJKvvrVrwIwf/58lixZwi233ML06dO5/PLLO3uyV1dXZz1PRIovW45YfH1jSSx57I+gp2gGA8eY2WBgCPB+kBcL4h6HL730EjNmzGDIkCEce+yxTJ8+HYDNmzdzwQUXcM455/D444+zZcuWrF+f73kiEozeesa0tXcwf+UmFs6c0GXEnl7yWGpTMt0FNoJ3991m9iPgXaAV+LW7/7r7eWY2B5gDMGrUqAFds/ufWvDpPQ4LXem+8cYbWbFiBRMnTmTp0qW8+OKLAzpPRAovVwEVYFdLK3XVicgveeyPwEbwZnY8cAUwGjgFqDKz67qf5+4Pu3ujuzfW1tYO6JonHZso+D0OL7zwQlasWEFraysHDhzgueeeA+DAgQOMGDGC9vZ2Hn/88c7zhw0bxoEDBzof93SeiAQvnwJqonIQw6uOLmqXx2IJcormL4Ad7t7s7u3AM8CfB3g96muquP+qhoIWRyZPnszVV1/NxIkTufTSS5kyZQoA9957L1OnTuW8887jzDPP7Dx/9uzZ/PCHP2TSpEm88847PZ4nIsHInJLZ2XIotgXUfATWLtjMpgI/A6aQnKJZCqx393/q6WsK0S44vWEhbn9qhUXtgqWUZNuF+n////YuSf7UmmNYNHtSyRdQ00JpF+zua83sKeBV4DDwGvBwUNdLS+8si/LuMhEpjFxtfLPtQo1iz5igBLqT1d2/C3w3yGuISHnKp41vKe9CLYSSaFXg7piVx/+QKInS3b5EusunjS9E48YbYYl8q4JEIkFLS4uSTZG5Oy0tLSQSgW8+FslbbwVU+LSNb7kUUXOJ/Ah+5MiRNDU10dzcHHYoZSeRSDBy5MiwwxAB4tXGt1gin+ArKysZPXp02GGISAji2sa3WCKf4EWkPMW5jW+xKMGLSCTkWvKY3oWqAmr+lOBFJHT5LHlM70JdtKbrlEy5FlDzoQQvIqHLZ8ljnNr4FosSvIiEInNKprX9SI9LHu9+dlNZ7kItBCV4ESk6LXksDiV4ESkKLXksPiV4EQmcljyGQwleRALX0403tOQxWJHvRSMipSezZ8z25oOfuZ1mud14IywawYtIQWVb0774+kYteQyBEryIDFhvBdS29g7mr9zEwpkTmPf061ryWERK8CIyILkKqAC7Wlqpq05oyWORKcGLyIDkU0BNVA5ieNXRup1mkanIKiJ91tuNN1RAjQ6N4EWkT3LtQlUBNTqU4EWkV7na+GbbhaoCajQowYtIj/Jp46tdqNGlBC8iPcqnjS9oF2pUqcgqIl30VkCFT9v4qogafRrBi0gntfGNFyV4kTLWnwKq2viWDiV4kTKlAmr8KcGLlJFcPWNUQI0XFVlFykR6xH7Zope4ZvFaVr+xTwXUmNMIXqRM5HvTDRVQ40MJXiTGMqdkWtuPZO0Zs2iNCqhxpQQvElPqGSNK8CIxoZ4x0p0SvEgMaMmjZKMELxID6hkj2QS6TNLMqs3sKTN7w8y2mdkXgryeSDlRzxjJJegR/IPA8+4+y8yOAoYEfD2RsqCeMZKPwBK8mR0HXAjcCODunwCfBHU9kbjrbReqesZINkGO4EcDzcC/mNlEYANwm7sfCvCaIrHUfcR+68VjVUCVnIKcgx8MTAb+2d0nAYeAu7qfZGZzzGy9ma1vbm4OMByR0tXTLtRM6QLqtDEnMKZ2qJK7BJrgm4Amd1+bevwUyYTfhbs/7O6N7t5YW1sbYDgipSOzgLq9+SB797dl3YWqAqr0JrApGnffY2bvmdkZ7v4mcDGwNajricRFtjXti69v1C5U6bOgV9HcAjyeWkGzHfjbgK8nUpJytfGdv3ITC2dOYN7Tr2sXquQt0ATv7huBxiCvIVLqchVQAXa1tFJXndCSR+kT7WQVCVk+bXwTlYMYXpXcgaolj5Iv3fBDJAS97UJVAVUKRSN4kSJTG18pFiV4kYCpja+ERQleJEBq4ythUoIXCZDa+EqYVGQVKTC18ZWo0AhepIDUxleiRAleZIDUxleiSgleZADUxleiTAlepA9yLXnMtgtVBVQJixK8SJ7yWfKY3oW6aE3XKRkVUCUMSvAiecpnyaN2oUqUKMGL9CJzSqa1/UiPSx7vfnaTdqFK5CjBi/RASx6l1CnBi2TQkkeJEyV4kRQteZS4UYIXScnnxhta8iilRL1opGxl9ozZ3nyQvfvbdOMNiRWN4KUsZVvTvvj6Ri15lFhRgpey0VsBta29g/krN7Fw5gTmPf26ljxKLCjBS1nIVUAF2NXSSl11QkseJTaU4KUs5FNATVQOYnhVsoCqIqrEgYqsElu93XhDBVQpBxrBSyzl2oWqAqqUAyV4iYVcbXyz7UJVAVXiTgleSl4+bXy1C1XKkRK8lLx82viCdqFK+clZZDWzW8zs+GIEI5Kv3gqo8GkbXxVRpZzlM4I/CVhnZq8CPwNecHcPNiyRnqmNr0h+co7g3X0+cBqwBLgReMvMvm9mfxZwbCKdMkfsm3Z/lLWA2n20Pmp4FWNqhzJtzAmMqR2q5C5lJ685eHd3M9sD7AEOA8cDT5nZb9z974MMUERtfEX6J2eCN7PbgC8DHwI/Be5093YzGwS8BSjBS0HlWvKoNr4i+clnBD8cuNLdd2UedPcOM7s8mLCkXOWz5DG9C3XRmq53VlIBVaSrnAne3b/by3PbChuOlLt8ljxqF6pIfrQOXkKXOSXT2n6kxyWPdz+7SbtQRfog8ARvZhXAemC3u2tKR7rQkkeR4BRjBH8bsA04tgjXkojrT8+Y9JLHQYNMRVSRPgg0wZvZSOCvgfuAO4K8lkSfesaIFFfQI/gHSC6jHNbTCWY2B5gDMGrUqIDDkTCpZ4xIcQV2w4/UEsp97r6ht/Pc/WF3b3T3xtra2qDCkZCoZ4xIeIIcwZ8HTDezy4AEcKyZ/T93vy7Aa0qEqIAqEq7AEry7fxv4NoCZfRH4lpJ7/GUWUYccVaECqkiItA5eCkY9Y0SipSgJ3t1fBF4sxrUkPN2LqOoZIxKuwIqsEn+ZBdTtzQfZu78ta88YFVBFwqEpGumXbGvaF1/fqJ4xIhGiBC95662A2tbewfyVm1g4cwLznn5dPWNEIkAJXvKSq4AKsKullbrqhJY8ikSEErzkJZ8CaqJyEMOrkgVUFVFFwqciq/Sot12oKqCKRJ9G8JJVrl2oKqCKRJ8SvAD9a+OrAqpItCnBi9r4isSUEnyZyrXkUW18RUqfiqxlKD1iv2zRS1yzeC2r39inNr4iMaQRfBnKt2eM2viKlDYl+DKROSXT2n4k65LHRWvUxlckTpTgy4CWPIqUJyX4GNKSRxEBJfjY0ZJHEUlTgo+Z7gVULXkUKV9aJhkDvfWMAS15FClXGsGXuFwFVNCSR5FypQRfgnrbhZqtgKoljyLlSQm+xOS68YYKqCKSpgRfYvLdhaoCqoioyBpxmQXU7c0H2bu/TTfeEJG8aAQfYdnWtC++vlG7UEUkL0rwEZOrje/8lZtYOHMC855+XbtQRaRXSvARkquACrCrpZW66oSWPIpITkrwEZJPATVROYjhVckCqoqoItIbFVlD1tsuVBVQRWQgNIIPkdr4ikiQlOCLSG18RaSYlOCLRG18RaTYlOADlGvJo9r4ikiQVGQNSHrEftmil7hm8VpWv7FPbXxFpKg0gg9Ivj1j1MZXRIKiBF9AmVMyre1Hsi55XLRGbXxFpDgCS/Bm9jngUeAkwIGH3f3BoK4XNi15FJGoCXIEfxj4pru/ambDgA1m9ht33xrgNYtGSx5FJOoCS/Du/gHwQerzA2a2DagDSj7Ba8mjiJSCoszBm1k9MAlYm+W5OcAcgFGjRhUjnAHrXkDVkkcRiaLAl0ma2VDgaWCuu+/v/ry7P+zuje7eWFtbG3Q4/dZbzxjQkkcRiZ5AR/BmVkkyuT/u7s8Eea0g5SqggpY8ikj0BLmKxoAlwDZ3vz+o6wSlt12o2QqoWvIoIlET5Aj+POB6YJOZbUwdu9vdfxXgNQsi1403VEAVkVIQ5Cqa3wElmfHy3YWqAqqIRJl60dC1gLq9+SB797fpxhsiUvLKvlVBtjXti69v1C5UESl5ZZngc7Xxnb9yEwtnTmDe069rF6qIlKyyS/C5CqgAu1paqatOaMmjiJS0skvw+RRQE5WDGF6VLKCqiCoipSr2RVYVUEWkXMV6BK8CqoiUs9gleBVQRUSSYpXgVUAVEflUySf43kbsKqCKSDkr6SJresR+2aKXuGbxWla/sU8FVBGRlJIeweda8qgCqoiUs5Ieweez5DFdQJ025gTG1A5VcheRslHSI/iTjk1oxC4i0oOSHsHX11Rx/1UNGrGLiGRR0iP4QYOMS8afzJla8igi8hklneCBzlvkacmjiEhXJT1FIyIiPVOCFxGJKSV4EZGYUoIXEYkpJXgRkZhSghcRiSkleBGRmFKCFxGJKSV4EZGYUoIXEYkpJXgRkZhSghcRiSkleBGRmFKCFxGJKSV4EZGYUoIXEYkpJXgRkZhSghcRiSkleBGRmAo0wZvZJWb2ppm9bWZ3BXktERHpKrAEb2YVwEPApcA44BozGxfU9UREpKvBAb72ucDb7r4dwMyWA1cAWwt+pblzYePGgr+siEhRNDTAAw8U/GWDnKKpA97LeNyUOtaFmc0xs/Vmtr65uTnAcEREykuQI/i8uPvDwMMAjY2N3q8XCeA3n4hIqQtyBL8b+FzG45GpYyIiUgRBJvh1wGlmNtrMjgJmA6sCvJ6IiGQIbIrG3Q+b2TeAF4AK4GfuviWo64mISFeBzsG7+6+AXwV5DRERyU47WUVEYkoJXkQkppTgRURiSgleRCSmzL1/e4uCYGbNwK5+fvkJwIcFDCdIpRQrlFa8pRQrlFa8pRQrlFa8A4n1VHevzfZEpBL8QJjZendvDDuOfJRSrFBa8ZZSrFBa8ZZSrFBa8QYVq6ZoRERiSgleRCSm4pTgHw47gD4opVihtOItpVihtOItpVihtOINJNbYzMGLiEhXcRrBi4hIBiV4EZGYKskEb2Y/M7N9ZrY549hwM/uNmb2V+u/xYcaYZmafM7N/NbOtZrbFzG5LHY9cvGaWMLNXzOz3qVj/IXV8tJmtTd08/eep9s+RYGYVZvaamf0y9TjKse40s01mttHM1qeORe59kGZm1Wb2lJm9YWbbzOwLUYzXzM5IfU/TH/vNbG4UY00zs9tTP2ObzeyJ1M9ewd+7JZnggaXAJd2O3QWsdvfTgNWpx1FwGPimu48DpgF/l7r5eBTj/S/gS+4+EWgALjGzacBC4MfuPhb4I3BziDF2dxuwLeNxlGMFuMjdGzLWPEfxfZD2IPC8u58JTCT5fY5cvO7+Zup72gB8HvgYeJYIxgpgZnXArUCju59Nsp36bIJ477p7SX4A9cDmjMdvAiNSn48A3gw7xh7iXgn8ZdTjBYYArwJTSe6wG5w6/gXghbDjS8UykuQP7peAXwIW1VhT8ewETuh2LJLvA+A4YAephRhRjzcjvv8B/FuUY+XT+1UPJ9my/ZfAXwXx3i3VEXw2J7n7B6nP9wAnhRlMNmZWD0wC1hLReFNTHhuBfcBvgHeAj9z9cOqUrDdPD8kDwN8DHanHNUQ3VgAHfm1mG8xsTupYJN8HwGigGfiX1BTYT82siujGmzYbeCL1eSRjdffdwI+Ad4EPgD8BGwjgvRunBN/Jk78CI7X+08yGAk8Dc919f+ZzUYrX3Y948k/dkcC5wJkhh5SVmV0O7HP3DWHH0gfnu/tk4FKSU3UXZj4ZpfcByZHlZOCf3X0ScIhuUxwRi5fUnPV04Bfdn4tSrKlawBUkf4meAlTx2SnngohTgt9rZiMAUv/dF3I8ncyskmRyf9zdn0kdjmy8AO7+EfCvJP9UrDaz9N2/onLz9POA6Wa2E1hOcprmQaIZK9A5csPd95GcIz6X6L4PmoAmd1+bevwUyYQf1Xgh+YvzVXffm3oc1Vj/Atjh7s3u3g48Q/L9XPD3bpwS/CrghtTnN5Cc6w6dmRmwBNjm7vdnPBW5eM2s1syqU58fQ7JWsI1kop+VOi0Ssbr7t919pLvXk/yzfI27/y8iGCuAmVWZ2bD05yTnijcTwfcBgLvvAd4zszNShy4GthLReFOu4dPpGYhurO8C08xsSCo/pL+3hX/vhl1w6GeR4gmSc1ftJEcaN5Ocf10NvAX8FhgedpypWM8n+afh68DG1MdlUYwXmAC8lop1M7AgdXwM8ArwNsk/f48OO9ZucX8R+GWUY03F9fvUxxbgO6njkXsfZMTcAKxPvR9WAMdHNV6S0xwtwHEZxyIZayq2fwDeSP2cPQYcHcR7V60KRERiKk5TNCIikkEJXkQkppTgRURiSgleRCSmlOBFRGJKCV5EJKaU4EVEYkoJXqQHZjbFzF5P9equSvXvPjvsuETypY1OIr0ws+8BCeAYkr1ZfhBySCJ5U4IX6UWqQ+E6oA34c3c/EnJIInnTFI1I72qAocAwkiN5kZKhEbxIL8xsFcl2xKNJ3h3oGyGHJJK3wblPESlPZvZloN3dl5lZBfCymX3J3deEHZtIPjSCFxGJKc3Bi4jElBK8iEhMKcGLiMSUEryISEwpwYuIxJQSvIhITCnBi4jE1H8DAWfIiN6C4RUAAAAASUVORK5CYII=\n"
                },
                "metadata": {
                  "needs_background": "light"
                }
              },
              {
                "output_type": "display_data",
                "data": {
                  "text/plain": "False"
                },
                "metadata": {}
              }
            ]
          }
        },
        "f49339a77aa54435ab177b04bec40142": {
          "model_module": "@jupyter-widgets/base",
          "model_name": "LayoutModel",
          "model_module_version": "1.2.0",
          "state": {
            "_model_module": "@jupyter-widgets/base",
            "_model_module_version": "1.2.0",
            "_model_name": "LayoutModel",
            "_view_count": null,
            "_view_module": "@jupyter-widgets/base",
            "_view_module_version": "1.2.0",
            "_view_name": "LayoutView",
            "align_content": null,
            "align_items": null,
            "align_self": null,
            "border": null,
            "bottom": null,
            "display": null,
            "flex": null,
            "flex_flow": null,
            "grid_area": null,
            "grid_auto_columns": null,
            "grid_auto_flow": null,
            "grid_auto_rows": null,
            "grid_column": null,
            "grid_gap": null,
            "grid_row": null,
            "grid_template_areas": null,
            "grid_template_columns": null,
            "grid_template_rows": null,
            "height": null,
            "justify_content": null,
            "justify_items": null,
            "left": null,
            "margin": null,
            "max_height": null,
            "max_width": null,
            "min_height": null,
            "min_width": null,
            "object_fit": null,
            "object_position": null,
            "order": null,
            "overflow": null,
            "overflow_x": null,
            "overflow_y": null,
            "padding": null,
            "right": null,
            "top": null,
            "visibility": null,
            "width": null
          }
        },
        "1bcb2ee8085c4df0b0bc0a5e39631521": {
          "model_module": "@jupyter-widgets/base",
          "model_name": "LayoutModel",
          "model_module_version": "1.2.0",
          "state": {
            "_model_module": "@jupyter-widgets/base",
            "_model_module_version": "1.2.0",
            "_model_name": "LayoutModel",
            "_view_count": null,
            "_view_module": "@jupyter-widgets/base",
            "_view_module_version": "1.2.0",
            "_view_name": "LayoutView",
            "align_content": null,
            "align_items": null,
            "align_self": null,
            "border": null,
            "bottom": null,
            "display": null,
            "flex": null,
            "flex_flow": null,
            "grid_area": null,
            "grid_auto_columns": null,
            "grid_auto_flow": null,
            "grid_auto_rows": null,
            "grid_column": null,
            "grid_gap": null,
            "grid_row": null,
            "grid_template_areas": null,
            "grid_template_columns": null,
            "grid_template_rows": null,
            "height": null,
            "justify_content": null,
            "justify_items": null,
            "left": null,
            "margin": null,
            "max_height": null,
            "max_width": null,
            "min_height": null,
            "min_width": null,
            "object_fit": null,
            "object_position": null,
            "order": null,
            "overflow": null,
            "overflow_x": null,
            "overflow_y": null,
            "padding": null,
            "right": null,
            "top": null,
            "visibility": null,
            "width": null
          }
        },
        "26e2aba743304e909f52be06a842973f": {
          "model_module": "@jupyter-widgets/controls",
          "model_name": "DescriptionStyleModel",
          "model_module_version": "1.5.0",
          "state": {
            "_model_module": "@jupyter-widgets/controls",
            "_model_module_version": "1.5.0",
            "_model_name": "DescriptionStyleModel",
            "_view_count": null,
            "_view_module": "@jupyter-widgets/base",
            "_view_module_version": "1.2.0",
            "_view_name": "StyleView",
            "description_width": ""
          }
        },
        "cadcc1b6d1b14f2aa5d2282ea0ffb6bd": {
          "model_module": "@jupyter-widgets/base",
          "model_name": "LayoutModel",
          "model_module_version": "1.2.0",
          "state": {
            "_model_module": "@jupyter-widgets/base",
            "_model_module_version": "1.2.0",
            "_model_name": "LayoutModel",
            "_view_count": null,
            "_view_module": "@jupyter-widgets/base",
            "_view_module_version": "1.2.0",
            "_view_name": "LayoutView",
            "align_content": null,
            "align_items": null,
            "align_self": null,
            "border": null,
            "bottom": null,
            "display": null,
            "flex": null,
            "flex_flow": null,
            "grid_area": null,
            "grid_auto_columns": null,
            "grid_auto_flow": null,
            "grid_auto_rows": null,
            "grid_column": null,
            "grid_gap": null,
            "grid_row": null,
            "grid_template_areas": null,
            "grid_template_columns": null,
            "grid_template_rows": null,
            "height": null,
            "justify_content": null,
            "justify_items": null,
            "left": null,
            "margin": null,
            "max_height": null,
            "max_width": null,
            "min_height": null,
            "min_width": null,
            "object_fit": null,
            "object_position": null,
            "order": null,
            "overflow": null,
            "overflow_x": null,
            "overflow_y": null,
            "padding": null,
            "right": null,
            "top": null,
            "visibility": null,
            "width": null
          }
        },
        "2ba40ba5d4e34ce0b7f84483ac783176": {
          "model_module": "@jupyter-widgets/controls",
          "model_name": "DescriptionStyleModel",
          "model_module_version": "1.5.0",
          "state": {
            "_model_module": "@jupyter-widgets/controls",
            "_model_module_version": "1.5.0",
            "_model_name": "DescriptionStyleModel",
            "_view_count": null,
            "_view_module": "@jupyter-widgets/base",
            "_view_module_version": "1.2.0",
            "_view_name": "StyleView",
            "description_width": ""
          }
        },
        "aa8c74719cb9413fa15a5da76eb3e7c0": {
          "model_module": "@jupyter-widgets/base",
          "model_name": "LayoutModel",
          "model_module_version": "1.2.0",
          "state": {
            "_model_module": "@jupyter-widgets/base",
            "_model_module_version": "1.2.0",
            "_model_name": "LayoutModel",
            "_view_count": null,
            "_view_module": "@jupyter-widgets/base",
            "_view_module_version": "1.2.0",
            "_view_name": "LayoutView",
            "align_content": null,
            "align_items": null,
            "align_self": null,
            "border": null,
            "bottom": null,
            "display": null,
            "flex": null,
            "flex_flow": null,
            "grid_area": null,
            "grid_auto_columns": null,
            "grid_auto_flow": null,
            "grid_auto_rows": null,
            "grid_column": null,
            "grid_gap": null,
            "grid_row": null,
            "grid_template_areas": null,
            "grid_template_columns": null,
            "grid_template_rows": null,
            "height": null,
            "justify_content": null,
            "justify_items": null,
            "left": null,
            "margin": null,
            "max_height": null,
            "max_width": null,
            "min_height": null,
            "min_width": null,
            "object_fit": null,
            "object_position": null,
            "order": null,
            "overflow": null,
            "overflow_x": null,
            "overflow_y": null,
            "padding": null,
            "right": null,
            "top": null,
            "visibility": null,
            "width": null
          }
        },
        "8af4da32117f4f4f9019f1d7d08fd2fa": {
          "model_module": "@jupyter-widgets/controls",
          "model_name": "VBoxModel",
          "model_module_version": "1.5.0",
          "state": {
            "_dom_classes": [
              "widget-interact"
            ],
            "_model_module": "@jupyter-widgets/controls",
            "_model_module_version": "1.5.0",
            "_model_name": "VBoxModel",
            "_view_count": null,
            "_view_module": "@jupyter-widgets/controls",
            "_view_module_version": "1.5.0",
            "_view_name": "VBoxView",
            "box_style": "",
            "children": [
              "IPY_MODEL_266118b26e2b4a8ab21c9b199ad0276c",
              "IPY_MODEL_0eb5a71db4704cd68bd56be6ca013228",
              "IPY_MODEL_31308bba7a554e59a0b519c7ec0ea7fb"
            ],
            "layout": "IPY_MODEL_e8549ecffce8405c895647848d3af2c3"
          }
        },
        "266118b26e2b4a8ab21c9b199ad0276c": {
          "model_module": "@jupyter-widgets/controls",
          "model_name": "FloatSliderModel",
          "model_module_version": "1.5.0",
          "state": {
            "_dom_classes": [],
            "_model_module": "@jupyter-widgets/controls",
            "_model_module_version": "1.5.0",
            "_model_name": "FloatSliderModel",
            "_view_count": null,
            "_view_module": "@jupyter-widgets/controls",
            "_view_module_version": "1.5.0",
            "_view_name": "FloatSliderView",
            "continuous_update": true,
            "description": "m",
            "description_tooltip": null,
            "disabled": false,
            "layout": "IPY_MODEL_ca3514ca206c4730b04121622ad2cc09",
            "max": 0.3,
            "min": -0.045,
            "orientation": "horizontal",
            "readout": true,
            "readout_format": ".2f",
            "step": 0.005,
            "style": "IPY_MODEL_cedda4efde2f406987fabbedb6d4f0c4",
            "value": 0.3
          }
        },
        "0eb5a71db4704cd68bd56be6ca013228": {
          "model_module": "@jupyter-widgets/controls",
          "model_name": "FloatSliderModel",
          "model_module_version": "1.5.0",
          "state": {
            "_dom_classes": [],
            "_model_module": "@jupyter-widgets/controls",
            "_model_module_version": "1.5.0",
            "_model_name": "FloatSliderModel",
            "_view_count": null,
            "_view_module": "@jupyter-widgets/controls",
            "_view_module_version": "1.5.0",
            "_view_name": "FloatSliderView",
            "continuous_update": true,
            "description": "b",
            "description_tooltip": null,
            "disabled": false,
            "layout": "IPY_MODEL_d4ecf78765394532b05e4b688b415c58",
            "max": 0.51,
            "min": -2.9,
            "orientation": "horizontal",
            "readout": true,
            "readout_format": ".2f",
            "step": 0.1,
            "style": "IPY_MODEL_4b60a1585b01400c9bcf97888502d84c",
            "value": -2.9
          }
        },
        "31308bba7a554e59a0b519c7ec0ea7fb": {
          "model_module": "@jupyter-widgets/output",
          "model_name": "OutputModel",
          "model_module_version": "1.0.0",
          "state": {
            "_dom_classes": [],
            "_model_module": "@jupyter-widgets/output",
            "_model_module_version": "1.0.0",
            "_model_name": "OutputModel",
            "_view_count": null,
            "_view_module": "@jupyter-widgets/output",
            "_view_module_version": "1.0.0",
            "_view_name": "OutputView",
            "layout": "IPY_MODEL_6c49f43d49a3416686e78bf82f0b632f",
            "msg_id": "",
            "outputs": [
              {
                "output_type": "display_data",
                "data": {
                  "text/plain": "<Figure size 432x288 with 1 Axes>",
                  "image/png": "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\n"
                },
                "metadata": {
                  "needs_background": "light"
                }
              }
            ]
          }
        },
        "e8549ecffce8405c895647848d3af2c3": {
          "model_module": "@jupyter-widgets/base",
          "model_name": "LayoutModel",
          "model_module_version": "1.2.0",
          "state": {
            "_model_module": "@jupyter-widgets/base",
            "_model_module_version": "1.2.0",
            "_model_name": "LayoutModel",
            "_view_count": null,
            "_view_module": "@jupyter-widgets/base",
            "_view_module_version": "1.2.0",
            "_view_name": "LayoutView",
            "align_content": null,
            "align_items": null,
            "align_self": null,
            "border": null,
            "bottom": null,
            "display": null,
            "flex": null,
            "flex_flow": null,
            "grid_area": null,
            "grid_auto_columns": null,
            "grid_auto_flow": null,
            "grid_auto_rows": null,
            "grid_column": null,
            "grid_gap": null,
            "grid_row": null,
            "grid_template_areas": null,
            "grid_template_columns": null,
            "grid_template_rows": null,
            "height": null,
            "justify_content": null,
            "justify_items": null,
            "left": null,
            "margin": null,
            "max_height": null,
            "max_width": null,
            "min_height": null,
            "min_width": null,
            "object_fit": null,
            "object_position": null,
            "order": null,
            "overflow": null,
            "overflow_x": null,
            "overflow_y": null,
            "padding": null,
            "right": null,
            "top": null,
            "visibility": null,
            "width": null
          }
        },
        "ca3514ca206c4730b04121622ad2cc09": {
          "model_module": "@jupyter-widgets/base",
          "model_name": "LayoutModel",
          "model_module_version": "1.2.0",
          "state": {
            "_model_module": "@jupyter-widgets/base",
            "_model_module_version": "1.2.0",
            "_model_name": "LayoutModel",
            "_view_count": null,
            "_view_module": "@jupyter-widgets/base",
            "_view_module_version": "1.2.0",
            "_view_name": "LayoutView",
            "align_content": null,
            "align_items": null,
            "align_self": null,
            "border": null,
            "bottom": null,
            "display": null,
            "flex": null,
            "flex_flow": null,
            "grid_area": null,
            "grid_auto_columns": null,
            "grid_auto_flow": null,
            "grid_auto_rows": null,
            "grid_column": null,
            "grid_gap": null,
            "grid_row": null,
            "grid_template_areas": null,
            "grid_template_columns": null,
            "grid_template_rows": null,
            "height": null,
            "justify_content": null,
            "justify_items": null,
            "left": null,
            "margin": null,
            "max_height": null,
            "max_width": null,
            "min_height": null,
            "min_width": null,
            "object_fit": null,
            "object_position": null,
            "order": null,
            "overflow": null,
            "overflow_x": null,
            "overflow_y": null,
            "padding": null,
            "right": null,
            "top": null,
            "visibility": null,
            "width": null
          }
        },
        "cedda4efde2f406987fabbedb6d4f0c4": {
          "model_module": "@jupyter-widgets/controls",
          "model_name": "SliderStyleModel",
          "model_module_version": "1.5.0",
          "state": {
            "_model_module": "@jupyter-widgets/controls",
            "_model_module_version": "1.5.0",
            "_model_name": "SliderStyleModel",
            "_view_count": null,
            "_view_module": "@jupyter-widgets/base",
            "_view_module_version": "1.2.0",
            "_view_name": "StyleView",
            "description_width": "",
            "handle_color": null
          }
        },
        "d4ecf78765394532b05e4b688b415c58": {
          "model_module": "@jupyter-widgets/base",
          "model_name": "LayoutModel",
          "model_module_version": "1.2.0",
          "state": {
            "_model_module": "@jupyter-widgets/base",
            "_model_module_version": "1.2.0",
            "_model_name": "LayoutModel",
            "_view_count": null,
            "_view_module": "@jupyter-widgets/base",
            "_view_module_version": "1.2.0",
            "_view_name": "LayoutView",
            "align_content": null,
            "align_items": null,
            "align_self": null,
            "border": null,
            "bottom": null,
            "display": null,
            "flex": null,
            "flex_flow": null,
            "grid_area": null,
            "grid_auto_columns": null,
            "grid_auto_flow": null,
            "grid_auto_rows": null,
            "grid_column": null,
            "grid_gap": null,
            "grid_row": null,
            "grid_template_areas": null,
            "grid_template_columns": null,
            "grid_template_rows": null,
            "height": null,
            "justify_content": null,
            "justify_items": null,
            "left": null,
            "margin": null,
            "max_height": null,
            "max_width": null,
            "min_height": null,
            "min_width": null,
            "object_fit": null,
            "object_position": null,
            "order": null,
            "overflow": null,
            "overflow_x": null,
            "overflow_y": null,
            "padding": null,
            "right": null,
            "top": null,
            "visibility": null,
            "width": null
          }
        },
        "4b60a1585b01400c9bcf97888502d84c": {
          "model_module": "@jupyter-widgets/controls",
          "model_name": "SliderStyleModel",
          "model_module_version": "1.5.0",
          "state": {
            "_model_module": "@jupyter-widgets/controls",
            "_model_module_version": "1.5.0",
            "_model_name": "SliderStyleModel",
            "_view_count": null,
            "_view_module": "@jupyter-widgets/base",
            "_view_module_version": "1.2.0",
            "_view_name": "StyleView",
            "description_width": "",
            "handle_color": null
          }
        },
        "6c49f43d49a3416686e78bf82f0b632f": {
          "model_module": "@jupyter-widgets/base",
          "model_name": "LayoutModel",
          "model_module_version": "1.2.0",
          "state": {
            "_model_module": "@jupyter-widgets/base",
            "_model_module_version": "1.2.0",
            "_model_name": "LayoutModel",
            "_view_count": null,
            "_view_module": "@jupyter-widgets/base",
            "_view_module_version": "1.2.0",
            "_view_name": "LayoutView",
            "align_content": null,
            "align_items": null,
            "align_self": null,
            "border": null,
            "bottom": null,
            "display": null,
            "flex": null,
            "flex_flow": null,
            "grid_area": null,
            "grid_auto_columns": null,
            "grid_auto_flow": null,
            "grid_auto_rows": null,
            "grid_column": null,
            "grid_gap": null,
            "grid_row": null,
            "grid_template_areas": null,
            "grid_template_columns": null,
            "grid_template_rows": null,
            "height": null,
            "justify_content": null,
            "justify_items": null,
            "left": null,
            "margin": null,
            "max_height": null,
            "max_width": null,
            "min_height": null,
            "min_width": null,
            "object_fit": null,
            "object_position": null,
            "order": null,
            "overflow": null,
            "overflow_x": null,
            "overflow_y": null,
            "padding": null,
            "right": null,
            "top": null,
            "visibility": null,
            "width": null
          }
        },
        "422731e00aad45a8a26eeb060ffa10de": {
          "model_module": "@jupyter-widgets/controls",
          "model_name": "VBoxModel",
          "model_module_version": "1.5.0",
          "state": {
            "_dom_classes": [
              "widget-interact"
            ],
            "_model_module": "@jupyter-widgets/controls",
            "_model_module_version": "1.5.0",
            "_model_name": "VBoxModel",
            "_view_count": null,
            "_view_module": "@jupyter-widgets/controls",
            "_view_module_version": "1.5.0",
            "_view_name": "VBoxView",
            "box_style": "",
            "children": [
              "IPY_MODEL_1eef349372d643158967a534a242f22b",
              "IPY_MODEL_55651f52b22240cd93ff63b439897dc9",
              "IPY_MODEL_ba541c7509dd43709e6f37917c5b66ce"
            ],
            "layout": "IPY_MODEL_3f9c853ab77746ae85256d2a3a28ef8d"
          }
        },
        "1eef349372d643158967a534a242f22b": {
          "model_module": "@jupyter-widgets/controls",
          "model_name": "FloatSliderModel",
          "model_module_version": "1.5.0",
          "state": {
            "_dom_classes": [],
            "_model_module": "@jupyter-widgets/controls",
            "_model_module_version": "1.5.0",
            "_model_name": "FloatSliderModel",
            "_view_count": null,
            "_view_module": "@jupyter-widgets/controls",
            "_view_module_version": "1.5.0",
            "_view_name": "FloatSliderView",
            "continuous_update": true,
            "description": "m",
            "description_tooltip": null,
            "disabled": false,
            "layout": "IPY_MODEL_c5db6deb9bac41cd95b3f4f1d0955c91",
            "max": 0.3,
            "min": -0.045,
            "orientation": "horizontal",
            "readout": true,
            "readout_format": ".2f",
            "step": 0.005,
            "style": "IPY_MODEL_cedc8997cea24fafbe247c672c1f5d50",
            "value": 0.3
          }
        },
        "55651f52b22240cd93ff63b439897dc9": {
          "model_module": "@jupyter-widgets/controls",
          "model_name": "FloatSliderModel",
          "model_module_version": "1.5.0",
          "state": {
            "_dom_classes": [],
            "_model_module": "@jupyter-widgets/controls",
            "_model_module_version": "1.5.0",
            "_model_name": "FloatSliderModel",
            "_view_count": null,
            "_view_module": "@jupyter-widgets/controls",
            "_view_module_version": "1.5.0",
            "_view_name": "FloatSliderView",
            "continuous_update": true,
            "description": "b",
            "description_tooltip": null,
            "disabled": false,
            "layout": "IPY_MODEL_e704f5b119164b528bbd3c6a64c5f9d4",
            "max": 0.51,
            "min": -2.9,
            "orientation": "horizontal",
            "readout": true,
            "readout_format": ".2f",
            "step": 0.1,
            "style": "IPY_MODEL_1aa08ba2156249b9b9caf0652d701a8a",
            "value": -2.9
          }
        },
        "ba541c7509dd43709e6f37917c5b66ce": {
          "model_module": "@jupyter-widgets/output",
          "model_name": "OutputModel",
          "model_module_version": "1.0.0",
          "state": {
            "_dom_classes": [],
            "_model_module": "@jupyter-widgets/output",
            "_model_module_version": "1.0.0",
            "_model_name": "OutputModel",
            "_view_count": null,
            "_view_module": "@jupyter-widgets/output",
            "_view_module_version": "1.0.0",
            "_view_name": "OutputView",
            "layout": "IPY_MODEL_0ceab50fa50a4949bff6cb21f017d877",
            "msg_id": "",
            "outputs": [
              {
                "output_type": "display_data",
                "data": {
                  "text/plain": "<Figure size 1080x360 with 2 Axes>",
                  "image/png": "iVBORw0KGgoAAAANSUhEUgAAA3UAAAFNCAYAAACnuEbJAAAABHNCSVQICAgIfAhkiAAAAAlwSFlzAAALEgAACxIB0t1+/AAAADh0RVh0U29mdHdhcmUAbWF0cGxvdGxpYiB2ZXJzaW9uMy4yLjIsIGh0dHA6Ly9tYXRwbG90bGliLm9yZy+WH4yJAAAgAElEQVR4nOzdd3hU1dbH8e+iaEBQilgRsSElkKBBbCgIV7EhWBAsAURBFMGCgIqIoldRrxUbNkApgkpREPS1UC6CtBAC2GgCUmIQSYBAQvb7xyS5IUySSZmcmeT3eZ48zOzZ55w1k4TMmrWLOecQERERERGR8FTB6wBERERERESk6JTUiYiIiIiIhDEldSIiIiIiImFMSZ2IiIiIiEgYU1InIiIiIiISxpTUiYiIiIiIhDEldSIiIiJSZpnZBjNrV8Rj65lZiplVLOm4REqSkjoRERGRci4z8dmXmcBkfY0s5Rh+MLPUXDF8UcoxHJIAOuf+cM5Vc84dLM04RAqrktcBiIiIiEhIuNY5938FdTKzSs659FxtFQuT+OTTv69z7r1AzyMiPqrUiYiIiEiezKy7mf3XzF42syRgmJmNNrO3zGymme0B2phZo8xq2y4zW2VmHXKc47D+hYxhjZldk+N+JTNLNLNzMu93yLzmrswYGuVxntFm9nSO+63NbHPm7Y+AesAXmVXCgWZW38ycmVXK7HOSmU03s51m9ruZ3ZXjXMPMbJKZjTWz5Mx4YgrzPEWKSkmdiIiIiBSkJbAOOB54JrPtlszb1YFFwBfA18BxwH3AODM7O8c5cvafX8jrTwC65rh/BfCXc26ZmTXIfPx+oA4wE19idkRhLuCcux34A1/Fsppz7nk/3SYCm4GTgBuBf5vZZTke75DZpwYwHSjVIaxSfimpExERERGAqZmVrqyvu3I89qdz7nXnXLpzbl9m2zTn3H+dcxlANFANeM45d8A59x3wJYcmYtn9nXOpecTwWq4Yhme2jwc6mFnVzPu34EvkAG4GZjjnvnHOpQEvAlWAC4vzYuRmZqcAFwGDnHOpzrk44D0gNke3+c65mZlDSz8CokoyBpG8aE6diIiIiAB0zGdO3aYC2k4CNmUmeFk2AicXcI7c+vmbU+ec+93M1gDXZi6e0gFonuPaG3P0zTCzTbmuXRJOAnY655JztG0Ecg6x3Jbj9l4gwt8cRJGSpqRORERERAriCmj7EzjFzCrkSOzqAb8WcI7CyBqCWQFY7Zz7Pce1m2Z1MjMDTgG2+DnHHqBqjvsn5Ho8vxj/BGqZWfUciV29PK4jUqo0/FJEREREimsRvsrUQDOrbGatgWvxzS8rKROBy4E++IZjZpkEXG1mbc2sMvAQsB9Y4OccccBVZlbLzE7ANw8vp+3A6f4u7pzblHnOZ80swsyaAT2Bj4vxnERKhJI6EREREYH/rfqY9TUl0AOdcwfwJXFXAn8BbwKxzrmfCxnDyFwxLM1xja3Aj/jmyn2So/0X4Dbg9cxrX4tvsZMDfs7/EbAC2IBvUZdPcj3+LDAkcz7fAD/HdwXq46vaTQGeCGQbCJFgM+eKWwkXERERERERr6hSJyIiIiIiEsaU1ImIiIiIiIQxJXUiIiIiIiJhTEmdiIiIiIhIGFNSJyIiIiIiEsbCYvPxY4891tWvX9/rMEREJMiWLl36l3OujtdxhAv9fRQRKT/y+xsZFkld/fr1WbJkiddhiIhIkJnZRq9jCCf6+ygiUn7k9zdSwy9FRERERETCmJI6ERERERGRMKakTkREREREJIyFxZw6f9LS0ti8eTOpqaleh1LuRUREULduXSpXrux1KCIiIiIi5U7YJnWbN2+mevXq1K9fHzPzOpxyyzlHUlISmzdv5rTTTvM6HBERERGRcidsh1+mpqZSu3ZtJXQeMzNq166tiqmIiIiIiEfCNqkDlNCFCH0fRERERES8E9ZJXThav349LVu25Mwzz+Tmm2/mwIEDh/X56aefiI6OJjo6mqioKKZMmVKiMcTFxXHBBRfQpEkTmjVrxieffOK338aNG2nbti3NmjWjdevWbN68uUTjEBERERGR4lNSV8oGDRrEAw88wO+//07NmjV5//33D+sTGRnJkiVLiIuLY9asWfTu3Zv09PSAzj969GiGDRuWb5+qVasyduxYVq1axaxZs7j//vvZtWvXYf0GDBhAbGws8fHxDB06lEceeSSgGERExMfMPjCzHWaWkKPtBTP72czizWyKmdXIdUw9M0sxswGlH7GIiIQjJXVFNHToUF555ZXs+4899hivvvpqvsc45/juu++48cYbAejWrRtTp049rF/VqlWpVMm3hk1qamr28MbFixfTrFkzUlNT2bNnD02aNCEhIeGw4wvSoEEDzjrrLABOOukkjjvuOBITEw/rt3r1ai677DIA2rRpw7Rp0wp9LREpJxISII+qfzk3Gmifq+0bINI51wz4Fcj9idlLwFfBD01ERMoKJXVFdMcddzB27FgAMjIymDhxIh07dsweNpn7a/Xq1SQlJVGjRo3shK1u3bps2bLF7/kXLVpEkyZNaNq0KW+//TaVKlWiRYsWdOjQgSFDhjBw4EBuu+02IiMji/U8fvrpJw4cOMAZZ5xx2GNRUVF8/vnnAEyZMoXk5GSSkpKKdT0RKWMOHoQXXuDgOc1JeeBe2L/f64hCinNuLrAzV9vXzrms4RcLgbpZj5lZR2A9sKrUghQRkbAXtlsaHOL++yEurmTPGR0NOSpxudWvX5/atWuzfPlytm/fTvPmzTn11FOJyyeOv/76K+DLt2zZklWrVrFmzRq6devGlVdeSUREBEOHDqVFixZERETw2muvAZCUlETbtm0B2LlzJwcOHMiuAH700Uc0bdrU7zW2bt3K7bffzpgxY6hQ4fD8/sUXX6Rv376MHj2aSy65hJNPPpmKFSsG/BxEpIxbtw66dYP589l82Tn8+Fg3uhx5pNdRhZs7gE8AzKwaMAj4F6ChlyIiErCykdR55M4772T06NFs27aNO+64g+TkZFq1auW37/jx42nUqBG7du0iPT2dSpUqsXnzZk4++eR8r9GoUSOqVatGQkICMTExJCUlkZKSQlpaGqmpqRx11FHUrl07O5kcPXo0GzZsOGRe3aJFi+jduzcATz31FB06dGD37t1cffXVPPPMM5x//vl+r33SSSdlV+pSUlL47LPPqFGjht++IlKOOAfvvgsPPgiVKsHYsXwfmQ5aCbdQzOwxIB0Yl9k0DHjZOZeS36rCZtYL6AVQr169IEcpIiLhoGwkdflU1IKpU6dODB06lLS0NMaPH0/FihXzrdSBb27ap59+SpcuXRgzZgzXXXfdYX3Wr1/PKaecQqVKldi4cSM///wz9evXB6B3794MHz6c9evXM2jQIEaOHFlgnC1btjwkrgMHDtCpUydiY2Oz5/f589dff1GrVi0qVKjAs88+yx133FHgtUSkjPvzT7jzTvjqK2jXDj74AE45BeJGex1ZWDGz7sA1QFvnnMtsbgncaGbPAzWADDNLdc4d8h+9c24UMAogJibGISIi5Z7m1BXDEUccQZs2bejcuXPAwxJHjBjBSy+9xJlnnklSUhI9e/YEYPr06QwdOhSA+fPnExUVRXR0NJ06deLNN9/k2GOPZezYsVSuXJlbbrmFwYMHs3jxYr777rtCxz1p0iTmzp3L6NGjs+f8ZSV9Q4cOZfr06QD88MMPnH322TRo0IDt27fz2GOPFfpaIlKGTJwIkZGkf/8tCwfdCrNn+xI6KRQzaw8MBDo45/ZmtTvnWjnn6jvn6gOvAP/OndCJiIj4Y//7gDB0xcTEuCVLlhzStmbNGho1auRRRD4ZGRmcc845TJ48OXs1yfIqFL4fIhIkSUlwzz0waRKcfz6fD76O3aeeQPfo7tldRmdW6nK2FYWZLXXOxRTrJCHEzCYArYFjge3AE/hWuzwSyFp5aqFz7u5cxw0DUpxzL+Z3fn9/H0VEpGzK729k2Rh+6YHVq1dzzTXX0KlTp3Kf0IlIGTZjhm+4ZVIS/Pvf8PDD7E742OuowoZzrquf5sM3KD38uGElH42IiJRVSuqKqHHjxqxbt87rMEREgmP3bt9CKO+/z86z6lJr1mKIivI6KhEREfFDSZ2IiBxqzhzo3h3++IP4HlcRd3dHYpXQiYiIhKygLZRiZqeY2fdmttrMVplZ/8z2Wmb2jZn9lvlvzWDFICIihbBvn68616YNVKwI8+axrN9NZBxR2evIREREJB/BXP0yHXjIOdcYOB+418waA4OBb51zZwHfZt4XEREvLVkC554LL78MffrAihVw4YVeRyUiIiIBCFpS55zb6pxblnk7GVgDnAxcB4zJ7DYG6BisGEREpABpaTBsGJx/PnuStjH7rQHwxhtw1FFeRyYiIiIBKpU5dWZWH2gOLAKOd85tzXxoG3B8acQQbMOGDaNatWoMGDDA7+NTp06lQYMGNG7cuJQjExHJw5o1cPvtsHQp3H470+46nwPVq3odlYiIiBRS0DcfN7NqwGfA/c653Tkfc75N8vxulGdmvcxsiZktSUxMDHaYQTd16lRWr17tdRgiIpCRAS+9BM2bw8aN8NlnMHasEjoREZEwFdSkzswq40voxjnnPs9s3m5mJ2Y+fiKww9+xzrlRzrkY51xMnTp1ih1LRoZjXWIKP679i3WJKWRkFH/T9WeeeYYGDRpw8cUX88svvwDw7rvv0qJFC6KiorjhhhvYu3cvCxYsYPr06Tz88MNER0ezdu1av/1ERIJu/XrfQigPPcQf5zeChAS4/nqvoxIREZFiCObql4Zvg9U1zrmXcjw0HeiWebsbMC1YMWTJyHDMWrWNq16bR9d3F3HVa/OYtWpbsRK7pUuXMnHiROLi4pg5cyaLFy8G4Prrr2fx4sWsWLGCRo0a8f7773PhhRfSoUMHXnjhBeLi4jjjjDP89hMRCRrn4L33oFkzWL6c+U/25LuX+8HxZWIEvIiISLkWzErdRcDtwGVmFpf5dRXwHPAvM/sNaJd5P6g2JO3hwUlxpKZlAJCalsGDk+LYkLSnyOecN28enTp1omrVqhx99NF06NABgISEBFq1akXTpk0ZN24cq1at8nt8oP1ERIpt61a49lq46y5o0QJWruT3DheDmdeRiYiISAkI2kIpzrn5QF7vGNoG67r+bN+dmp3QZUlNy2BHciqn16lWotfq3r07U6dOJSoqitGjR/PDDz8Uq5+ISLFMmkRqrzuolHqASq++Cn37QoUK8LfXgYmIiEhJCfpCKaHg+KMjiKh86FONqFyB46pHFPmcl1xyCVOnTmXfvn0kJyfzxRdfAJCcnMyJJ55IWloa48aNy+5fvXp1kpOTs+/n1U9EpETs3Am33AI330zyKcfzxYQnoV8/X0InIiIiZUq5+Otev/ZRvNQ5Ojuxi6hcgZc6R1O/dtH3YTrnnHO4+eabiYqK4sorr6RFixYADB8+nJYtW3LRRRfRsGHD7P5dunThhRdeoHnz5qxduzbPfiIixTZrFjRtCpMnw/DhzPzwUf457USvoxIREZEgKZV96rxWoYLRvskJNOzXih3JqRxXPYL6tY+iQoXizSd57LHHeOyxxw5r79Onz2FtF1100SFbGvTp08dvPxGRIktJgQED4J13oEkT+PJLaN4cFzfa68hEREQkiMpFUge+xO70OtVKfA6diEhImD8funXDrV9PQrcrafr25xBR9CHmIiIiEj7KxfBLEZEyKzUVBg6ESy4B5/jqvcEsvb+zEjoREZFyREmdiEi4Wr4cYmLghRd82xWsWMGOcxp4HZWIiIiUMiV1IiLhJj0dhg+H885j7/YtfPP6A755dNWrex2ZiIiIeKDczKkTESkTfv4ZYmNh8WLo2pWpvS/kwDGaKywiIlKeqVIXAjZs2MD48eO9DkNEQllGBrz2GjRvDmvXwiefwPjxSuhERERESV1xVKxYkejoaCIjI7n22mvZtWtXoc9x8OBB7r33Xs4999zDHqtfvz5//fVXSYQqIuFs40Zo1w7692dTTANISIDOnb2OSkREREKEkrpiqFKlCnFxcSQkJFCrVi3eeOONQp/j999/Z9CgQZx99tlBiFBEwppz8OGHvo3EFy/mv49359vX7ocTtZG4iIiI/I+SuhJywQUXsGXLFgDWrl1L+/btOffcc2nVqhU///wzAJMnTyYyMpKoqCguueQSALZu3crzzz8PQFJSEpdffjlNmjThzjvvxDkH+IZnRkZGZl/rxRdfZNiwYQDExcVx/vnn06xZMzp16sTff/8NwGuvvUbjxo1p1qwZXbp0KZXXQERK0Pbt0LEj3HGHb8hlfDy/XX8pmHkdmYiIiIQYJXUl4ODBg3z77bd06NABgF69evH666+zdOlSXnzxRe655x4AnnrqKWbPns2KFSuYPn36Yed58sknufjii1m1ahWdOnXijz/+KPDasbGxjBgxgvj4eJo2bcqTTz4JwHPPPcfy5cuJj4/n7bffLsFnKyJB99lnEBkJs2fDf/4D338Pp53mdVQiIiISosrM6pej40aX6Pm6R3cvsM++ffuIjo5my5YtNGrUiH/961+kpKSwYMECbrrppux++/fvB+Ciiy6ie/fudO7cmeuvv/6w882dO5fPP/8cgKuvvpqaNWvme/1//vmHXbt2cemllwLQrVu37Os2a9aMW2+9lY4dO9KxY8eAnrOIeOzvv+G++2DcOP5qVJ95b99Ppxse9DoqERERCXGq1BVD1py6jRs34pzjjTfeICMjgxo1ahAXF5f9tWbNGgDefvttnn76aTZt2sS5555LUlJSQNepVKkSGRkZ2fdTU1MLPGbGjBnce++9LFu2jBYtWpCenl60JykipePrr31z5yZOhGHDmDHmMf4542SvoxIREZEwUGYqdYFU1oKlatWqvPbaa3Ts2JF77rmH0047jcmTJ3PTTTfhnCM+Pp6oqCjWrl1Ly5YtadmyJV999RWbNm065DyXXHIJ48ePZ8iQIXz11VfZ8+OOP/54duzYQVJSEtWqVePLL7+kffv2HHPMMdSsWZN58+bRqlUrPvroIy699FIyMjLYtGkTbdq04eKLL2bixImkpKRQo0YNL14eEcnPnj3w8MPw1lvQqBFMnQoxMbgSHn0gIiIiZVeZSeq81rx5c5o1a8aECRMYN24cffr04emnnyYtLY0uXboQFRXFww8/zG+//YZzjrZt2xIVFcWcOXOyz/HEE0/QtWtXmjRpwoUXXki9evUAqFy5MkOHDuW8887j5JNPpmHDhtnHjBkzhrvvvpu9e/dy+umn8+GHH3Lw4EFuu+02/vnnH5xz9OvXTwmdSCj673+hWzfcunWsuu0KIkdNgSpVvI5KREREwoySumJISUk55P4XX3yRfXvWrFmH9c+aL5dT69atad26NQC1a9fm66+/9nutfv360a9fv8Pao6OjWbhw4WHt8+fPzzd2EfHQ/v3wxBPwwgtQrx6zRg1ke0xDIpXQiYiISBFoTp2ISGmKi4MWLWDECN92BfHxbI9pWPBxIiIiInlQUiciUhrS0+GZZ+C88yAxEb78Et59F6pX9zoyERERCXMafikiEmy//gqxsbBoEesvb8HCR2Lp2vpqr6MSERGRMiKskzrnHGbmdRjlnnPO6xBEQlNGBrz5JgwcCBERMGECcxoWvCWJiIiISGGE7fDLiIgIkpKSlFB4zDlHUlISERERXociElo2bYIrrvBtJt66NSQkQJcuXkclpcjMPjCzHWaWkKPtBTP72czizWyKmdXIbP+XmS01s5WZ/17mXeQiIhJuwrZSV7duXTZv3kxiYqLXoZR7ERER1K1b1+swREKDc/DRR9CvH2kHUlk8pBsXPvUhaFRBeTQaGAmMzdH2DfCIcy7dzEYAjwCDgL+Aa51zf5pZJDAb0O7zIiISkLBN6ipXrsxpp53mdRgiIv+zYwf07u3bQLxVK6YNvIaUusdxoRK6csk5N9fM6udqy7lvzULgxsz25TnaVwFVzOxI59z+YMcpIiLhL2yHX4qIhJSpUyEyEmbO9O0/9/33pNQ9zuuoJLTdAXzlp/0GYFleCZ2Z9TKzJWa2RKNVREQElNSJiBTPrl3QrRt06kRS7SqwdCkMGAAVK3odmYQwM3sMSAfG5WpvAowAeud1rHNulHMuxjkXU6dOneAGKiIiYSFsh1+KiHju//4PevSArVuJu6sD8XddS2xkpNdRSYgzs+7ANUBbl2O1LzOrC0wBYp1zaz0KT0REwpCSOhGRwtq7FwYNgpEj4eyzYcEC4o5Y7XVUEgbMrD0wELjUObc3R3sNYAYw2Dn3X6/iExGR8KThlyIihbFwITRv7kvo+veHZcvgvPO8jkpCkJlNAH4EzjazzWbWE99qmNWBb8wszszezuzeFzgTGJrZHmdmmpQpIiIBUaVORCQQBw7Ak0/Cc8+RclxN5r/zMO17Pe91VBLCnHNd/TS/n0ffp4GngxuRiIiUVUrqREQKEh8PsbGwYgX06MG0HjGkVa/qdVQiIiIigIZfiojk7eBBGDECWrSArVth2jT44AMldCIiIhJSVKkTEfHn9999WxUsWMCGtjHUnzATtHy8iIiIhCBV6kREcnIO3nwToqJg9WrmPtOLH164RwmdiIiIhCwldSIiWTZvhvbt4d574eKLYeVK1l11AZh5HZmIiIhInpTUiYg4B+PGcaBRA9Lm/uCr1M2aBXXreh2ZiIiISIGU1IlI+ZaYCDfdBLfdxt9nnMz0T56CPn1UnRMREZGwoYVSRKT8mj4d7roLdu2CESOY1fZYXEV91iUiIiLhRe9eRKT82b0b7rgDrrsOTjwRliyBgQOV0ImIiEhY0jsYESlfvv8emjUjY8xoVvS8Bn76CZo29ToqERERkSJTUici5cO+fXD//XDZZXDEEXz14WMs73sDHHGE15GJiIiIFIuSOhEp+xYvhnPOgVdfhb59IS6OxGZneB2ViIiISIlQUiciZdeBAzB0KBkXnM+ev7fDN9/A669D1apeRyYiIiJSYrT6pYiUTQkJEBsLy5ez7poL+WngrdzSqp3XUYmIiIiUOCV1IlK2HDwIL70EQ4bAMcfAlCnMr7/L66hEREREgkbDL0Wk7Fi3Dlq3hoED4eqrfdW6jh29jkpEREQkqIKW1JnZB2a2w8wScrQNM7MtZhaX+XVVsK4vIuWIc/DOO9CsGQfiljLvqTvhs8/guOO8jkxEREQk6IJZqRsNtPfT/rJzLjrza2YQry8i5cGWLXDVVXD33XDBBUydPJy1114EZl5HJiIiIlIqgpbUOefmAjuDdX4RKeecgwkTfBuHz5kDI0fC7NnsPaG215GJiIiIlCov5tT1NbP4zOGZNT24voiEu6Qk6NIFbrmFxLo1IS4O7r0XKmiasIiIiJQ/pf0O6C3gDCAa2Ar8J6+OZtbLzJaY2ZLExMTSik9EQt2MGRAZCVOmsLTvDcz84FFo0MDrqEREREQ8U6pJnXNuu3PuoHMuA3gXOC+fvqOcczHOuZg6deqUXpAiEpqSk+HOO+Gaa6BOHVi8mJU9r8FVquh1ZCIiIiKeKtWkzsxOzHG3E5CQV18RkWxz5pDc8HQyPvwABg+GxYshKsrrqERERERCQjC3NJgA/AicbWabzawn8LyZrTSzeKAN8ECwri8iZUBqKjz0ELRpg6tYga/efwSefRaOPNLryERERERCRqVgndg519VP8/vBup6IlDFLlkBsLKxZA/fcw/TbmpFeRcmciIiISG5aKk5EQktaGjz5JFxwAezeDbNnwxtvKKETERERyUPQKnUiIoW2Zo2vOrdkCWuvvoAzPpoBNbXziYiIiEh+lNSJiPcyMuDVV+GRR6BaNb5/4V42tovhDCV0IiIiIgXS8EsR8daGDXDZZfDgg3D55bBqFRvbxXgdlYiIiEjYUFInIt5wDt5/n7QmjTiwZBF88AFMmwbHH+91ZCIiIiJhRUmdiJS+bdvg2mvhzjv5q3F9pk8aDj16gJnXkYmIiIiEHc2pE5HSNXky9OkDe/bAK68wu1V1qKDPl0RERESKSu+kRKR07NwJt9wCnTvD6afD8uXQv78SOinTzOwDM9thZgk52l4ws5/NLN7MpphZjRyPPWJmv5vZL2Z2hTdRi4hIuNG7KREJvlmzoGlTmDyZZX06MebN3tCwoddRiZSG0UD7XG3fAJHOuWbAr8AjAGbWGOgCNMk85k0zq1h6oYqISLhSUiciwZOSAnffDVdeCTVqwKJFxPfqgKuk96lSPjjn5gI7c7V97ZxLz7y7EKibefs6YKJzbr9zbj3wO3BeqQUrIiJhS0mdiATH/PkQFQWjRsGAAbB0KZxzjtdRiYSaO4CvMm+fDGzK8djmzDYREZF8KakTkZKVmgoDB8Ill5C8P5mZ7w2GF16AiAivIxMJKWb2GJAOjCvkcb3MbImZLUlMTAxOcCIiEla0+qWIlJzly+H222HVKujVi2mx0aQfVcXrqERCjpl1B64B2jrnXGbzFuCUHN3qZrYdwjk3ChgFEBMT43I/LiIi5Y8qdSJSfOnpMHw4nHeeb5XLmTPhnXeU0In4YWbtgYFAB+fc3hwPTQe6mNmRZnYacBbwkxcxiohIeFGlTkSK55dfIDYWfvqJdVe05PTxM6FWLa+jEgkJZjYBaA0ca2abgSfwrXZ5JPCNmQEsdM7d7ZxbZWaTgNX4hmXe65w76E3kIiISTpTUiUjRZGTAyJEwaBBUrcoPI/qw4fLzOF0JnUg251xXP83v59P/GeCZ4EUkIiJlkYZfikjh/fEHtGvn2zy8bVtISGDD5Vp5XURERMQLSupEJHDOwejRvo3EFy+G996DL76AE0/0OjIRERGRcktJnYgEZvt26NgRevRg25kn8unEodCzJ/jmBImIiIiIRzSnTkQK9tlncPfdkJwM//kPs1rXgAr6TEhEREQkFOhdmYjkbdcu375zN94Ip54Ky5bBgw8qoRMREREJIXpnJiL+ff01REaSMWE8cb2vgx9/hMaNvY5KRERERHJRUicih9qzB+69F664Ao4+mhljhhB3d0eoXNnryERERETEDyV1IvI/CxZAdDS89RY88AAsXUpSk9O8jkpERERE8tvaR1kAACAASURBVKGkTkRg/34YPJiMVheTvHcXfP89vPQSVKnidWQiIiIiUgCtfilS3q1Y4VsMZeVKfu/YisUPdeXWiy/1OioRERERCZCSOpHyKj0dnn8ehg2D2rXhyy9ZcHKi11GJiIiISCFp+KVIefTrr9CqFTz2GHTqBAkJcPXVXkclIiIiIkWgpE6kPMnIgJEjITqa/atXMuffveGTT3yVOhEREREJSxp+KVJebNoEPXrAt99C+/ZMfeBy9h1XE82eExEREQlvqtSJlHXOwdixEBkJCxfCO+/AzJnsO66m15GJiIiISAlQpU6kLNuxA3r3hqlT2d78LI7/dBacfrrXUYmIiIhICVKlTqSsmjrVV52bOZPFD3Rm1ruDldCJiIiIlEFK6kTKmn/+ge7dfata1q0LS5eyKvZKXEX9uouIiIiURXqXJ1KWfPcdNG0KH38Mjz/um0MXGel1VCIiIiISRErqRMqCvXuhXz9o25Z/Kqbx5ehH4amn4IgjvI5MRERERIJMC6WIhLtFiyA21reheP/+TL+5EQerHOl1VCIiIiJSSlSpEwlXBw7AkCFw4YWQmurbf+6VV5TQiYiIiJQzqtSJhKOVK33Vubg4futwMWeN/RKOOcbrqERERETEA6rUiYSTgwdhxAiIiYE//+Tbl/vx3yd7KqETERERKceU1ImEi7Vr4dJLYfBguOYaSEhgU+vmXkclIiIiIh5TUicS6pyDt94iLbIxB1Ysg48+gk8/hTp1vI5MREREREKAkjqRULZ5M7RvD/fcw47os5j66dNw221g5nVkIuWCmd2W4/ZFuR7rW/oRiYiIHE5JnUgocg7GjfNtJD5/Prz5Jt+8+RB7j6/ldWQi5c2DOW6/nuuxO0ozEBERkbwoqRMJNYmJ0LmzryLXuDGsWAF9+qg6J+INy+O2v/siIiKeUFInEkqmT4fISA5OncLS+26EuXPhzDO9jkqkPHN53PZ3X0RExBPap04kFOzeDfffDx9+CM2a8eXrffm7wSmcW7Gi15GJlHcNzSweX1XujMzbZN4/3buwRERE/kdJnYjXvv8eevSATZvg0UfhiSf4e/V4r6MSEZ9GXgcgIiJSkAKHX5rZfWZWs7AnNrMPzGyHmSXkaKtlZt+Y2W+Z/xb6vCJlxr59vurcZZfxj0v1LYjyzDNwxBFeRyYimZxzG3N+ASnAOcCxmfdFREQ8F8icuuOBxWY2yczamwW8WsNooH2utsHAt865s4BvM++LlD8//QTNm8Orr7Lm5rZ8MfFJuOACr6MSkVzM7Eszi8y8fSKQgG/Vy4/M7P4Ajvf3AedNZrbKzDLMLCZHe2UzG2NmK81sjZk9EoSnJCIiZVCBSZ1zbghwFvA+0B34zcz+bWZnFHDcXGBnrubrgDGZt8cAHQsbsEhYS0uDoUPhwgthzx745hsWDb6N9CpHeh2ZiPh3mnMuKyHrAXzjnLsWaElgWxqM5vAPOBOA64G5udpvAo50zjUFzgV6m1n9ooUtIiLlSUCrXzrnHLAt8ysdqAl8ambPF/J6xzvntmbe3oavCihSPiQkQMuWMHw43HorrFwJ7dp5HZWI5C8tx+22wEwA51wykFHQwf4+4HTOrXHO/eKvO3CUmVUCqgAHgN1FjFtERMqRQObU9TezpcDzwH+Bps65Pvg+RbyhqBfOTBTzXA7azHqZ2RIzW5KYmFjUy4h47+BBePFFOPdc9m34ne/+0xfGjIEaNbyOTEQKtilzbnknfHPpZgGYWRWgcglf61NgD7AV+AN40TmXe8SLiIjIYQJZ/bIWcH3uCeHOuQwzu6aQ19tuZic657Zmzk3YkVdH59woYBRATEyM9gKS8LRuHXTvDvPmQceOTLuvDam1jvY6KhEJXE/gKaAdcLNzbldm+/nAhyV8rfOAg8BJ+EbEzDOz/3POrcvZycx6Ab0A6tWrV8IhiIhIOApkTt0Tea3w5ZxbU8jrTQe6Zd7uBkwr5PEi4cE5GDUKmjWDFSt8lbnPP1dCJxJmnHM7nHN3O+euc859naP9e+fciyV8uVuAWc65NOfcDnyjY2Jyd3LOjXLOxTjnYurUqVPCIYiISDgK2j51ZjYBaA0ca2abgSeA54BJZtYT2Ah0Dtb1RTzz559w553w1Vf8eV4jTpo8C/RpukhYMrPp+T3unOtQgpf7A7gM38qaR+GrBr5SgucXEZEyKmhJnXOuax4PtQ3WNUU8N3Ei3HMPpKaycOCt/HzzZXRXQicSzi4ANgETgEVAoNv6AHl+wLkTeB2oA8wwszjn3BXAG8CHZrYq8zofOufiS+qJiIhI2RW0pE6kXElK8iVzkyb5VrgcO5af9y7wOioRKb4TgH8BXfENj5wBTHDOrQrk4Hw+4Jzip28Kvm0NRERECiWgLQ1EJB8zZ7K34RlkfP4ZPPMMzJ8PDRp4HZWIlADn3EHn3CznXDd8wyF/B34ws74ehyYiIpJNSZ1IUSUnw113wdVXs79GNb78eCg8+ihUUgFcpCwxsyPN7HrgY+Be4DX8VNpERES8onefIkUxZ45vq4I//oBBg/ji+jPIOKKkt6wSEa+Z2VggEt+m40865xI8DklEROQwqtSJFEZqKjz0ELRpAxUrwty58NxzSuhEyq7bgLOA/sACM9ud+ZVsZrs9jk1ERARQpU4kcEuWQGwsrFnDzze1oeEH06FaNa+jEpEgcs7pw08REQl5+mMlUpC0NHjySTj/fNi9m6/ffIiFj8YqoRMRERGRkKCkTiQ/a9bAhRfCsGHQpQusXMmfF0R6HZWIiIiISDYldSL+ZGTAyy9D8+ak/v4z3z9/D3z8MdSs6XVkIiIiIiKH0Jw6kdw2bPCtbDlnDlx7LdP6tWXfscd4HZWIiIiIiF+q1IlkcQ7efx+aNoVly+CDD2DaNCV0IiIiIhLSVKkTAdi2De68E2bMYGtMQ078dBaceqrXUYmIiIiIFEiVOpHJkyEyEr79lkUPd2X2Ow8roRMRERGRsKGkTsqvv/+GW2+Fzp3h9NNh+XLW3HI5VNCvhYiIiIiED717lfJp9mxfdW7SJBg+HBYsgIYNvY5KRERERKTQlNRJ+ZKSAn36QPv2/B0B08c+BkOGQCVNLxURERGR8KR3slJ+zJ8P3brB+vUwYABf3tiAg0dW9joqEREREZFiUaVOyr7UVBg4EC65xLdtwZw58MILSuhEREREpExQpU7KtuXL4fbbYdUqfrn+Us4e/QVUr+51VCIiIiIiJUaVOimb0tPh6afhvPNg506+ee1+fny8uxI6ERERESlzlNRJ2fPLL3DRRfD443DjjZCQwJZWUV5HJSIiIiISFErqpOzIyIDXXoPoaPj9d/jkE5gwAWrV8joyEREREZGgUVInZcPGjdCuHfTvz6aYBnwy8XHfpuIiIiIiImWcFkqR8OYcjB4N/fv7br/7Lt+eWxHMvI5MRERERKRUqFIn4Wv7dujYEe64A5o3h/h4uPNOJXQiIiIiUq4oqZPw9NlnEBnJwVkz+enBLvD993DaaV5HJSIiIiJS6pTUSXj5+2+47Tbfqpannsr08cNYffsVUEE/yiIiIiJSPumdsISPr7+Gpk1h4kQYNgx+/JF/zjjZ66hERERERDylhVIk9O3ZAw8/DG+9xa7TTqLGwoUQE+N1VCIiIiIiIUFJnYS2BQugWzdYu5ZVt17Osr43cLsSOhERERGRbBp+KaFp/3545BFo1QrS0+H771k8oCsHI47wOjIRERERkZCipE5Cz4oVcN558Nxzvu0K4uPh0ku9jkpEREREJCQpqZPQkZ4Ozz4LLVqw98+N/N+r/eHdd6F6da8jExEREREJWZpTJ6Hht98gNhYWLoTOnZnWpxX7a1TzOioRERERkZCnSp14KyMD3ngDoqLgl19gwgT45BMldCIS9szsAzPbYWYJOdpuMrNVZpZhZjG5+jczsx8zH19pZhGlH7WIiIQjJXXinU2b4IoroG9ftjQ/A1auhC5dvI5KRKSkjAba52pLAK4H5uZsNLNKwMfA3c65JkBrIC34IYqISFmg4ZdS+pyDjz+G++6D9HQWPBbLrze0pvvJ2khcRMoO59xcM6ufq20NgJnl7n45EO+cW5HZL6kUQhQRkTJClTopXYmJcMMNvvlzkZGwYgW/3tgGDn+DIyJSnjQAnJnNNrNlZjbQ64BERCR8KKmT0jN1KjRpAjNmwPPPw5w5cMYZXkclIhIKKgEXA7dm/tvJzNr662hmvcxsiZktSUxMLM0YRUQkRCmpk+D75x/o3h06dSKpVhWmfjwEHn4YKlb0OjIRkVCxGZjrnPvLObcXmAmc46+jc26Ucy7GORdTp06dUg1SRERCk+bUSXB9+y306AFbtsCQIczocCoZlfVjJyKSy2xgoJlVBQ4AlwIvexuSiIiEC1XqJDj27oV+/aBdO6hSBRYsgOHDldCJSLlhZhOAH4GzzWyzmfU0s05mthm4AJhhZrMBnHN/Ay8Bi4E4YJlzboZXsYuISHjRO2wpeYsW+RZC+fVXVndtR+P3pkHVql5HJSJSqpxzXfN4aEoe/T/Gt62BiIhIoahSJyXnwAEYMgQuvBBSU5n1zsP8NPBWJXQiIiIiIkGkpE5KxsqV0LIlPPOMr0oXH8+28xp7HZWIiIiISJmnpE6K5+BBGDGCg+eew74/1sG0afDhh3DMMV5HJiIiIiJSLiipk6JbuxYuvRQGD2ZTqyimTh4OHTp4HZWIiIiISLniyUIpZrYBSAYOAunOuRgv4pAicg7eeQcGDIBKleCjj/ihSRqYeR2ZiIiIiEi542Wlro1zLloJXZjZsgWuvBL69PEtiJKQALfdpoRORERERMQjGn4pgXEOxo2DyEjS5nzPj4/cDrNnQ926XkcmIiIiIlKueZXUOeBrM1tqZr08ikEC9ddf0LmzryLXqBHTP3mKXzpfpuqciIiIiEgI8Cqpu9g5dw5wJXCvmV2Su4OZ9TKzJWa2JDExsfQjFJ8vv4TISN+qls8+C/PmkVzveK+jEhERERGRTJ4kdc65LZn/7gCmAOf56TPKORfjnIupU6dOaYcou3dDz55w7bXsPPoIWLIEBg+GihW9jkxERERERHIo9aTOzI4ys+pZt4HLgYTSjkPy8cMP0KwZjB5N/B1X8+XHj/vui4iIiIhIyPFiS4PjgSnmm49VCRjvnJvlQRyS27598Oij8MorcOaZMH8+y6r84nVUIiIiIiKSj1JP6pxz64Co0r6uFGDxYnbdfB011m+Fe++FESPgqKMgTkmdiIiIiEgo05YG5V1aGgwdChdcQOW9qcx+awCMHOlL6EREREREJOR5MfxSQsWqVRAbC8uWQWws0+5syYHqVb2OSkRERERECkGVuvLo4EF48UU491zYtAk+/xzGjFFCJyIiIiIShlSpK2/WrYPu3WHePP5o3Zx6n8yC447zOioRERERESkiVerKC+dg1Cjf1gQrVjDvqTv57qX7lNCJiIiIiIQ5JXXlwZ9/wtVXQ+/ecP75sHIla6+9CHzbSoiIiIiISBhTUlfWTZzI/kYNSP/+W3j9dfj6a6hXz+uoRERERESkhCipK6uSkuDmm6FrV/459QSmT3wS+vaFCvqWi4iIiIiUJVoopSyaORN69vQlds88w1eXH4+rVNHrqEREREREJAhUtilLkpOhVy/f/Lk6dWDxYnj0USV0IiIiIiJlmCp1ZcXcub6tCjZuZGX3q1jepyOxUVFeRyUiIiIiIkGmSl24S02FAQOgdWvffLm5c1na/yYyjqjsdWQiIiIiIlIKlNSFs2XL4Nxz4T//gbvvhrg4uOgir6MSEREREZFSpKQuHKWlwVNPQcuW7En8k29GPghvvgnVqnkdmYiIiIiIlDLNqQs3a9ZAbCwsWQK33MK03hdy4OijvI5KREREREQ8okpduMjIgFdegXPOgfXrYfJkGDdOCZ2IZMvIcOxITuX3HcmsS0whI8N5HZKIiIiUAlXqwsGGDdCjB/zwA5suieKUT2bBCSd4HZWIhJCMDMesVdt4+ZtfSTvo+HTePF7qHE37Jvq/QkREpKxTpS6UOQfvvw/NmsHSpcx/ogffvtJfCZ2IHGZD0h4enBRH2kFfdS41LYMHJ8WxIWmPx5GJiIhIsKlSF6q2bYO77oIvv/RtV/Dhh/y+6wevoxKRELV9dyqpaRlUo112W2paBjuSUw/rmzVMc/e+NNYlplC/9lFUqGClGa6IiIiUIFXqQtHkyRAZCf/3f755dN9+C/Xrex2ViISw44+OIKLyof+lR1SuwHHVIw5pyzlM8+0567jqtXnMWrXN7/w7f3P0NG9PREQk9CipCyU7d8Itt0DnziSecDRTxj0O/fv7NhUXkZBQ0klNoOcrqF/92kfxUufo7MQuonIFXuocTf3ahy6mFOgwTX/J33e/bA84IRQfM/vAzHaYWUKOtpvMbJWZZZhZjJ9j6plZipkNKN1oRUQkXGn4ZaiYNQt69oQdO+Cpp5h55Um4ShW9jkpEcijpxUgCPV8g/SpUMNo3OYGG/VqxIzmV46pH+B1WmdcwzZ179h8yJNM5fMlfxv+Sv/jN/zBq7rpD2h6cFEfDfq2K9PzLidHASGBsjrYE4HrgnTyOeQn4KrhhiYhIWaISkNdSUuDuu+HKK6FGDVi0CB5/XAmdSAG8GAZY0ouRBHq+QPtVqGCcXqca559+LKfXqeZ3npy/YZqn1q7Cll2ph1Tg1mzd7Uv+Draj2kFfApjhOKwtr3l74uOcmwvszNW2xjn3i7/+ZtYRWA+sKoXwRESkjFBS56X58yEqCjdqFAm3XwFLl/r2oRORfBVmXlhJyq5yBZDUBJJ0Bnq+wly3IP6GaQ6/rimDPos/JGn8bUfyYclfRSOgeXtSNGZWDRgEPOl1LCIiEl6U1Hlh/34YNAguuQSc46v3BrPkwS4QoTdGIoEoTMWsJCt6Jb0YSV7nO+HoiENiPq56YP0CeW5ZwzRn9mvFxF4tmdmvFZUr2mFJ46Qlm/l3p6aHJH9N6x4T0Lw9KbJhwMvOuZT8OplZLzNbYmZLEhMTSycyEREJaZpTV9ri4uD22yEhAXr1ghdfZMfaz7yOSiSsBLp8f0nPgcuqcj04KY7UtIxDkpq5W/7XLzvpLGDumb/zjbylOau3Jh8S88hbmgfUL+u5FbQ9QdYwzdPrVMtui6hcgdS0jOz7f+89wDn1ajAz1xw9oMB5e1JkLYEbzex5oAaQYWapzrmROTs550YBowBiYmK0So2IiCipKzXp6TBiBAwbBnXqwIwZcNVVXkclEnIC2UMtq8KVMwnJqlzN3ZL/Yh/FWdijuIuR5E46/Z3PObj69XmHxNx3/HJm9W91SILlr1/Wc8uZrAUir2S1Xq2jshPAnHInhFIynHPZP5hmNgxIyZ3QiYiI+KOkrjT88gt06waLFrHuipYsfOQ2brlUCZ2EllDYkDrQylqgFa4Xb4wKeEPuQPmrcuV+7bKGS+ZOOo+rHsHPu/M/349r//Ib87bdqdkLoOTXb0dyaqETrkCTVSk8M5sAtAaONbPNwBP4Fk55HagDzDCzOOfcFd5FKSIi4U5JXTBlZMDIkTB4MFSpAhMnMvfsfV5HJXKYkh6mWFSBDlsMtMKVtdhHIMlVUfl77fwNl/Q3TNOfvKqQueftBdovUP6SVSk+51zXPB6aUsBxw0o+GhERKau0UEqw/PEH/Otfvs3D27TxzaG7+WavoypTvFjSvqwq6aX6i6owqzzmXr5/R/Lhx/pb7COvhT2K+vPk77XrO345jU+sfshiJIHMdYPANxEPtF9p0O+iiIiIt1SpK2nOwZgx0L8/aekH+Onx7lz05AdgGsZUkkKlslRWBDoHLNjyqz4VVFnzd2xei33kTq6K8/OU12uXe7hkoAIdChkqQybze+00fFNERKR0qFJXkrZvh44doUcPiI5m2qSn+O36S5XQBUGoVJbKikCX6gf/VZmSqtQUp/qU17H1ah1V4Ibcxfl5KsxrF6hANhEPtF+wq2j6XRQREfGeKnUl5fPPoXdvSE6G//wH7r+flPixXkdVZhWmshQKC4CEukCX6s9r/tiBdFciVdPiVJ8Kc2zun4niVCrze+0Kum6wfxZLo4qW32un+XkiIiKlQ0ldce3aBffdBx9/zF+NTuXYOXOgcWOvoyq0cEt8Ah2mF+rDNEPldQ80IfK3kEn85n8YNXddiW4bUNQFOwI51t/PxLu3xxR52Gegr50XwxTzW3impBKukl6wRURERApPwy+L4+uvITISJkwgrvd1zBgzJGwTuqw3m2/PWcdVr81j1qptIb3YQaDD9PIaGvbHzj1FGpJWnKFsuY9NT88oldc90OGS/oby5e7nbyGTDEfAi5uU5HMoKn8/E0OmrWTEDc2KvOhIIMMgvRimWJiFZ4oqlBZsERERKa/KfKUuI8OxIWkP23encvzRJbSQwJ49MHAgvPkmNGwIU6cSVymhZAKm9Ks3gS4jH0qKswl0zapHsOyPXYWu3hWn6ufv2FG3x/h93Rv3b3XY9x8o0s9EYYdL5jxnoBWtikZQtw0o6QqXv5+JjUn7OLlGRIELqhSHF8MUS6OKFioLtoiIiJRnZbpSl/Vm8KrX5tH13UUlUwlZsACio+Gtt+CBB2DZMoiJKfGYS7NqVhqf5gdDIJWlrE2gc7oppi6PTlkZUMUk5/lWbtlV5KqfvyrNko07D3vdcyacWd//737ZXuSfCX/Xjd/8T0AVo0ArWk3rHuN/gZKaVUukulbSFa68FjapddSRBf48Fef3MBgLqhSktKpogS7sIiIiIsFRpit1WW8Gsz6lLtZ8kv37YdgweP55Uo6vyfxRA2l/53NBi7k0q2bFWUY+lAS6CXSD46oHtChG7vPVsh1Frvr5q9JkuMMrXNkJZwBz1vxV9AKpVGYPlyygYlSYihZwSKWmXs2qfL1m+2Gvy+WNjj8k5qzEr7DPoTgVrkAXNinpCmFhFlQpKaqiiYiIlA9lOqnLejOYUvH/AKh2sF3R3gyuWAGxsRAfDz17Mq37uaRVqxLUmEtzv7BAVz7MS6gs9uEvIe47fjmz+rc6JAlxfpIpf0ls7vMFmoT5S7iyKoY5j/1ixRZG3NCMQZ/F55tw+kvCAk0m/SXs+Q2XLOjYnBWt3L9DOdvWJaYc9r0YMWsNaQczsmOet+In7rvsrAKTppIeQlicRWGKs8iIVwlWcRaeERERkfBQpodfFnu4U3o6PPsstGjh24Puiy/gvfeCltBB8WP2txhHQcPHst5szuzXiom9WjKzX6uAqxHBGC5a1CFveQ0j3bY79ZChYacdG9iQtNzn+2zpZvpddtYhx2UnYQUMoVyflHLYNQe1b8TVkSce8ro3OvHow77/WUlYToEOIfU3/C6v4ZK5n39xhu75+15c0+xkBn0Wnx3zNc1OZsjUhCI9h+JWuAIZLhiMYckapigiIiLBUKYrdVlvBntO/oa0g65wbwZ/+81XnVu4kPX/asFp42fCscf67VqSlariVM1yDxfLqxKSewhcVrxF+TS/MMNFA3mdirMYSaAVnbwqJkC+1bWt/6TyyZI/+KTX+exLO5hn1c9f9c5fxdDf656R4Q77/mclYUUZQprfcy2oYlScypLfCmGFQyuOZoENA/WqwqWl+kVERCRclOmkLuvN4AO7GpCcmkaP6FYFvxnMyPAtgvLwwxARwZx/92Z9+5aclk9CV5L7oBXnDWzuBCu7EpLPELhgrCSYmpbBzj37D5s7FcgcK+co8pzCwsxZ8pdMBTIfb1D7RjQ9uUb2a+UvCcsr4dq2OzW7QpOXQJOwQIeQ+nuuWQJJ4oua7Pv7XrQ4tZbfmANJmrwYQujFHDgRERGRoijTSR343gweVz2C46pHFLgh8ab4Xzim793U+O8c3OVXYB+8z/rEb/I9f3EXNsmrelWUN7C5Eyx/lZDsIXAlNE/IXzXj1NpV2LIrtcDl+/0lmC/eGFXkOYUlmRAXVF3L75r/3969R8tVlncc//44uRIkEA0UE2JQuYNEGggswaZcYkCughXqWoDFFa3FCK0oiAXRLC7VIlFpa1akURYFEQ1ESUm5KsUKJCEJCddwkxMICRAuAQ2Q8/SP/R6YnMw5Z86Zy5495/dZa9aZ2bNn5nnes2f2PPO++909FVyVqKQIK1dM9uU4yHor1y7jtt1yk5h/vXQVM47bi2/esLwpiyZPMmJmZmZF0fJFXSU6Nnaw7NIr2OnbZ9PW0cEFR5zBpEvOZeoOO8Danh9baU9VX4ca9ueLY3fDxXoaAtcZby1nEvzOsXsz7aqFmxRI70zf30uB+dia16qaibNWBXFnPJX2rlVacNVKEQqOcv+LcoXevuO2LVQOZmZmZs3GRd3atfzptNOZMP/X/GHs+znj6Cm8sPVUfv6Lpey2w9a9PrzSnqpyQzJrPbte1wKrXE9Id0PgajmTYKXT95crMK9b2M5Fx+/NN+Y+0NAeqFoeP9WogquIBUe5mIuWg5mZmVmzGdhF3Y03wrRpDF/3MhdN/hyz9zuOji3agO6H/HUdLtl1SFl3PVXlhmRWe/6tckM3e+sJKRdvrWYSLI25kun7yxWY6954k33HbdPjkMd6qPXxU3kVXM1yegkzMzMza5yBWdS98gqceSbMmQMTJrDqunn87NaX6OhlyF93wyWn7L79JkVIpeeaq6Z3qKehm731hNS7F6lcgfT1qbszZfft2XvMyF4LzHGj3j2usFGKMJyxN7UezmtmZmZmxTDwirrbb4fTTqNjVTsPfP4o9rnil4wZNJjLRq3uddKJ7oZLzk/DJXvqqSpXJPald6hrD0xPs0TWa0bDSvVUIDW6wOxr3EUeCljr4bxmZmZmVgy5FHWSpgIzgTZgdkRcUu/XbPvTBpg+HX74Q9hlF+bPOY8X9v4Q+wwZwhZUVlxUOlyy0nPNVdo7VK4HpqdZImv1Bb6aoXyVFkhFL6SaSbXDec3MHPoObwAADklJREFUzMysmBpe1ElqA64ADgfagfskzYuIB+v1mqOXPc5B58+Gp1dnhd3FF/PCo9dtsk654qJrUdP1ZNTQt5NblyuIKilqyvXA9DRLZC3U+vx7tYjHx4r1zCfLNjMzMxuYtsjhNfcHVkbEExHxJnAtcGw9X/CTz45gZAyB226DmTNhyy17fUxpUfMfv32CI39wF0++uJ7L/mYCwwZnzVbJya07p8OvpgB5pwdm42FstTHrhemcJbKSWPrjnUJy46ZD+Z568fWaPH9flPtf3LxiNR2pyLVMZw9xvbYJMzMzM2tOeQy/HAM8U3K7HZjUdSVJ04BpAOPGjavuFc8+G770Jdg6O0VBJb0+/T0ZdT2U64Gp9yyRlU720gg+VqwyrTDZi5mZmZn1XdNOlBIRs4BZABMnTqyuS6atbZOCrpIZAqs5GXV3+juEsLtj9Oo5S2RPQ/kqOQl4LflYscr5GEUzMzOzgSeP4ZergB1Lbo9Nyxqi0mGFnUVNqWqOT6pmCGFnD8z86Qdz7bRJzJ9+cN2nqW+moXy1/l+YmZmZmbWSPIq6+4CdJe0kaQhwEjCvUS9e7vi0csMKa13UVHuMWi2P0av09RpdSHanmQpMMzMzM7Nm0/DhlxHxtqQzgAVkpzS4MiJWNOr1K50hsNbHJxVxCGGzDOXzsWJmZmZmZt3L5Zi6iJgPzM/jtftywu9aFjWebr46zVJgmpmZmZk1m6adKKVe8ur16Usx2cx8vjgzMzMzs+Yy4Io6yKfXpxWGEFY6c6iZmZmZmTVOHhOlDFiNnuyk1prphORmZmZmZpYZkD111j9FnOzFzMzMzKzVuafOKubzxZmZmZmZNR8XdVYxny/OzKxykq6UtEbS8pJln5a0QlKHpIklyw+XtEjSA+nvIflEbWZmReThl1axVpjsxcysgeYAPwJ+VrJsOfAp4Mdd1n0BODoinpW0F9m5XMc0IkgzMys+F3XWJz5fnJlZZSLid5LGd1n2EICkruveX3JzBTBc0tCI2FDnMM3MrAV4+KWZmVlzOQFY3F1BJ2mapIWSFq5du7bBoZmZWTNyUWdmZtYkJO0JXAp8obt1ImJWREyMiImjR49uXHBmZta0XNSZmZk1AUljgbnAKRHxeN7xmJlZcbioMzMzy5mkbYCbgHMi4u684zEzs2JxUWdmZlYHkq4B/g/YVVK7pNMlHS+pHTgQuEnSgrT6GcCHgfMlLUmX7XIK3czMCsazX5qZmdVBRJzczV1zy6w7A5hR34jMzKxVuafOzMzMzMyswFzUmZmZmZmZFZgiIu8YeiVpLfB0lU/zPuCFGoSTt1bIwzk0j1bIoxVygNbIoxY5fCAiPE9/hWq0f2wmrfA+qAe3y+bcJptzm2yu1dqk231kIYq6WpC0MCIm5h1HtVohD+fQPFohj1bIAVojj1bIwfLlbag8t8vm3Cabc5tsbiC1iYdfmpmZmZmZFZiLOjMzMzMzswIbSEXdrLwDqJFWyMM5NI9WyKMVcoDWyKMVcrB8eRsqz+2yObfJ5twmmxswbTJgjqkzMzMzMzNrRQOpp87MzMzMzKzltGRRJ+lKSWskLS9ZNkrSLZIeS3+3zTPG3kjaUdIdkh6UtELSV9LyouUxTNK9kpamPC5My3eSdI+klZJ+LmlI3rH2RlKbpPsl/SbdLlQOkp6S9ICkJZIWpmWF2p4AJG0j6XpJD0t6SNKBRcpD0q7pf9B5eVXSmUXKAUDSWek9vVzSNem9Xqj3hOWj0m1d0qlpnccknVrm/nml+/kiq6ZNJG0p6ab0mbhC0iWNjb62JE2V9Ej6HDmnzP1D0+fLyvR5M77kvnPT8kckfaKRcddTf9tE0uGSFqV9/yJJhzQ69nqqZltJ94+TtF7SVxsVcz21ZFEHzAGmdll2DnBbROwM3JZuN7O3gX+KiD2AA4B/kLQHxctjA3BIROwDTACmSjoAuBT4fkR8GFgHnJ5jjJX6CvBQye0i5vDXETGhZHrfom1PADOBmyNiN2Afsv9JYfKIiEfS/2AC8JfAG8BcCpSDpDHAdGBiROwFtAEnUcz3hDVer9u6pFHABcAkYH/ggtJCR9KngPWNCbchqm2T76XPxI8CH5N0RGPCri1JbcAVwBHAHsDJ6btPqdOBdelz5vtknzuk9U4C9iT7Dvhv6fkKrZo2ITs/29ERsTdwKnBVY6KuvyrbpdNlwH/XO9ZGacmiLiJ+B7zUZfGxwE/T9Z8CxzU0qD6KiOciYnG6/hrZF9cxFC+PiIjOHe/gdAngEOD6tLzp85A0FvgkMDvdFgXLoRuF2p4kjQQ+DvwEICLejIiXKVgeJQ4FHo+IpyleDoOA4ZIGAVsCz9Ea7wmrv0q29U8At0TESxGxDriF9GOtpK2AfwRmNCDWRul3m0TEGxFxB2SficBiYGwDYq6H/YGVEfFEyuVasrYpVdpW1wOHpn3yscC1EbEhIp4EVqbnK7p+t0lE3B8Rz6blK8g+s4c2JOr6q2ZbQdJxwJNk7dISWrKo68b2EfFcur4a2D7PYPoidRd/FLiHAuahbNjiEmAN2U7oceDliHg7rdJOVrA2s8uBrwEd6fZ7KV4OAfxPGoIxLS0r2va0E7AW+E9lQ2FnSxpB8fLodBJwTbpemBwiYhXwPeCPZMXcK8AiiveesHxUsq2PAZ4puV26PX0H+FeyXu5WUW2bANnwdOBost6+Iuo1x9J10ufNK2T75EoeW0TVtEmpE4DFEbGhTnE2Wr/bJf0w9HXgwgbE2TCD8g4gDxERkgox7Wfa8H4JnBkRr6YfGIDi5BERG4EJaWczF9gt55D6RNJRwJqIWCRpct7xVOGgiFglaTvgFkkPl95ZkO1pELAv8OWIuEfSTLoMUypIHqTjzY4Bzu16X7PnkIZ8HUtWZL8M/ILNh7zbACbpVuAvytx1XumNvm7rkiYAH4qIs7oeH9Ps6tUmJc8/iOxHoh9ExBP9i9JakaQ9yYYeTsk7libxLbJDBdaXfq8uuoFU1D0vaYeIeE7SDmS9Rk1N0mCygu7qiPhVWly4PDpFxMuS7gAOBLaRNCj9cjIWWJVvdD36GHCMpCOBYcDWZMd1FSmHzt4VImKNpLlkQxeKtj21A+0RcU+6fT1ZUVe0PCA7DmBxRDyfbhcph8OAJyNiLYCkX5G9Twr1nrD6iYjDurtPUiXb+ipgcsntscCdZPuPiZKeIvsOs52kOyNiMk2ujm3SaRbwWERcXoNw87IK2LHkdrnPkc512lMhOxJ4scLHFlE1bdJ5+Mhc4JSIeLz+4TZMNe0yCThR0r8A2wAdkv4cET+qf9j1M5CGX84jO0iU9PfGHGPpVRrz+xPgoYi4rOSuouUxOvXQIWk4cDjZ8YF3ACem1Zo6j4g4NyLGRsR4suFyt0fEZylQDpJGSHpP53WyX+uWU7DtKSJWA89I2jUtOhR4kILlkZzMu0MvoVg5/BE4QNmse+Ld/0Nh3hOWq0q29QXAFEnbpp7hKcCCiPj3iHh/+jw+CHi0CAVdBfrdJgCSZpB9YT2zAbHW033Azspm0h1Cts+d12Wd0rY6kWyfHGn5SWnGw52AnYF7GxR3PfW7TdL3r5uAcyLi7oZF3Bj9bpeIODgixqfPkcuBi4pe0AEQES13Ifui9BzwFtkv+6eTjS2+DXgMuBUYlXecveRwENkxUMuAJelyZAHz+Ahwf8pjOXB+Wv5Bsg/blWRDt4bmHWuF+UwGflO0HFKsS9NlBXBeWl6o7SnFPAFYmLapG4Bti5YHMILs18KRJcuKlsOFwMPpfX0VMLRI7wlf8rt0t60DE4HZJev9XdqWVgKfK/M844HleeeTd5uQ9VAE2Q+mnd8XPp93TlW0xZHAo2TH33fuq74NHJOuD0ufLyvT580HSx57XnrcI8AReeeSd5sA3wReL9kulgDb5Z1P3u3S5Tm+BXw171xqcVFKyMzMzMzMzApoIA2/NDMzMzMzazku6szMzMzMzArMRZ2ZmZmZmVmBuagzMzMzMzMrMBd1ZmZmZmZmBeaizszMzMzqStLv09/xkv62xs/9jXKvZTaQ+JQGZmZmZtYQkiaTnRfsqD48ZlBEvN3D/esjYqtaxGdWVO6pM2sykvaTtEzSMEkjJK2QtFfecZmZmfWXpPXp6iXAwZKWSDpLUpuk70q6L+37vpDWnyzpLknzgAfTshskLUr7xWlp2SXA8PR8V5e+ljLflbRc0gOSPlPy3HdKul7Sw5KulqTGtohZbbmnzqwJSZoBDAOGA+0RcXHOIZmZmfVbZ29a1566VJxtFxEzJA0F7gY+DXwAuAnYKyKeTOuOioiXJA0H7gP+KiJe7NpTV/JaJwBfBKYC70uPmQTsCtwI7Ak8m17z7Ij43wY0hVldDMo7ADMr69tkO58/A9NzjsXMzKxepgAfkXRiuj0S2Bl4E7i3s6BLpks6Pl3fMa33Yg/PfRBwTURsBJ6X9FtgP+DV9NztAJKWAOMBF3VWWC7qzJrTe4GtgMFkPXav5xuOmZlZXQj4ckQs2GRh1qP3epfbhwEHRsQbku4k2z/214aS6xvxd2IrOB9TZ9acfgz8M3A1cGnOsZiZmdXKa8B7Sm4vAP5e0mAASbtIGlHmcSOBdamg2w04oOS+tzof38VdwGfScXujgY8D99YkC7Mm418lzJqMpFOAtyLivyS1Ab+XdEhE3J53bGZmZlVaBmyUtBSYA8wkG/q4OE1WshY4rszjbga+KOkh4BHgDyX3zQKWSVocEZ8tWT4XOBBYCgTwtYhYnYpCs5biiVLMzMzMzMwKzMMvzczMzMzMCsxFnZmZmZmZWYG5qDMzMzMzMyswF3VmZmZmZmYF5qLOzMzMzMyswFzUmZmZmZmZFZiLOjMzMzMzswJzUWdmZmZmZlZg/w9NuUXcJ9tzRAAAAABJRU5ErkJggg==\n"
                },
                "metadata": {
                  "needs_background": "light"
                }
              }
            ]
          }
        },
        "3f9c853ab77746ae85256d2a3a28ef8d": {
          "model_module": "@jupyter-widgets/base",
          "model_name": "LayoutModel",
          "model_module_version": "1.2.0",
          "state": {
            "_model_module": "@jupyter-widgets/base",
            "_model_module_version": "1.2.0",
            "_model_name": "LayoutModel",
            "_view_count": null,
            "_view_module": "@jupyter-widgets/base",
            "_view_module_version": "1.2.0",
            "_view_name": "LayoutView",
            "align_content": null,
            "align_items": null,
            "align_self": null,
            "border": null,
            "bottom": null,
            "display": null,
            "flex": null,
            "flex_flow": null,
            "grid_area": null,
            "grid_auto_columns": null,
            "grid_auto_flow": null,
            "grid_auto_rows": null,
            "grid_column": null,
            "grid_gap": null,
            "grid_row": null,
            "grid_template_areas": null,
            "grid_template_columns": null,
            "grid_template_rows": null,
            "height": null,
            "justify_content": null,
            "justify_items": null,
            "left": null,
            "margin": null,
            "max_height": null,
            "max_width": null,
            "min_height": null,
            "min_width": null,
            "object_fit": null,
            "object_position": null,
            "order": null,
            "overflow": null,
            "overflow_x": null,
            "overflow_y": null,
            "padding": null,
            "right": null,
            "top": null,
            "visibility": null,
            "width": null
          }
        },
        "c5db6deb9bac41cd95b3f4f1d0955c91": {
          "model_module": "@jupyter-widgets/base",
          "model_name": "LayoutModel",
          "model_module_version": "1.2.0",
          "state": {
            "_model_module": "@jupyter-widgets/base",
            "_model_module_version": "1.2.0",
            "_model_name": "LayoutModel",
            "_view_count": null,
            "_view_module": "@jupyter-widgets/base",
            "_view_module_version": "1.2.0",
            "_view_name": "LayoutView",
            "align_content": null,
            "align_items": null,
            "align_self": null,
            "border": null,
            "bottom": null,
            "display": null,
            "flex": null,
            "flex_flow": null,
            "grid_area": null,
            "grid_auto_columns": null,
            "grid_auto_flow": null,
            "grid_auto_rows": null,
            "grid_column": null,
            "grid_gap": null,
            "grid_row": null,
            "grid_template_areas": null,
            "grid_template_columns": null,
            "grid_template_rows": null,
            "height": null,
            "justify_content": null,
            "justify_items": null,
            "left": null,
            "margin": null,
            "max_height": null,
            "max_width": null,
            "min_height": null,
            "min_width": null,
            "object_fit": null,
            "object_position": null,
            "order": null,
            "overflow": null,
            "overflow_x": null,
            "overflow_y": null,
            "padding": null,
            "right": null,
            "top": null,
            "visibility": null,
            "width": null
          }
        },
        "cedc8997cea24fafbe247c672c1f5d50": {
          "model_module": "@jupyter-widgets/controls",
          "model_name": "SliderStyleModel",
          "model_module_version": "1.5.0",
          "state": {
            "_model_module": "@jupyter-widgets/controls",
            "_model_module_version": "1.5.0",
            "_model_name": "SliderStyleModel",
            "_view_count": null,
            "_view_module": "@jupyter-widgets/base",
            "_view_module_version": "1.2.0",
            "_view_name": "StyleView",
            "description_width": "",
            "handle_color": null
          }
        },
        "e704f5b119164b528bbd3c6a64c5f9d4": {
          "model_module": "@jupyter-widgets/base",
          "model_name": "LayoutModel",
          "model_module_version": "1.2.0",
          "state": {
            "_model_module": "@jupyter-widgets/base",
            "_model_module_version": "1.2.0",
            "_model_name": "LayoutModel",
            "_view_count": null,
            "_view_module": "@jupyter-widgets/base",
            "_view_module_version": "1.2.0",
            "_view_name": "LayoutView",
            "align_content": null,
            "align_items": null,
            "align_self": null,
            "border": null,
            "bottom": null,
            "display": null,
            "flex": null,
            "flex_flow": null,
            "grid_area": null,
            "grid_auto_columns": null,
            "grid_auto_flow": null,
            "grid_auto_rows": null,
            "grid_column": null,
            "grid_gap": null,
            "grid_row": null,
            "grid_template_areas": null,
            "grid_template_columns": null,
            "grid_template_rows": null,
            "height": null,
            "justify_content": null,
            "justify_items": null,
            "left": null,
            "margin": null,
            "max_height": null,
            "max_width": null,
            "min_height": null,
            "min_width": null,
            "object_fit": null,
            "object_position": null,
            "order": null,
            "overflow": null,
            "overflow_x": null,
            "overflow_y": null,
            "padding": null,
            "right": null,
            "top": null,
            "visibility": null,
            "width": null
          }
        },
        "1aa08ba2156249b9b9caf0652d701a8a": {
          "model_module": "@jupyter-widgets/controls",
          "model_name": "SliderStyleModel",
          "model_module_version": "1.5.0",
          "state": {
            "_model_module": "@jupyter-widgets/controls",
            "_model_module_version": "1.5.0",
            "_model_name": "SliderStyleModel",
            "_view_count": null,
            "_view_module": "@jupyter-widgets/base",
            "_view_module_version": "1.2.0",
            "_view_name": "StyleView",
            "description_width": "",
            "handle_color": null
          }
        },
        "0ceab50fa50a4949bff6cb21f017d877": {
          "model_module": "@jupyter-widgets/base",
          "model_name": "LayoutModel",
          "model_module_version": "1.2.0",
          "state": {
            "_model_module": "@jupyter-widgets/base",
            "_model_module_version": "1.2.0",
            "_model_name": "LayoutModel",
            "_view_count": null,
            "_view_module": "@jupyter-widgets/base",
            "_view_module_version": "1.2.0",
            "_view_name": "LayoutView",
            "align_content": null,
            "align_items": null,
            "align_self": null,
            "border": null,
            "bottom": null,
            "display": null,
            "flex": null,
            "flex_flow": null,
            "grid_area": null,
            "grid_auto_columns": null,
            "grid_auto_flow": null,
            "grid_auto_rows": null,
            "grid_column": null,
            "grid_gap": null,
            "grid_row": null,
            "grid_template_areas": null,
            "grid_template_columns": null,
            "grid_template_rows": null,
            "height": null,
            "justify_content": null,
            "justify_items": null,
            "left": null,
            "margin": null,
            "max_height": null,
            "max_width": null,
            "min_height": null,
            "min_width": null,
            "object_fit": null,
            "object_position": null,
            "order": null,
            "overflow": null,
            "overflow_x": null,
            "overflow_y": null,
            "padding": null,
            "right": null,
            "top": null,
            "visibility": null,
            "width": null
          }
        },
        "b81f05249b544c7285b0018368327951": {
          "model_module": "@jupyter-widgets/controls",
          "model_name": "VBoxModel",
          "model_module_version": "1.5.0",
          "state": {
            "_dom_classes": [
              "widget-interact"
            ],
            "_model_module": "@jupyter-widgets/controls",
            "_model_module_version": "1.5.0",
            "_model_name": "VBoxModel",
            "_view_count": null,
            "_view_module": "@jupyter-widgets/controls",
            "_view_module_version": "1.5.0",
            "_view_name": "VBoxView",
            "box_style": "",
            "children": [
              "IPY_MODEL_56d72b5a2ce147c488f0b38f163b6570",
              "IPY_MODEL_66101856d7c7471aa424546b58ec753f"
            ],
            "layout": "IPY_MODEL_83bc176ea78d4294a9c510c478230f63"
          }
        },
        "56d72b5a2ce147c488f0b38f163b6570": {
          "model_module": "@jupyter-widgets/controls",
          "model_name": "FloatTextModel",
          "model_module_version": "1.5.0",
          "state": {
            "_dom_classes": [],
            "_model_module": "@jupyter-widgets/controls",
            "_model_module_version": "1.5.0",
            "_model_name": "FloatTextModel",
            "_view_count": null,
            "_view_module": "@jupyter-widgets/controls",
            "_view_module_version": "1.5.0",
            "_view_name": "FloatTextView",
            "continuous_update": false,
            "description": "n",
            "description_tooltip": null,
            "disabled": false,
            "layout": "IPY_MODEL_0dfd69410103403f87391d3509c294bc",
            "step": null,
            "style": "IPY_MODEL_c29095998d704b06bbd3c90a60bdd6ac",
            "value": 0
          }
        },
        "66101856d7c7471aa424546b58ec753f": {
          "model_module": "@jupyter-widgets/output",
          "model_name": "OutputModel",
          "model_module_version": "1.0.0",
          "state": {
            "_dom_classes": [],
            "_model_module": "@jupyter-widgets/output",
            "_model_module_version": "1.0.0",
            "_model_name": "OutputModel",
            "_view_count": null,
            "_view_module": "@jupyter-widgets/output",
            "_view_module_version": "1.0.0",
            "_view_name": "OutputView",
            "layout": "IPY_MODEL_ffc6817c336b4533b5a7befd795fdc6f",
            "msg_id": "",
            "outputs": [
              {
                "output_type": "stream",
                "name": "stdout",
                "text": [
                  "\n",
                  "MSE: 17.59 years\n",
                  "\n"
                ]
              },
              {
                "output_type": "display_data",
                "data": {
                  "text/plain": "<Figure size 432x288 with 1 Axes>",
                  "image/png": "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\n"
                },
                "metadata": {
                  "needs_background": "light"
                }
              }
            ]
          }
        },
        "83bc176ea78d4294a9c510c478230f63": {
          "model_module": "@jupyter-widgets/base",
          "model_name": "LayoutModel",
          "model_module_version": "1.2.0",
          "state": {
            "_model_module": "@jupyter-widgets/base",
            "_model_module_version": "1.2.0",
            "_model_name": "LayoutModel",
            "_view_count": null,
            "_view_module": "@jupyter-widgets/base",
            "_view_module_version": "1.2.0",
            "_view_name": "LayoutView",
            "align_content": null,
            "align_items": null,
            "align_self": null,
            "border": null,
            "bottom": null,
            "display": null,
            "flex": null,
            "flex_flow": null,
            "grid_area": null,
            "grid_auto_columns": null,
            "grid_auto_flow": null,
            "grid_auto_rows": null,
            "grid_column": null,
            "grid_gap": null,
            "grid_row": null,
            "grid_template_areas": null,
            "grid_template_columns": null,
            "grid_template_rows": null,
            "height": null,
            "justify_content": null,
            "justify_items": null,
            "left": null,
            "margin": null,
            "max_height": null,
            "max_width": null,
            "min_height": null,
            "min_width": null,
            "object_fit": null,
            "object_position": null,
            "order": null,
            "overflow": null,
            "overflow_x": null,
            "overflow_y": null,
            "padding": null,
            "right": null,
            "top": null,
            "visibility": null,
            "width": null
          }
        },
        "0dfd69410103403f87391d3509c294bc": {
          "model_module": "@jupyter-widgets/base",
          "model_name": "LayoutModel",
          "model_module_version": "1.2.0",
          "state": {
            "_model_module": "@jupyter-widgets/base",
            "_model_module_version": "1.2.0",
            "_model_name": "LayoutModel",
            "_view_count": null,
            "_view_module": "@jupyter-widgets/base",
            "_view_module_version": "1.2.0",
            "_view_name": "LayoutView",
            "align_content": null,
            "align_items": null,
            "align_self": null,
            "border": null,
            "bottom": null,
            "display": null,
            "flex": null,
            "flex_flow": null,
            "grid_area": null,
            "grid_auto_columns": null,
            "grid_auto_flow": null,
            "grid_auto_rows": null,
            "grid_column": null,
            "grid_gap": null,
            "grid_row": null,
            "grid_template_areas": null,
            "grid_template_columns": null,
            "grid_template_rows": null,
            "height": null,
            "justify_content": null,
            "justify_items": null,
            "left": null,
            "margin": null,
            "max_height": null,
            "max_width": null,
            "min_height": null,
            "min_width": null,
            "object_fit": null,
            "object_position": null,
            "order": null,
            "overflow": null,
            "overflow_x": null,
            "overflow_y": null,
            "padding": null,
            "right": null,
            "top": null,
            "visibility": null,
            "width": null
          }
        },
        "c29095998d704b06bbd3c90a60bdd6ac": {
          "model_module": "@jupyter-widgets/controls",
          "model_name": "DescriptionStyleModel",
          "model_module_version": "1.5.0",
          "state": {
            "_model_module": "@jupyter-widgets/controls",
            "_model_module_version": "1.5.0",
            "_model_name": "DescriptionStyleModel",
            "_view_count": null,
            "_view_module": "@jupyter-widgets/base",
            "_view_module_version": "1.2.0",
            "_view_name": "StyleView",
            "description_width": ""
          }
        },
        "ffc6817c336b4533b5a7befd795fdc6f": {
          "model_module": "@jupyter-widgets/base",
          "model_name": "LayoutModel",
          "model_module_version": "1.2.0",
          "state": {
            "_model_module": "@jupyter-widgets/base",
            "_model_module_version": "1.2.0",
            "_model_name": "LayoutModel",
            "_view_count": null,
            "_view_module": "@jupyter-widgets/base",
            "_view_module_version": "1.2.0",
            "_view_name": "LayoutView",
            "align_content": null,
            "align_items": null,
            "align_self": null,
            "border": null,
            "bottom": null,
            "display": null,
            "flex": null,
            "flex_flow": null,
            "grid_area": null,
            "grid_auto_columns": null,
            "grid_auto_flow": null,
            "grid_auto_rows": null,
            "grid_column": null,
            "grid_gap": null,
            "grid_row": null,
            "grid_template_areas": null,
            "grid_template_columns": null,
            "grid_template_rows": null,
            "height": null,
            "justify_content": null,
            "justify_items": null,
            "left": null,
            "margin": null,
            "max_height": null,
            "max_width": null,
            "min_height": null,
            "min_width": null,
            "object_fit": null,
            "object_position": null,
            "order": null,
            "overflow": null,
            "overflow_x": null,
            "overflow_y": null,
            "padding": null,
            "right": null,
            "top": null,
            "visibility": null,
            "width": null
          }
        }
      }
    }
  },
  "cells": [
    {
      "cell_type": "markdown",
      "metadata": {
        "id": "view-in-github",
        "colab_type": "text"
      },
      "source": [
        "<a href=\"https://colab.research.google.com/github/mfmachado/adar/blob/main/ICT.ipynb\" target=\"_parent\"><img src=\"https://colab.research.google.com/assets/colab-badge.svg\" alt=\"Open In Colab\"/></a>"
      ]
    },
    {
      "cell_type": "markdown",
      "source": [
        "# ICT @ BrainAGE\n",
        "\n",
        "Com o envelhecimento ocorrem várias alterações no corpo humano, nomeadamente no cérebro onde o volume de massa cinzenta diminiu, a massa branca aumenta até à idade de 50 anos diminuindo posteriormente e o liquido cefeloraquidiano (CSF) aumenta com a idade. A modulação do envelhecimento saudável do cérebro poderá abrir portas para perceber algumas patolofias como alzheimer, Parkinson etc que actualmente não têm cura. \n",
        "\n",
        "**A questão que se impõe é como é que podemos modular o envelhecimento utilizando dados?** Neste tutorial irão perceber como é que ocorre o ajuste de uma recta a dados.\n"
      ],
      "metadata": {
        "id": "dc-jVoCJ5UN2"
      }
    },
    {
      "cell_type": "code",
      "source": [
        "#@title\n",
        "## Data\n",
        "import math\n",
        "import numpy as np\n",
        "import pandas as pd\n",
        "import matplotlib.pyplot as plt\n",
        "import seaborn as sns\n",
        "from ipywidgets import interact\n",
        "import ipywidgets as widgets\n",
        "import random\n",
        "from sklearn.linear_model import LinearRegression\n",
        "from sklearn.metrics import mean_absolute_error\n",
        "\n",
        "\n",
        "random.seed(2022)\n",
        "\n",
        "def generate_data_without_noise(m, b, number_points):\n",
        "  \n",
        "    x = np.linspace(10, 80, number_points)\n",
        "    y = x*m + b\n",
        "    return pd.DataFrame(np.vstack([x, y]).T, columns=[\"x\", \"y\"])\n",
        "\n",
        "def generate_data_with_noise(m, b, number_points):\n",
        "    \n",
        "    x = np.linspace(10, 80, number_points)\n",
        "    y = x*m + b + np.random.normal(0, 0.5, number_points)\n",
        "    return pd.DataFrame(np.vstack([x, y]).T, columns=[\"x\", \"y\"])\n",
        "\n",
        "def data_generation():\n",
        "    \n",
        "    number_points = 200\n",
        "    age = np.linspace(10, 80, number_points)\n",
        "    csf = 0.0005*age**2 + np.random.normal(0.5, 0.2, number_points)\n",
        "    return pd.DataFrame(np.vstack([age, csf]).T, \n",
        "                        columns=[\"age\", \"csf\"]).sample(frac=1)\n",
        "\n",
        "n_points = 71\n",
        "m, b = round(random.random()/5, 2), round(random.random()/5, 2)\n",
        "df_data = generate_data_without_noise(m, b, n_points)\n",
        "  \n",
        "m_noise, b_noise = round(random.random()/10, 2), round(random.random()/10, 2)\n",
        "df_data_noise = generate_data_with_noise(m_noise, b_noise, n_points)\n"
      ],
      "metadata": {
        "cellView": "form",
        "id": "6RrXdnVCI-g4"
      },
      "execution_count": 119,
      "outputs": []
    },
    {
      "cell_type": "markdown",
      "source": [
        "## Regressão Linear\n",
        "\n",
        "A regressão linear descreve a relação entre uma variável dependente, $y$, e uma variável independente, $x$, pela equação: $y = mx +b$. Onde $m$ corresponde ao declive e $b$ a ordenada na origem $b$.\n",
        "\n",
        "No gráfico abaixo, Figura 1, está uma recta que segue a equação:\n",
        "$y=2x+5$ \n"
      ],
      "metadata": {
        "id": "pkwlzLb6HwZo"
      }
    },
    {
      "cell_type": "markdown",
      "source": [
        ""
      ],
      "metadata": {
        "id": "MkuSOsiYXo2U"
      }
    },
    {
      "cell_type": "code",
      "source": [
        "#@title\n",
        "\n",
        "plt.plot([0, 20], [5, 45], 'r', label=f\"y=2x+5\")\n",
        "_ = plt.xlabel(\"x\")\n",
        "_ = plt.ylabel(\"y\")\n",
        "_ = plt.legend()\n",
        "_ = plt.title(\"Figure 1\")"
      ],
      "metadata": {
        "colab": {
          "base_uri": "https://localhost:8080/",
          "height": 295
        },
        "cellView": "form",
        "id": "2SNHr83FIv3B",
        "outputId": "20a8b6ed-caca-4665-ea5e-479e7f1874a2"
      },
      "execution_count": 120,
      "outputs": [
        {
          "output_type": "display_data",
          "data": {
            "text/plain": [
              "<Figure size 432x288 with 1 Axes>"
            ],
            "image/png": "[encoded data removed]"
          },
          "metadata": {
            "needs_background": "light"
          }
        }
      ]
    },
    {
      "cell_type": "markdown",
      "source": [
        "### Exercício 1: Conseguem encontrar os parametros da recta ($m$ e $b$) através de dados?\n",
        "\n",
        "Usando os dados que se encontram na tabela abaixo, tentem encontrar ($m$ e $b$). Preencham a vossa solução no widget abaixo e verifiquem se está correcta.\n",
        "\n",
        "Nota: Para encontrar ($m$ e $b$) podem usar um sistema de equações."
      ],
      "metadata": {
        "id": "pjP8D2d1_KYF"
      }
    },
    {
      "cell_type": "code",
      "source": [
        "#@title\n",
        "n_points = 71\n",
        "\n",
        "df_data.head(5)"
      ],
      "metadata": {
        "colab": {
          "base_uri": "https://localhost:8080/",
          "height": 206
        },
        "cellView": "form",
        "id": "-czvTOX3JCqO",
        "outputId": "d7fc7b61-705a-4c5a-b98d-189013fee51d"
      },
      "execution_count": 121,
      "outputs": [
        {
          "output_type": "execute_result",
          "data": {
            "text/plain": [
              "      x     y\n",
              "0  10.0  1.19\n",
              "1  11.0  1.30\n",
              "2  12.0  1.41\n",
              "3  13.0  1.52\n",
              "4  14.0  1.63"
            ],
            "text/html": [
              "\n",
              "  <div id=\"df-d1799701-748e-485f-9a5a-32409f4aa876\">\n",
              "    <div class=\"colab-df-container\">\n",
              "      <div>\n",
              "<style scoped>\n",
              "    .dataframe tbody tr th:only-of-type {\n",
              "        vertical-align: middle;\n",
              "    }\n",
              "\n",
              "    .dataframe tbody tr th {\n",
              "        vertical-align: top;\n",
              "    }\n",
              "\n",
              "    .dataframe thead th {\n",
              "        text-align: right;\n",
              "    }\n",
              "</style>\n",
              "<table border=\"1\" class=\"dataframe\">\n",
              "  <thead>\n",
              "    <tr style=\"text-align: right;\">\n",
              "      <th></th>\n",
              "      <th>x</th>\n",
              "      <th>y</th>\n",
              "    </tr>\n",
              "  </thead>\n",
              "  <tbody>\n",
              "    <tr>\n",
              "      <th>0</th>\n",
              "      <td>10.0</td>\n",
              "      <td>1.19</td>\n",
              "    </tr>\n",
              "    <tr>\n",
              "      <th>1</th>\n",
              "      <td>11.0</td>\n",
              "      <td>1.30</td>\n",
              "    </tr>\n",
              "    <tr>\n",
              "      <th>2</th>\n",
              "      <td>12.0</td>\n",
              "      <td>1.41</td>\n",
              "    </tr>\n",
              "    <tr>\n",
              "      <th>3</th>\n",
              "      <td>13.0</td>\n",
              "      <td>1.52</td>\n",
              "    </tr>\n",
              "    <tr>\n",
              "      <th>4</th>\n",
              "      <td>14.0</td>\n",
              "      <td>1.63</td>\n",
              "    </tr>\n",
              "  </tbody>\n",
              "</table>\n",
              "</div>\n",
              "      <button class=\"colab-df-convert\" onclick=\"convertToInteractive('df-d1799701-748e-485f-9a5a-32409f4aa876')\"\n",
              "              title=\"Convert this dataframe to an interactive table.\"\n",
              "              style=\"display:none;\">\n",
              "        \n",
              "  <svg xmlns=\"http://www.w3.org/2000/svg\" height=\"24px\"viewBox=\"0 0 24 24\"\n",
              "       width=\"24px\">\n",
              "    <path d=\"M0 0h24v24H0V0z\" fill=\"none\"/>\n",
              "    <path d=\"M18.56 5.44l.94 2.06.94-2.06 2.06-.94-2.06-.94-.94-2.06-.94 2.06-2.06.94zm-11 1L8.5 8.5l.94-2.06 2.06-.94-2.06-.94L8.5 2.5l-.94 2.06-2.06.94zm10 10l.94 2.06.94-2.06 2.06-.94-2.06-.94-.94-2.06-.94 2.06-2.06.94z\"/><path d=\"M17.41 7.96l-1.37-1.37c-.4-.4-.92-.59-1.43-.59-.52 0-1.04.2-1.43.59L10.3 9.45l-7.72 7.72c-.78.78-.78 2.05 0 2.83L4 21.41c.39.39.9.59 1.41.59.51 0 1.02-.2 1.41-.59l7.78-7.78 2.81-2.81c.8-.78.8-2.07 0-2.86zM5.41 20L4 18.59l7.72-7.72 1.47 1.35L5.41 20z\"/>\n",
              "  </svg>\n",
              "      </button>\n",
              "      \n",
              "  <style>\n",
              "    .colab-df-container {\n",
              "      display:flex;\n",
              "      flex-wrap:wrap;\n",
              "      gap: 12px;\n",
              "    }\n",
              "\n",
              "    .colab-df-convert {\n",
              "      background-color: #E8F0FE;\n",
              "      border: none;\n",
              "      border-radius: 50%;\n",
              "      cursor: pointer;\n",
              "      display: none;\n",
              "      fill: #1967D2;\n",
              "      height: 32px;\n",
              "      padding: 0 0 0 0;\n",
              "      width: 32px;\n",
              "    }\n",
              "\n",
              "    .colab-df-convert:hover {\n",
              "      background-color: #E2EBFA;\n",
              "      box-shadow: 0px 1px 2px rgba(60, 64, 67, 0.3), 0px 1px 3px 1px rgba(60, 64, 67, 0.15);\n",
              "      fill: #174EA6;\n",
              "    }\n",
              "\n",
              "    [theme=dark] .colab-df-convert {\n",
              "      background-color: #3B4455;\n",
              "      fill: #D2E3FC;\n",
              "    }\n",
              "\n",
              "    [theme=dark] .colab-df-convert:hover {\n",
              "      background-color: #434B5C;\n",
              "      box-shadow: 0px 1px 3px 1px rgba(0, 0, 0, 0.15);\n",
              "      filter: drop-shadow(0px 1px 2px rgba(0, 0, 0, 0.3));\n",
              "      fill: #FFFFFF;\n",
              "    }\n",
              "  </style>\n",
              "\n",
              "      <script>\n",
              "        const buttonEl =\n",
              "          document.querySelector('#df-d1799701-748e-485f-9a5a-32409f4aa876 button.colab-df-convert');\n",
              "        buttonEl.style.display =\n",
              "          google.colab.kernel.accessAllowed ? 'block' : 'none';\n",
              "\n",
              "        async function convertToInteractive(key) {\n",
              "          const element = document.querySelector('#df-d1799701-748e-485f-9a5a-32409f4aa876');\n",
              "          const dataTable =\n",
              "            await google.colab.kernel.invokeFunction('convertToInteractive',\n",
              "                                                     [key], {});\n",
              "          if (!dataTable) return;\n",
              "\n",
              "          const docLinkHtml = 'Like what you see? Visit the ' +\n",
              "            '<a target=\"_blank\" href=https://colab.research.google.com/notebooks/data_table.ipynb>data table notebook</a>'\n",
              "            + ' to learn more about interactive tables.';\n",
              "          element.innerHTML = '';\n",
              "          dataTable['output_type'] = 'display_data';\n",
              "          await google.colab.output.renderOutput(dataTable, element);\n",
              "          const docLink = document.createElement('div');\n",
              "          docLink.innerHTML = docLinkHtml;\n",
              "          element.appendChild(docLink);\n",
              "        }\n",
              "      </script>\n",
              "    </div>\n",
              "  </div>\n",
              "  "
            ]
          },
          "metadata": {},
          "execution_count": 121
        }
      ]
    },
    {
      "cell_type": "code",
      "source": [
        "#@title\n",
        "def verify_slop_intercep(df, x_label, y_label, m_estimate, b_estimate, m_real, b_real):\n",
        "  if m_estimate==m_real and b_estimate==b_real:\n",
        "    print(f\"\\nCorrect, the m is {m_real} and b is {b_real}\\n\")\n",
        "  else:\n",
        "    print(f\"\\nWrong, give it another try!\\n\")\n",
        "  \n",
        "  sns.scatterplot(data=df, x=x_label,y=y_label, label=\"data\")\n",
        "  plt.plot(df[x_label], m_estimate*df[x_label]+b_estimate, 'r', label=f\"y={m_estimate}x+{b_estimate}\")\n",
        "  plt.legend()\n",
        "  plt.title(\"Figure 2\")\n",
        "  return m_estimate==m_real and b_estimate==b_real\n",
        "m_widget = widgets.FloatText(value=0, description='m', disabled=False)\n",
        "b_widget = widgets.FloatText(value=0, description='b', disabled=False)\n",
        "result = interact(verify_slop_intercep, \n",
        "            df=widgets.fixed(df_data),\n",
        "            x_label=widgets.fixed(\"x\"),\n",
        "            y_label=widgets.fixed(\"y\"),\n",
        "            m_estimate=m_widget, b_estimate=b_widget, \n",
        "            m_real=widgets.fixed(m), b_real=widgets.fixed(b))"
      ],
      "metadata": {
        "colab": {
          "base_uri": "https://localhost:8080/",
          "height": 433,
          "referenced_widgets": [
            "61c0a9c427cc4461b0b1b64a5a74f614",
            "de00b55f2b714f488f9409775a98a899",
            "c7455c78bade48c08fb0ecbaaf3c2f17",
            "1451a2272a8b4bae899be9825c87ecdb",
            "f49339a77aa54435ab177b04bec40142",
            "1bcb2ee8085c4df0b0bc0a5e39631521",
            "26e2aba743304e909f52be06a842973f",
            "cadcc1b6d1b14f2aa5d2282ea0ffb6bd",
            "2ba40ba5d4e34ce0b7f84483ac783176",
            "aa8c74719cb9413fa15a5da76eb3e7c0"
          ]
        },
        "id": "5elcBMcK_qI3",
        "outputId": "0651fe48-e8b0-45f3-8e0a-a98d8ff873a2",
        "cellView": "form"
      },
      "execution_count": 122,
      "outputs": [
        {
          "output_type": "display_data",
          "data": {
            "text/plain": [
              "interactive(children=(FloatText(value=0.0, description='m'), FloatText(value=0.0, description='b'), Output()),…"
            ],
            "application/vnd.jupyter.widget-view+json": {
              "version_major": 2,
              "version_minor": 0,
              "model_id": "61c0a9c427cc4461b0b1b64a5a74f614"
            }
          },
          "metadata": {}
        }
      ]
    },
    {
      "cell_type": "markdown",
      "source": [
        "## Variabilidade dos dados\n",
        "\n",
        "O dados adquiridos em problemas reais contêm variabidade. Essa variabilidade tem diferentes origens, no caso do cérebro, por exemplo, o cérebro de cada pessoa é diferente. \n",
        "\n",
        "Na Figure 3, está representado um caso mais realista, acham que neste caso é possível determinar $m$ e $b$ usando um sistema de equações?\n",
        "\n",
        "A resposta é não, pois cada pair de pontos dará uma equação diferente! Explorem o widget abaixo."
      ],
      "metadata": {
        "id": "75oMbsrnHGsJ"
      }
    },
    {
      "cell_type": "code",
      "source": [
        "#@title\n",
        "\n",
        "def verify_slop_intercep(df, x_label, y_label, m_estimate, b_estimate):\n",
        "  \n",
        "  sns.scatterplot(data=df, x=x_label,y=y_label, label=\"data\")\n",
        "  plt.plot(df[x_label], m_estimate*df[x_label]+b_estimate, 'r', label=f\"y={m_estimate}x+{b_estimate}\")\n",
        "  plt.legend()\n",
        "  plt.title(\"Figure 3\")\n",
        "  return \n",
        "\n",
        "\n",
        "m_value = 0.3\n",
        "\n",
        "b_value = -2.9\n",
        "\n",
        "step_m = 0.005\n",
        "step_b = 0.1\n",
        "nsteps = 15\n",
        "\n",
        "min_m_value = m_noise - nsteps*step_m\n",
        "max_m_value = max(m_noise + 5*step_m, m_value)\n",
        "min_b_value = min(b_value, b_noise - nsteps*step_b)\n",
        "max_b_value = b_noise + 5*step_b\n",
        "\n",
        "m_widget = widgets.FloatSlider(value=m_value, \n",
        "                               min=min_m_value, \n",
        "                               max=max_m_value, \n",
        "                               step=step_m,\n",
        "                               description='m', disabled=False)\n",
        "\n",
        "b_widget = widgets.FloatSlider(value=b_value, \n",
        "                               min=min_b_value, \n",
        "                               max=max_b_value, \n",
        "                               step=step_b,\n",
        "                               description='b', disabled=False)\n",
        "\n",
        "_= interact(verify_slop_intercep, \n",
        "            df=widgets.fixed(df_data_noise),\n",
        "            x_label=widgets.fixed(\"x\"),\n",
        "            y_label=widgets.fixed(\"y\"),\n",
        "            m_estimate=m_widget, b_estimate=b_widget)"
      ],
      "metadata": {
        "colab": {
          "base_uri": "https://localhost:8080/",
          "height": 359,
          "referenced_widgets": [
            "8af4da32117f4f4f9019f1d7d08fd2fa",
            "266118b26e2b4a8ab21c9b199ad0276c",
            "0eb5a71db4704cd68bd56be6ca013228",
            "31308bba7a554e59a0b519c7ec0ea7fb",
            "e8549ecffce8405c895647848d3af2c3",
            "ca3514ca206c4730b04121622ad2cc09",
            "cedda4efde2f406987fabbedb6d4f0c4",
            "d4ecf78765394532b05e4b688b415c58",
            "4b60a1585b01400c9bcf97888502d84c",
            "6c49f43d49a3416686e78bf82f0b632f"
          ]
        },
        "id": "FnKbotOwIxbN",
        "outputId": "6d8d268f-85b7-43d6-ace6-1cce72be6121",
        "cellView": "form"
      },
      "execution_count": 123,
      "outputs": [
        {
          "output_type": "display_data",
          "data": {
            "text/plain": [
              "interactive(children=(FloatSlider(value=0.3, description='m', max=0.3, min=-0.045, step=0.005), FloatSlider(va…"
            ],
            "application/vnd.jupyter.widget-view+json": {
              "version_major": 2,
              "version_minor": 0,
              "model_id": "8af4da32117f4f4f9019f1d7d08fd2fa"
            }
          },
          "metadata": {}
        }
      ]
    },
    {
      "cell_type": "markdown",
      "source": [
        "## Optimização dos paramêtros da recta\n",
        "\n",
        "Como podemos então decidir qual o melhor $m$ e $b$? \n",
        "\n",
        "Em suma, é necessário uma métrica que nos permita avaliar o ajuste da recta aos dados. Existem diferentes métricas, uma das métricas que é usada é a Soma do Quadrado dos Erros (MSE - Mean Squared Error), que é dada pela equação abaixo.\n",
        "\n",
        "\\begin{align}\n",
        "    MSE = \\frac{1}{N}\\sum_{i=1}^N(y - \\hat{y})^2 \n",
        "\\end{align}\n",
        "\n",
        "onde $N$ é o número de instâncias, $y$ e $\\hat{y}$ é o valor real e estimado de y, respectivamente.\n",
        "\n",
        "O objectivo é minimizar o MSE, ou seja:\n",
        "\\begin{align}\n",
        "\\min _{m, b} \\frac{1}{N}\\sum_{i=1}^{N}\\left(y_{i}-\\hat{y}_i\\right)^{2}\n",
        "\\end{align}"
      ],
      "metadata": {
        "id": "3ja7qAtDQMtz"
      }
    },
    {
      "cell_type": "markdown",
      "source": [
        "### Exercicío 2: Encontra os paramêtros da recta com menor valore de MSE.\n",
        "\n",
        "Explora o widget abaixo e encontra o valor de $m$ e $b$ cujo erro é mais baixo."
      ],
      "metadata": {
        "id": "LtgfSEjHQ9UJ"
      }
    },
    {
      "cell_type": "code",
      "source": [
        "#@title\n",
        "from sklearn.metrics import mean_squared_error\n",
        "values_mse = []\n",
        "def verify_slop_intercep(df, x_label, y_label, m_estimate, b_estimate, m_real, b_real):\n",
        "  \n",
        "  f, ax = plt.subplots(1, 2, figsize=(15, 5))\n",
        "  sns.scatterplot(data=df, x=x_label,y=y_label, label=\"data\", ax=ax[0])\n",
        "  y_pred = m_estimate*df[x_label]+b_estimate\n",
        "  ax[0].plot(df[x_label], y_pred, 'r', \n",
        "             label=f\"y={m_estimate}x+{b_estimate}\")\n",
        "  mse = mean_squared_error(df[y_label], y_pred)\n",
        "  \n",
        "  ymin = np.minimum(df[y_label], y_pred)\n",
        "  ymax = np.maximum(df[y_label], y_pred)\n",
        "  ax[0].vlines(df[x_label], ymin, ymax, 'g', alpha=0.5, label='Resíduos')\n",
        "\n",
        "  values_mse.append(mse)\n",
        "\n",
        "  ax[1].plot(values_mse)\n",
        "  ax[1].set_ylabel(\"MSE\")\n",
        "  ax[1].set_xlabel(\"iteration\")\n",
        "  ax[1].set_title(\"Error Evolution\")\n",
        "  ax[0].legend()\n",
        "  if m_estimate == m_real and b_estimate == b_real:\n",
        "    print(\"Congratulations you found the real m and b value!\")\n",
        "    ax[1].plot([len(values_mse)-1], [values_mse[-1]], 'ro')\n",
        "  return \n",
        "\n",
        "\n",
        "m_widget = widgets.FloatSlider(value=m_value, \n",
        "                               min=min_m_value, \n",
        "                               max=max_m_value, \n",
        "                               step=step_m,\n",
        "                               description='m', disabled=False)\n",
        "\n",
        "b_widget = widgets.FloatSlider(value=b_value, \n",
        "                               min=min_b_value, \n",
        "                               max=max_b_value, \n",
        "                               step=step_b,\n",
        "                               description='b', disabled=False)\n",
        "\n",
        "_= interact(verify_slop_intercep, \n",
        "            df=widgets.fixed(df_data_noise),\n",
        "            x_label=widgets.fixed(\"x\"),\n",
        "            y_label=widgets.fixed(\"y\"),\n",
        "            m_estimate=m_widget, b_estimate=b_widget,\n",
        "            m_real=widgets.fixed(m_noise), b_real=widgets.fixed(b_noise))\n"
      ],
      "metadata": {
        "id": "47Z7V6QfQk0d",
        "colab": {
          "base_uri": "https://localhost:8080/",
          "height": 414,
          "referenced_widgets": [
            "422731e00aad45a8a26eeb060ffa10de",
            "1eef349372d643158967a534a242f22b",
            "55651f52b22240cd93ff63b439897dc9",
            "ba541c7509dd43709e6f37917c5b66ce",
            "3f9c853ab77746ae85256d2a3a28ef8d",
            "c5db6deb9bac41cd95b3f4f1d0955c91",
            "cedc8997cea24fafbe247c672c1f5d50",
            "e704f5b119164b528bbd3c6a64c5f9d4",
            "1aa08ba2156249b9b9caf0652d701a8a",
            "0ceab50fa50a4949bff6cb21f017d877"
          ]
        },
        "outputId": "8de35b97-bda1-4210-d1dc-629d4d414002",
        "cellView": "form"
      },
      "execution_count": 124,
      "outputs": [
        {
          "output_type": "display_data",
          "data": {
            "text/plain": [
              "interactive(children=(FloatSlider(value=0.3, description='m', max=0.3, min=-0.045, step=0.005), FloatSlider(va…"
            ],
            "application/vnd.jupyter.widget-view+json": {
              "version_major": 2,
              "version_minor": 0,
              "model_id": "422731e00aad45a8a26eeb060ffa10de"
            }
          },
          "metadata": {}
        }
      ]
    },
    {
      "cell_type": "markdown",
      "source": [
        "## Características não lineares\n",
        "\n",
        "A matéria cinzenta decresce monotonicamente com a idade, no entanto não é o caso de todas as features, como por exemplo o Líquido Cefaloraquidiano (CSF) que erá representado na Figura abaixo. Como fazemos nestes casos? Há várias soluções, uma delas é transformar a característica não linear em linear para que conseguimos, desta forma, aplicar uma recta aos dados, por exemplo aplicando a seguinte equação aos dados:\n",
        "\\begin{align}\n",
        "    x_{linear} = x_{non~linear}^n\n",
        "\\end{align}\n",
        "\n"
      ],
      "metadata": {
        "id": "nSboBfwxNp7L"
      }
    },
    {
      "cell_type": "code",
      "source": [
        "#@title\n",
        "df = data_generation()\n",
        "_ = sns.scatterplot(data=df, y=\"age\", x=\"csf\")"
      ],
      "metadata": {
        "colab": {
          "base_uri": "https://localhost:8080/",
          "height": 279
        },
        "cellView": "form",
        "id": "43r1xxvk6BbT",
        "outputId": "e357b0d2-09ae-455d-c99e-683fc3b60415"
      },
      "execution_count": 125,
      "outputs": [
        {
          "output_type": "display_data",
          "data": {
            "text/plain": [
              "<Figure size 432x288 with 1 Axes>"
            ],
            "image/png": "[encoded data removed]"
          },
          "metadata": {
            "needs_background": "light"
          }
        }
      ]
    },
    {
      "cell_type": "markdown",
      "source": [
        "### Exercício 3: Qual a transformação polinomial que deve ser aplicada ao líquido cefaloraquidiano, que minimize o MSE?\n",
        "\n",
        "Terás de descobrir o valor de $n$ da equação: $x_{linear} = x_{non~linear}^n$\n",
        "\n",
        "\n",
        "Try different orders on the widget below and select the one that have a better fitting to the data.\n"
      ],
      "metadata": {
        "id": "HJvctq9H5N9F"
      }
    },
    {
      "cell_type": "code",
      "source": [
        "#@title\n",
        "\n",
        "def f(order):\n",
        "    pipeline = LinearRegression()\n",
        "    pipeline.fit(df[[\"csf\"]]**order, df[\"age\"])   \n",
        "    predicted_age = pipeline.predict(df[[\"csf\"]]**order)\n",
        "    \n",
        "    sns.scatterplot(data=df, x=\"csf\", y=\"age\", label=\"CSF\")\n",
        "    plt.plot(df[\"csf\"], predicted_age, 'or', label='Model Prediction')\n",
        "    mae = round(mean_absolute_error(df[\"age\"], predicted_age), 2)\n",
        "    print(f\"\\nMSE: {mae} years\\n\")\n",
        "    if order == 0.5:\n",
        "      print(\"Correct! The order is 0.5.\\n\")\n",
        "    return \n",
        "\n",
        "widget_csf_order = widgets.FloatText(value=0, description='n', disabled=False)\n",
        "n = interact(f, order=widget_csf_order)"
      ],
      "metadata": {
        "colab": {
          "base_uri": "https://localhost:8080/",
          "height": 366,
          "referenced_widgets": [
            "b81f05249b544c7285b0018368327951",
            "56d72b5a2ce147c488f0b38f163b6570",
            "66101856d7c7471aa424546b58ec753f",
            "83bc176ea78d4294a9c510c478230f63",
            "0dfd69410103403f87391d3509c294bc",
            "c29095998d704b06bbd3c90a60bdd6ac",
            "ffc6817c336b4533b5a7befd795fdc6f"
          ]
        },
        "id": "CjQHiOrj5pFo",
        "outputId": "c8ff01a3-f1a9-4252-e791-6c131f095029",
        "cellView": "form"
      },
      "execution_count": 126,
      "outputs": [
        {
          "output_type": "display_data",
          "data": {
            "text/plain": [
              "interactive(children=(FloatText(value=0.0, description='n'), Output()), _dom_classes=('widget-interact',))"
            ],
            "application/vnd.jupyter.widget-view+json": {
              "version_major": 2,
              "version_minor": 0,
              "model_id": "b81f05249b544c7285b0018368327951"
            }
          },
          "metadata": {}
        }
      ]
    }
  ]
}