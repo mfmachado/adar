{
  "nbformat": 4,
  "nbformat_minor": 0,
  "metadata": {
    "colab": {
      "name": "ICT.ipynb",
      "provenance": [],
      "collapsed_sections": [],
      "toc_visible": true,
      "authorship_tag": "ABX9TyMzZiGtFbzIr8lvDF3cPre9",
      "include_colab_link": true
    },
    "kernelspec": {
      "name": "python3",
      "display_name": "Python 3"
    },
    "language_info": {
      "name": "python"
    },
    "widgets": {
      "application/vnd.jupyter.widget-state+json": {
        "a8d4708e6b21430da1733795f73a56cb": {
          "model_module": "@jupyter-widgets/controls",
          "model_name": "VBoxModel",
          "model_module_version": "1.5.0",
          "state": {
            "_dom_classes": [
              "widget-interact"
            ],
            "_model_module": "@jupyter-widgets/controls",
            "_model_module_version": "1.5.0",
            "_model_name": "VBoxModel",
            "_view_count": null,
            "_view_module": "@jupyter-widgets/controls",
            "_view_module_version": "1.5.0",
            "_view_name": "VBoxView",
            "box_style": "",
            "children": [
              "IPY_MODEL_5b501bc7bde341d6b7e4de40dee685c6",
              "IPY_MODEL_fa2fa2772cec44829cdcdd1b073e7681",
              "IPY_MODEL_d50c32a09e7946388f596340d3fe6c78"
            ],
            "layout": "IPY_MODEL_64ba10ecf7df40578d4fd5f18512110f"
          }
        },
        "5b501bc7bde341d6b7e4de40dee685c6": {
          "model_module": "@jupyter-widgets/controls",
          "model_name": "FloatTextModel",
          "model_module_version": "1.5.0",
          "state": {
            "_dom_classes": [],
            "_model_module": "@jupyter-widgets/controls",
            "_model_module_version": "1.5.0",
            "_model_name": "FloatTextModel",
            "_view_count": null,
            "_view_module": "@jupyter-widgets/controls",
            "_view_module_version": "1.5.0",
            "_view_name": "FloatTextView",
            "continuous_update": false,
            "description": "m",
            "description_tooltip": null,
            "disabled": false,
            "layout": "IPY_MODEL_d99056ef765a4c59bfd43d8028dfeb94",
            "step": null,
            "style": "IPY_MODEL_3b7cd63237a8463a81dffef01e03f731",
            "value": 0
          }
        },
        "fa2fa2772cec44829cdcdd1b073e7681": {
          "model_module": "@jupyter-widgets/controls",
          "model_name": "FloatTextModel",
          "model_module_version": "1.5.0",
          "state": {
            "_dom_classes": [],
            "_model_module": "@jupyter-widgets/controls",
            "_model_module_version": "1.5.0",
            "_model_name": "FloatTextModel",
            "_view_count": null,
            "_view_module": "@jupyter-widgets/controls",
            "_view_module_version": "1.5.0",
            "_view_name": "FloatTextView",
            "continuous_update": false,
            "description": "b",
            "description_tooltip": null,
            "disabled": false,
            "layout": "IPY_MODEL_4e5395e25f3945d3a86487612bd3642f",
            "step": null,
            "style": "IPY_MODEL_da4b2fb725fc46a19a60dcb84b251a4d",
            "value": 0
          }
        },
        "d50c32a09e7946388f596340d3fe6c78": {
          "model_module": "@jupyter-widgets/output",
          "model_name": "OutputModel",
          "model_module_version": "1.0.0",
          "state": {
            "_dom_classes": [],
            "_model_module": "@jupyter-widgets/output",
            "_model_module_version": "1.0.0",
            "_model_name": "OutputModel",
            "_view_count": null,
            "_view_module": "@jupyter-widgets/output",
            "_view_module_version": "1.0.0",
            "_view_name": "OutputView",
            "layout": "IPY_MODEL_b2f5bf69f6d74a2497e9f3f22849cc21",
            "msg_id": "",
            "outputs": [
              {
                "output_type": "stream",
                "name": "stdout",
                "text": [
                  "\n",
                  "Errado, tenta novamente!\n",
                  "\n"
                ]
              },
              {
                "output_type": "display_data",
                "data": {
                  "text/plain": "<Figure size 432x288 with 1 Axes>",
                  "image/png": "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\n"
                },
                "metadata": {
                  "needs_background": "light"
                }
              },
              {
                "output_type": "display_data",
                "data": {
                  "text/plain": "False"
                },
                "metadata": {}
              }
            ]
          }
        },
        "64ba10ecf7df40578d4fd5f18512110f": {
          "model_module": "@jupyter-widgets/base",
          "model_name": "LayoutModel",
          "model_module_version": "1.2.0",
          "state": {
            "_model_module": "@jupyter-widgets/base",
            "_model_module_version": "1.2.0",
            "_model_name": "LayoutModel",
            "_view_count": null,
            "_view_module": "@jupyter-widgets/base",
            "_view_module_version": "1.2.0",
            "_view_name": "LayoutView",
            "align_content": null,
            "align_items": null,
            "align_self": null,
            "border": null,
            "bottom": null,
            "display": null,
            "flex": null,
            "flex_flow": null,
            "grid_area": null,
            "grid_auto_columns": null,
            "grid_auto_flow": null,
            "grid_auto_rows": null,
            "grid_column": null,
            "grid_gap": null,
            "grid_row": null,
            "grid_template_areas": null,
            "grid_template_columns": null,
            "grid_template_rows": null,
            "height": null,
            "justify_content": null,
            "justify_items": null,
            "left": null,
            "margin": null,
            "max_height": null,
            "max_width": null,
            "min_height": null,
            "min_width": null,
            "object_fit": null,
            "object_position": null,
            "order": null,
            "overflow": null,
            "overflow_x": null,
            "overflow_y": null,
            "padding": null,
            "right": null,
            "top": null,
            "visibility": null,
            "width": null
          }
        },
        "d99056ef765a4c59bfd43d8028dfeb94": {
          "model_module": "@jupyter-widgets/base",
          "model_name": "LayoutModel",
          "model_module_version": "1.2.0",
          "state": {
            "_model_module": "@jupyter-widgets/base",
            "_model_module_version": "1.2.0",
            "_model_name": "LayoutModel",
            "_view_count": null,
            "_view_module": "@jupyter-widgets/base",
            "_view_module_version": "1.2.0",
            "_view_name": "LayoutView",
            "align_content": null,
            "align_items": null,
            "align_self": null,
            "border": null,
            "bottom": null,
            "display": null,
            "flex": null,
            "flex_flow": null,
            "grid_area": null,
            "grid_auto_columns": null,
            "grid_auto_flow": null,
            "grid_auto_rows": null,
            "grid_column": null,
            "grid_gap": null,
            "grid_row": null,
            "grid_template_areas": null,
            "grid_template_columns": null,
            "grid_template_rows": null,
            "height": null,
            "justify_content": null,
            "justify_items": null,
            "left": null,
            "margin": null,
            "max_height": null,
            "max_width": null,
            "min_height": null,
            "min_width": null,
            "object_fit": null,
            "object_position": null,
            "order": null,
            "overflow": null,
            "overflow_x": null,
            "overflow_y": null,
            "padding": null,
            "right": null,
            "top": null,
            "visibility": null,
            "width": null
          }
        },
        "3b7cd63237a8463a81dffef01e03f731": {
          "model_module": "@jupyter-widgets/controls",
          "model_name": "DescriptionStyleModel",
          "model_module_version": "1.5.0",
          "state": {
            "_model_module": "@jupyter-widgets/controls",
            "_model_module_version": "1.5.0",
            "_model_name": "DescriptionStyleModel",
            "_view_count": null,
            "_view_module": "@jupyter-widgets/base",
            "_view_module_version": "1.2.0",
            "_view_name": "StyleView",
            "description_width": ""
          }
        },
        "4e5395e25f3945d3a86487612bd3642f": {
          "model_module": "@jupyter-widgets/base",
          "model_name": "LayoutModel",
          "model_module_version": "1.2.0",
          "state": {
            "_model_module": "@jupyter-widgets/base",
            "_model_module_version": "1.2.0",
            "_model_name": "LayoutModel",
            "_view_count": null,
            "_view_module": "@jupyter-widgets/base",
            "_view_module_version": "1.2.0",
            "_view_name": "LayoutView",
            "align_content": null,
            "align_items": null,
            "align_self": null,
            "border": null,
            "bottom": null,
            "display": null,
            "flex": null,
            "flex_flow": null,
            "grid_area": null,
            "grid_auto_columns": null,
            "grid_auto_flow": null,
            "grid_auto_rows": null,
            "grid_column": null,
            "grid_gap": null,
            "grid_row": null,
            "grid_template_areas": null,
            "grid_template_columns": null,
            "grid_template_rows": null,
            "height": null,
            "justify_content": null,
            "justify_items": null,
            "left": null,
            "margin": null,
            "max_height": null,
            "max_width": null,
            "min_height": null,
            "min_width": null,
            "object_fit": null,
            "object_position": null,
            "order": null,
            "overflow": null,
            "overflow_x": null,
            "overflow_y": null,
            "padding": null,
            "right": null,
            "top": null,
            "visibility": null,
            "width": null
          }
        },
        "da4b2fb725fc46a19a60dcb84b251a4d": {
          "model_module": "@jupyter-widgets/controls",
          "model_name": "DescriptionStyleModel",
          "model_module_version": "1.5.0",
          "state": {
            "_model_module": "@jupyter-widgets/controls",
            "_model_module_version": "1.5.0",
            "_model_name": "DescriptionStyleModel",
            "_view_count": null,
            "_view_module": "@jupyter-widgets/base",
            "_view_module_version": "1.2.0",
            "_view_name": "StyleView",
            "description_width": ""
          }
        },
        "b2f5bf69f6d74a2497e9f3f22849cc21": {
          "model_module": "@jupyter-widgets/base",
          "model_name": "LayoutModel",
          "model_module_version": "1.2.0",
          "state": {
            "_model_module": "@jupyter-widgets/base",
            "_model_module_version": "1.2.0",
            "_model_name": "LayoutModel",
            "_view_count": null,
            "_view_module": "@jupyter-widgets/base",
            "_view_module_version": "1.2.0",
            "_view_name": "LayoutView",
            "align_content": null,
            "align_items": null,
            "align_self": null,
            "border": null,
            "bottom": null,
            "display": null,
            "flex": null,
            "flex_flow": null,
            "grid_area": null,
            "grid_auto_columns": null,
            "grid_auto_flow": null,
            "grid_auto_rows": null,
            "grid_column": null,
            "grid_gap": null,
            "grid_row": null,
            "grid_template_areas": null,
            "grid_template_columns": null,
            "grid_template_rows": null,
            "height": null,
            "justify_content": null,
            "justify_items": null,
            "left": null,
            "margin": null,
            "max_height": null,
            "max_width": null,
            "min_height": null,
            "min_width": null,
            "object_fit": null,
            "object_position": null,
            "order": null,
            "overflow": null,
            "overflow_x": null,
            "overflow_y": null,
            "padding": null,
            "right": null,
            "top": null,
            "visibility": null,
            "width": null
          }
        },
        "f125a37812d042b4a5d7e4a42ef69405": {
          "model_module": "@jupyter-widgets/controls",
          "model_name": "VBoxModel",
          "model_module_version": "1.5.0",
          "state": {
            "_dom_classes": [
              "widget-interact"
            ],
            "_model_module": "@jupyter-widgets/controls",
            "_model_module_version": "1.5.0",
            "_model_name": "VBoxModel",
            "_view_count": null,
            "_view_module": "@jupyter-widgets/controls",
            "_view_module_version": "1.5.0",
            "_view_name": "VBoxView",
            "box_style": "",
            "children": [
              "IPY_MODEL_ef2fd0320e0446b6a694d4da4415cfd5",
              "IPY_MODEL_e1862b96d1164b62a9f32a4d321f532d",
              "IPY_MODEL_8a3f9e85143d4ed6b95498f617af2b84"
            ],
            "layout": "IPY_MODEL_e19e4dbe20094951b14d78d17e886329"
          }
        },
        "ef2fd0320e0446b6a694d4da4415cfd5": {
          "model_module": "@jupyter-widgets/controls",
          "model_name": "FloatSliderModel",
          "model_module_version": "1.5.0",
          "state": {
            "_dom_classes": [],
            "_model_module": "@jupyter-widgets/controls",
            "_model_module_version": "1.5.0",
            "_model_name": "FloatSliderModel",
            "_view_count": null,
            "_view_module": "@jupyter-widgets/controls",
            "_view_module_version": "1.5.0",
            "_view_name": "FloatSliderView",
            "continuous_update": true,
            "description": "m",
            "description_tooltip": null,
            "disabled": false,
            "layout": "IPY_MODEL_488f1b653e4f4bc5a146937de6372b8f",
            "max": 0.3,
            "min": -0.045,
            "orientation": "horizontal",
            "readout": true,
            "readout_format": ".2f",
            "step": 0.005,
            "style": "IPY_MODEL_f94d8e7fde754681ad68ae3f43b83082",
            "value": 0.3
          }
        },
        "e1862b96d1164b62a9f32a4d321f532d": {
          "model_module": "@jupyter-widgets/controls",
          "model_name": "FloatSliderModel",
          "model_module_version": "1.5.0",
          "state": {
            "_dom_classes": [],
            "_model_module": "@jupyter-widgets/controls",
            "_model_module_version": "1.5.0",
            "_model_name": "FloatSliderModel",
            "_view_count": null,
            "_view_module": "@jupyter-widgets/controls",
            "_view_module_version": "1.5.0",
            "_view_name": "FloatSliderView",
            "continuous_update": true,
            "description": "b",
            "description_tooltip": null,
            "disabled": false,
            "layout": "IPY_MODEL_57c52a6103164bc38f847992743680e7",
            "max": 0.51,
            "min": -2.9,
            "orientation": "horizontal",
            "readout": true,
            "readout_format": ".2f",
            "step": 0.1,
            "style": "IPY_MODEL_1eb8766db2544d73978f002799443002",
            "value": -2.9
          }
        },
        "8a3f9e85143d4ed6b95498f617af2b84": {
          "model_module": "@jupyter-widgets/output",
          "model_name": "OutputModel",
          "model_module_version": "1.0.0",
          "state": {
            "_dom_classes": [],
            "_model_module": "@jupyter-widgets/output",
            "_model_module_version": "1.0.0",
            "_model_name": "OutputModel",
            "_view_count": null,
            "_view_module": "@jupyter-widgets/output",
            "_view_module_version": "1.0.0",
            "_view_name": "OutputView",
            "layout": "IPY_MODEL_f54b902d8a8a40a19940b7bb758c2fe8",
            "msg_id": "",
            "outputs": [
              {
                "output_type": "display_data",
                "data": {
                  "text/plain": "<Figure size 432x288 with 1 Axes>",
                  "image/png": "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\n"
                },
                "metadata": {
                  "needs_background": "light"
                }
              }
            ]
          }
        },
        "e19e4dbe20094951b14d78d17e886329": {
          "model_module": "@jupyter-widgets/base",
          "model_name": "LayoutModel",
          "model_module_version": "1.2.0",
          "state": {
            "_model_module": "@jupyter-widgets/base",
            "_model_module_version": "1.2.0",
            "_model_name": "LayoutModel",
            "_view_count": null,
            "_view_module": "@jupyter-widgets/base",
            "_view_module_version": "1.2.0",
            "_view_name": "LayoutView",
            "align_content": null,
            "align_items": null,
            "align_self": null,
            "border": null,
            "bottom": null,
            "display": null,
            "flex": null,
            "flex_flow": null,
            "grid_area": null,
            "grid_auto_columns": null,
            "grid_auto_flow": null,
            "grid_auto_rows": null,
            "grid_column": null,
            "grid_gap": null,
            "grid_row": null,
            "grid_template_areas": null,
            "grid_template_columns": null,
            "grid_template_rows": null,
            "height": null,
            "justify_content": null,
            "justify_items": null,
            "left": null,
            "margin": null,
            "max_height": null,
            "max_width": null,
            "min_height": null,
            "min_width": null,
            "object_fit": null,
            "object_position": null,
            "order": null,
            "overflow": null,
            "overflow_x": null,
            "overflow_y": null,
            "padding": null,
            "right": null,
            "top": null,
            "visibility": null,
            "width": null
          }
        },
        "488f1b653e4f4bc5a146937de6372b8f": {
          "model_module": "@jupyter-widgets/base",
          "model_name": "LayoutModel",
          "model_module_version": "1.2.0",
          "state": {
            "_model_module": "@jupyter-widgets/base",
            "_model_module_version": "1.2.0",
            "_model_name": "LayoutModel",
            "_view_count": null,
            "_view_module": "@jupyter-widgets/base",
            "_view_module_version": "1.2.0",
            "_view_name": "LayoutView",
            "align_content": null,
            "align_items": null,
            "align_self": null,
            "border": null,
            "bottom": null,
            "display": null,
            "flex": null,
            "flex_flow": null,
            "grid_area": null,
            "grid_auto_columns": null,
            "grid_auto_flow": null,
            "grid_auto_rows": null,
            "grid_column": null,
            "grid_gap": null,
            "grid_row": null,
            "grid_template_areas": null,
            "grid_template_columns": null,
            "grid_template_rows": null,
            "height": null,
            "justify_content": null,
            "justify_items": null,
            "left": null,
            "margin": null,
            "max_height": null,
            "max_width": null,
            "min_height": null,
            "min_width": null,
            "object_fit": null,
            "object_position": null,
            "order": null,
            "overflow": null,
            "overflow_x": null,
            "overflow_y": null,
            "padding": null,
            "right": null,
            "top": null,
            "visibility": null,
            "width": null
          }
        },
        "f94d8e7fde754681ad68ae3f43b83082": {
          "model_module": "@jupyter-widgets/controls",
          "model_name": "SliderStyleModel",
          "model_module_version": "1.5.0",
          "state": {
            "_model_module": "@jupyter-widgets/controls",
            "_model_module_version": "1.5.0",
            "_model_name": "SliderStyleModel",
            "_view_count": null,
            "_view_module": "@jupyter-widgets/base",
            "_view_module_version": "1.2.0",
            "_view_name": "StyleView",
            "description_width": "",
            "handle_color": null
          }
        },
        "57c52a6103164bc38f847992743680e7": {
          "model_module": "@jupyter-widgets/base",
          "model_name": "LayoutModel",
          "model_module_version": "1.2.0",
          "state": {
            "_model_module": "@jupyter-widgets/base",
            "_model_module_version": "1.2.0",
            "_model_name": "LayoutModel",
            "_view_count": null,
            "_view_module": "@jupyter-widgets/base",
            "_view_module_version": "1.2.0",
            "_view_name": "LayoutView",
            "align_content": null,
            "align_items": null,
            "align_self": null,
            "border": null,
            "bottom": null,
            "display": null,
            "flex": null,
            "flex_flow": null,
            "grid_area": null,
            "grid_auto_columns": null,
            "grid_auto_flow": null,
            "grid_auto_rows": null,
            "grid_column": null,
            "grid_gap": null,
            "grid_row": null,
            "grid_template_areas": null,
            "grid_template_columns": null,
            "grid_template_rows": null,
            "height": null,
            "justify_content": null,
            "justify_items": null,
            "left": null,
            "margin": null,
            "max_height": null,
            "max_width": null,
            "min_height": null,
            "min_width": null,
            "object_fit": null,
            "object_position": null,
            "order": null,
            "overflow": null,
            "overflow_x": null,
            "overflow_y": null,
            "padding": null,
            "right": null,
            "top": null,
            "visibility": null,
            "width": null
          }
        },
        "1eb8766db2544d73978f002799443002": {
          "model_module": "@jupyter-widgets/controls",
          "model_name": "SliderStyleModel",
          "model_module_version": "1.5.0",
          "state": {
            "_model_module": "@jupyter-widgets/controls",
            "_model_module_version": "1.5.0",
            "_model_name": "SliderStyleModel",
            "_view_count": null,
            "_view_module": "@jupyter-widgets/base",
            "_view_module_version": "1.2.0",
            "_view_name": "StyleView",
            "description_width": "",
            "handle_color": null
          }
        },
        "f54b902d8a8a40a19940b7bb758c2fe8": {
          "model_module": "@jupyter-widgets/base",
          "model_name": "LayoutModel",
          "model_module_version": "1.2.0",
          "state": {
            "_model_module": "@jupyter-widgets/base",
            "_model_module_version": "1.2.0",
            "_model_name": "LayoutModel",
            "_view_count": null,
            "_view_module": "@jupyter-widgets/base",
            "_view_module_version": "1.2.0",
            "_view_name": "LayoutView",
            "align_content": null,
            "align_items": null,
            "align_self": null,
            "border": null,
            "bottom": null,
            "display": null,
            "flex": null,
            "flex_flow": null,
            "grid_area": null,
            "grid_auto_columns": null,
            "grid_auto_flow": null,
            "grid_auto_rows": null,
            "grid_column": null,
            "grid_gap": null,
            "grid_row": null,
            "grid_template_areas": null,
            "grid_template_columns": null,
            "grid_template_rows": null,
            "height": null,
            "justify_content": null,
            "justify_items": null,
            "left": null,
            "margin": null,
            "max_height": null,
            "max_width": null,
            "min_height": null,
            "min_width": null,
            "object_fit": null,
            "object_position": null,
            "order": null,
            "overflow": null,
            "overflow_x": null,
            "overflow_y": null,
            "padding": null,
            "right": null,
            "top": null,
            "visibility": null,
            "width": null
          }
        },
        "011abeafa3ae4e9da1ee795d3de7130b": {
          "model_module": "@jupyter-widgets/controls",
          "model_name": "VBoxModel",
          "model_module_version": "1.5.0",
          "state": {
            "_dom_classes": [
              "widget-interact"
            ],
            "_model_module": "@jupyter-widgets/controls",
            "_model_module_version": "1.5.0",
            "_model_name": "VBoxModel",
            "_view_count": null,
            "_view_module": "@jupyter-widgets/controls",
            "_view_module_version": "1.5.0",
            "_view_name": "VBoxView",
            "box_style": "",
            "children": [
              "IPY_MODEL_895b76adcd9c411eaaa2b2f628d79f57",
              "IPY_MODEL_73bf55e21d004d7282e383dc3d797866",
              "IPY_MODEL_5a485d9a73414f45a8126778b31bb75c"
            ],
            "layout": "IPY_MODEL_85ae238567634a4494130304ae3e60a2"
          }
        },
        "895b76adcd9c411eaaa2b2f628d79f57": {
          "model_module": "@jupyter-widgets/controls",
          "model_name": "FloatSliderModel",
          "model_module_version": "1.5.0",
          "state": {
            "_dom_classes": [],
            "_model_module": "@jupyter-widgets/controls",
            "_model_module_version": "1.5.0",
            "_model_name": "FloatSliderModel",
            "_view_count": null,
            "_view_module": "@jupyter-widgets/controls",
            "_view_module_version": "1.5.0",
            "_view_name": "FloatSliderView",
            "continuous_update": true,
            "description": "m",
            "description_tooltip": null,
            "disabled": false,
            "layout": "IPY_MODEL_7020fbd733584039acf3c03a46afcd7b",
            "max": 0.3,
            "min": -0.045,
            "orientation": "horizontal",
            "readout": true,
            "readout_format": ".2f",
            "step": 0.005,
            "style": "IPY_MODEL_1ba3397e1e194ea382abb93920cb7568",
            "value": 0.3
          }
        },
        "73bf55e21d004d7282e383dc3d797866": {
          "model_module": "@jupyter-widgets/controls",
          "model_name": "FloatSliderModel",
          "model_module_version": "1.5.0",
          "state": {
            "_dom_classes": [],
            "_model_module": "@jupyter-widgets/controls",
            "_model_module_version": "1.5.0",
            "_model_name": "FloatSliderModel",
            "_view_count": null,
            "_view_module": "@jupyter-widgets/controls",
            "_view_module_version": "1.5.0",
            "_view_name": "FloatSliderView",
            "continuous_update": true,
            "description": "b",
            "description_tooltip": null,
            "disabled": false,
            "layout": "IPY_MODEL_fbf94296060144a69546d3e6ceaeefdb",
            "max": 0.51,
            "min": -2.9,
            "orientation": "horizontal",
            "readout": true,
            "readout_format": ".2f",
            "step": 0.1,
            "style": "IPY_MODEL_d20ac6c33cf8448c8550cd9bd5ae2710",
            "value": -2.9
          }
        },
        "5a485d9a73414f45a8126778b31bb75c": {
          "model_module": "@jupyter-widgets/output",
          "model_name": "OutputModel",
          "model_module_version": "1.0.0",
          "state": {
            "_dom_classes": [],
            "_model_module": "@jupyter-widgets/output",
            "_model_module_version": "1.0.0",
            "_model_name": "OutputModel",
            "_view_count": null,
            "_view_module": "@jupyter-widgets/output",
            "_view_module_version": "1.0.0",
            "_view_name": "OutputView",
            "layout": "IPY_MODEL_38e3c4e1bf6c4b82a83fef6f3bac8261",
            "msg_id": "",
            "outputs": [
              {
                "output_type": "display_data",
                "data": {
                  "text/plain": "<Figure size 1080x360 with 2 Axes>",
                  "image/png": "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\n"
                },
                "metadata": {
                  "needs_background": "light"
                }
              }
            ]
          }
        },
        "85ae238567634a4494130304ae3e60a2": {
          "model_module": "@jupyter-widgets/base",
          "model_name": "LayoutModel",
          "model_module_version": "1.2.0",
          "state": {
            "_model_module": "@jupyter-widgets/base",
            "_model_module_version": "1.2.0",
            "_model_name": "LayoutModel",
            "_view_count": null,
            "_view_module": "@jupyter-widgets/base",
            "_view_module_version": "1.2.0",
            "_view_name": "LayoutView",
            "align_content": null,
            "align_items": null,
            "align_self": null,
            "border": null,
            "bottom": null,
            "display": null,
            "flex": null,
            "flex_flow": null,
            "grid_area": null,
            "grid_auto_columns": null,
            "grid_auto_flow": null,
            "grid_auto_rows": null,
            "grid_column": null,
            "grid_gap": null,
            "grid_row": null,
            "grid_template_areas": null,
            "grid_template_columns": null,
            "grid_template_rows": null,
            "height": null,
            "justify_content": null,
            "justify_items": null,
            "left": null,
            "margin": null,
            "max_height": null,
            "max_width": null,
            "min_height": null,
            "min_width": null,
            "object_fit": null,
            "object_position": null,
            "order": null,
            "overflow": null,
            "overflow_x": null,
            "overflow_y": null,
            "padding": null,
            "right": null,
            "top": null,
            "visibility": null,
            "width": null
          }
        },
        "7020fbd733584039acf3c03a46afcd7b": {
          "model_module": "@jupyter-widgets/base",
          "model_name": "LayoutModel",
          "model_module_version": "1.2.0",
          "state": {
            "_model_module": "@jupyter-widgets/base",
            "_model_module_version": "1.2.0",
            "_model_name": "LayoutModel",
            "_view_count": null,
            "_view_module": "@jupyter-widgets/base",
            "_view_module_version": "1.2.0",
            "_view_name": "LayoutView",
            "align_content": null,
            "align_items": null,
            "align_self": null,
            "border": null,
            "bottom": null,
            "display": null,
            "flex": null,
            "flex_flow": null,
            "grid_area": null,
            "grid_auto_columns": null,
            "grid_auto_flow": null,
            "grid_auto_rows": null,
            "grid_column": null,
            "grid_gap": null,
            "grid_row": null,
            "grid_template_areas": null,
            "grid_template_columns": null,
            "grid_template_rows": null,
            "height": null,
            "justify_content": null,
            "justify_items": null,
            "left": null,
            "margin": null,
            "max_height": null,
            "max_width": null,
            "min_height": null,
            "min_width": null,
            "object_fit": null,
            "object_position": null,
            "order": null,
            "overflow": null,
            "overflow_x": null,
            "overflow_y": null,
            "padding": null,
            "right": null,
            "top": null,
            "visibility": null,
            "width": null
          }
        },
        "1ba3397e1e194ea382abb93920cb7568": {
          "model_module": "@jupyter-widgets/controls",
          "model_name": "SliderStyleModel",
          "model_module_version": "1.5.0",
          "state": {
            "_model_module": "@jupyter-widgets/controls",
            "_model_module_version": "1.5.0",
            "_model_name": "SliderStyleModel",
            "_view_count": null,
            "_view_module": "@jupyter-widgets/base",
            "_view_module_version": "1.2.0",
            "_view_name": "StyleView",
            "description_width": "",
            "handle_color": null
          }
        },
        "fbf94296060144a69546d3e6ceaeefdb": {
          "model_module": "@jupyter-widgets/base",
          "model_name": "LayoutModel",
          "model_module_version": "1.2.0",
          "state": {
            "_model_module": "@jupyter-widgets/base",
            "_model_module_version": "1.2.0",
            "_model_name": "LayoutModel",
            "_view_count": null,
            "_view_module": "@jupyter-widgets/base",
            "_view_module_version": "1.2.0",
            "_view_name": "LayoutView",
            "align_content": null,
            "align_items": null,
            "align_self": null,
            "border": null,
            "bottom": null,
            "display": null,
            "flex": null,
            "flex_flow": null,
            "grid_area": null,
            "grid_auto_columns": null,
            "grid_auto_flow": null,
            "grid_auto_rows": null,
            "grid_column": null,
            "grid_gap": null,
            "grid_row": null,
            "grid_template_areas": null,
            "grid_template_columns": null,
            "grid_template_rows": null,
            "height": null,
            "justify_content": null,
            "justify_items": null,
            "left": null,
            "margin": null,
            "max_height": null,
            "max_width": null,
            "min_height": null,
            "min_width": null,
            "object_fit": null,
            "object_position": null,
            "order": null,
            "overflow": null,
            "overflow_x": null,
            "overflow_y": null,
            "padding": null,
            "right": null,
            "top": null,
            "visibility": null,
            "width": null
          }
        },
        "d20ac6c33cf8448c8550cd9bd5ae2710": {
          "model_module": "@jupyter-widgets/controls",
          "model_name": "SliderStyleModel",
          "model_module_version": "1.5.0",
          "state": {
            "_model_module": "@jupyter-widgets/controls",
            "_model_module_version": "1.5.0",
            "_model_name": "SliderStyleModel",
            "_view_count": null,
            "_view_module": "@jupyter-widgets/base",
            "_view_module_version": "1.2.0",
            "_view_name": "StyleView",
            "description_width": "",
            "handle_color": null
          }
        },
        "38e3c4e1bf6c4b82a83fef6f3bac8261": {
          "model_module": "@jupyter-widgets/base",
          "model_name": "LayoutModel",
          "model_module_version": "1.2.0",
          "state": {
            "_model_module": "@jupyter-widgets/base",
            "_model_module_version": "1.2.0",
            "_model_name": "LayoutModel",
            "_view_count": null,
            "_view_module": "@jupyter-widgets/base",
            "_view_module_version": "1.2.0",
            "_view_name": "LayoutView",
            "align_content": null,
            "align_items": null,
            "align_self": null,
            "border": null,
            "bottom": null,
            "display": null,
            "flex": null,
            "flex_flow": null,
            "grid_area": null,
            "grid_auto_columns": null,
            "grid_auto_flow": null,
            "grid_auto_rows": null,
            "grid_column": null,
            "grid_gap": null,
            "grid_row": null,
            "grid_template_areas": null,
            "grid_template_columns": null,
            "grid_template_rows": null,
            "height": null,
            "justify_content": null,
            "justify_items": null,
            "left": null,
            "margin": null,
            "max_height": null,
            "max_width": null,
            "min_height": null,
            "min_width": null,
            "object_fit": null,
            "object_position": null,
            "order": null,
            "overflow": null,
            "overflow_x": null,
            "overflow_y": null,
            "padding": null,
            "right": null,
            "top": null,
            "visibility": null,
            "width": null
          }
        },
        "b8c95dc2cb9445d89830dbd8160801f7": {
          "model_module": "@jupyter-widgets/controls",
          "model_name": "VBoxModel",
          "model_module_version": "1.5.0",
          "state": {
            "_dom_classes": [
              "widget-interact"
            ],
            "_model_module": "@jupyter-widgets/controls",
            "_model_module_version": "1.5.0",
            "_model_name": "VBoxModel",
            "_view_count": null,
            "_view_module": "@jupyter-widgets/controls",
            "_view_module_version": "1.5.0",
            "_view_name": "VBoxView",
            "box_style": "",
            "children": [
              "IPY_MODEL_2a522f4b1edb45e0a12a6913729295ad",
              "IPY_MODEL_6a237e86953146ec8f55450068ab21f8"
            ],
            "layout": "IPY_MODEL_c447e085655e435db2bd9b395283e70e"
          }
        },
        "2a522f4b1edb45e0a12a6913729295ad": {
          "model_module": "@jupyter-widgets/controls",
          "model_name": "FloatTextModel",
          "model_module_version": "1.5.0",
          "state": {
            "_dom_classes": [],
            "_model_module": "@jupyter-widgets/controls",
            "_model_module_version": "1.5.0",
            "_model_name": "FloatTextModel",
            "_view_count": null,
            "_view_module": "@jupyter-widgets/controls",
            "_view_module_version": "1.5.0",
            "_view_name": "FloatTextView",
            "continuous_update": false,
            "description": "n",
            "description_tooltip": null,
            "disabled": false,
            "layout": "IPY_MODEL_abfdbae1b7094fd8aacf3cb3b8174616",
            "step": null,
            "style": "IPY_MODEL_1d06f9a8267246d0be2d7b4ff80e20f0",
            "value": 0
          }
        },
        "6a237e86953146ec8f55450068ab21f8": {
          "model_module": "@jupyter-widgets/output",
          "model_name": "OutputModel",
          "model_module_version": "1.0.0",
          "state": {
            "_dom_classes": [],
            "_model_module": "@jupyter-widgets/output",
            "_model_module_version": "1.0.0",
            "_model_name": "OutputModel",
            "_view_count": null,
            "_view_module": "@jupyter-widgets/output",
            "_view_module_version": "1.0.0",
            "_view_name": "OutputView",
            "layout": "IPY_MODEL_58a0cc72521947faa3d810af4f2043b5",
            "msg_id": "",
            "outputs": [
              {
                "output_type": "stream",
                "name": "stdout",
                "text": [
                  "\n",
                  "MSE: 17.59 anos\n",
                  "\n"
                ]
              },
              {
                "output_type": "display_data",
                "data": {
                  "text/plain": "<Figure size 432x288 with 1 Axes>",
                  "image/png": "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\n"
                },
                "metadata": {
                  "needs_background": "light"
                }
              }
            ]
          }
        },
        "c447e085655e435db2bd9b395283e70e": {
          "model_module": "@jupyter-widgets/base",
          "model_name": "LayoutModel",
          "model_module_version": "1.2.0",
          "state": {
            "_model_module": "@jupyter-widgets/base",
            "_model_module_version": "1.2.0",
            "_model_name": "LayoutModel",
            "_view_count": null,
            "_view_module": "@jupyter-widgets/base",
            "_view_module_version": "1.2.0",
            "_view_name": "LayoutView",
            "align_content": null,
            "align_items": null,
            "align_self": null,
            "border": null,
            "bottom": null,
            "display": null,
            "flex": null,
            "flex_flow": null,
            "grid_area": null,
            "grid_auto_columns": null,
            "grid_auto_flow": null,
            "grid_auto_rows": null,
            "grid_column": null,
            "grid_gap": null,
            "grid_row": null,
            "grid_template_areas": null,
            "grid_template_columns": null,
            "grid_template_rows": null,
            "height": null,
            "justify_content": null,
            "justify_items": null,
            "left": null,
            "margin": null,
            "max_height": null,
            "max_width": null,
            "min_height": null,
            "min_width": null,
            "object_fit": null,
            "object_position": null,
            "order": null,
            "overflow": null,
            "overflow_x": null,
            "overflow_y": null,
            "padding": null,
            "right": null,
            "top": null,
            "visibility": null,
            "width": null
          }
        },
        "abfdbae1b7094fd8aacf3cb3b8174616": {
          "model_module": "@jupyter-widgets/base",
          "model_name": "LayoutModel",
          "model_module_version": "1.2.0",
          "state": {
            "_model_module": "@jupyter-widgets/base",
            "_model_module_version": "1.2.0",
            "_model_name": "LayoutModel",
            "_view_count": null,
            "_view_module": "@jupyter-widgets/base",
            "_view_module_version": "1.2.0",
            "_view_name": "LayoutView",
            "align_content": null,
            "align_items": null,
            "align_self": null,
            "border": null,
            "bottom": null,
            "display": null,
            "flex": null,
            "flex_flow": null,
            "grid_area": null,
            "grid_auto_columns": null,
            "grid_auto_flow": null,
            "grid_auto_rows": null,
            "grid_column": null,
            "grid_gap": null,
            "grid_row": null,
            "grid_template_areas": null,
            "grid_template_columns": null,
            "grid_template_rows": null,
            "height": null,
            "justify_content": null,
            "justify_items": null,
            "left": null,
            "margin": null,
            "max_height": null,
            "max_width": null,
            "min_height": null,
            "min_width": null,
            "object_fit": null,
            "object_position": null,
            "order": null,
            "overflow": null,
            "overflow_x": null,
            "overflow_y": null,
            "padding": null,
            "right": null,
            "top": null,
            "visibility": null,
            "width": null
          }
        },
        "1d06f9a8267246d0be2d7b4ff80e20f0": {
          "model_module": "@jupyter-widgets/controls",
          "model_name": "DescriptionStyleModel",
          "model_module_version": "1.5.0",
          "state": {
            "_model_module": "@jupyter-widgets/controls",
            "_model_module_version": "1.5.0",
            "_model_name": "DescriptionStyleModel",
            "_view_count": null,
            "_view_module": "@jupyter-widgets/base",
            "_view_module_version": "1.2.0",
            "_view_name": "StyleView",
            "description_width": ""
          }
        },
        "58a0cc72521947faa3d810af4f2043b5": {
          "model_module": "@jupyter-widgets/base",
          "model_name": "LayoutModel",
          "model_module_version": "1.2.0",
          "state": {
            "_model_module": "@jupyter-widgets/base",
            "_model_module_version": "1.2.0",
            "_model_name": "LayoutModel",
            "_view_count": null,
            "_view_module": "@jupyter-widgets/base",
            "_view_module_version": "1.2.0",
            "_view_name": "LayoutView",
            "align_content": null,
            "align_items": null,
            "align_self": null,
            "border": null,
            "bottom": null,
            "display": null,
            "flex": null,
            "flex_flow": null,
            "grid_area": null,
            "grid_auto_columns": null,
            "grid_auto_flow": null,
            "grid_auto_rows": null,
            "grid_column": null,
            "grid_gap": null,
            "grid_row": null,
            "grid_template_areas": null,
            "grid_template_columns": null,
            "grid_template_rows": null,
            "height": null,
            "justify_content": null,
            "justify_items": null,
            "left": null,
            "margin": null,
            "max_height": null,
            "max_width": null,
            "min_height": null,
            "min_width": null,
            "object_fit": null,
            "object_position": null,
            "order": null,
            "overflow": null,
            "overflow_x": null,
            "overflow_y": null,
            "padding": null,
            "right": null,
            "top": null,
            "visibility": null,
            "width": null
          }
        }
      }
    }
  },
  "cells": [
    {
      "cell_type": "markdown",
      "metadata": {
        "id": "view-in-github",
        "colab_type": "text"
      },
      "source": [
        "<a href=\"https://colab.research.google.com/github/mfmachado/adar/blob/main/ICT.ipynb\" target=\"_parent\"><img src=\"https://colab.research.google.com/assets/colab-badge.svg\" alt=\"Open In Colab\"/></a>"
      ]
    },
    {
      "cell_type": "markdown",
      "source": [
        "# ICT @ BrainAGE\n",
        "\n",
        "Com o envelhecimento ocorrem várias alterações no corpo humano, nomeadamente no cérebro onde o volume de massa cinzenta diminui, a massa branca aumenta até à idade de 50 anos diminuindo posteriormente e o líquido cefalorraquidiano (CSF) aumenta com a idade. A modulação do envelhecimento saudável do cérebro poderá abrir portas para perceber algumas patologias como Alzheimer, Parkinson etc que atualmente não têm cura. \n",
        "\n",
        "**A questão que se impõe é: como é que podemos modular o envelhecimento utilizando dados?** Neste tutorial irão perceber como é que ocorre o ajuste de uma recta a dados.\n"
      ],
      "metadata": {
        "id": "dc-jVoCJ5UN2"
      }
    },
    {
      "cell_type": "code",
      "source": [
        "#@title\n",
        "## Data\n",
        "import math\n",
        "import numpy as np\n",
        "import pandas as pd\n",
        "import matplotlib.pyplot as plt\n",
        "import seaborn as sns\n",
        "from ipywidgets import interact\n",
        "import ipywidgets as widgets\n",
        "import random\n",
        "from sklearn.linear_model import LinearRegression\n",
        "from sklearn.metrics import mean_absolute_error\n",
        "\n",
        "\n",
        "random.seed(2022)\n",
        "\n",
        "def generate_data_without_noise(m, b, number_points):\n",
        "  \n",
        "    x = np.linspace(10, 80, number_points)\n",
        "    y = x*m + b\n",
        "    return pd.DataFrame(np.vstack([x, y]).T, columns=[\"x\", \"y\"])\n",
        "\n",
        "def generate_data_with_noise(m, b, number_points):\n",
        "    \n",
        "    x = np.linspace(10, 80, number_points)\n",
        "    y = x*m + b + np.random.normal(0, 0.5, number_points)\n",
        "    return pd.DataFrame(np.vstack([x, y]).T, columns=[\"x\", \"y\"])\n",
        "\n",
        "def data_generation():\n",
        "    \n",
        "    number_points = 200\n",
        "    age = np.linspace(10, 80, number_points)\n",
        "    csf = 0.0005*age**2 + np.random.normal(0.5, 0.2, number_points)\n",
        "    return pd.DataFrame(np.vstack([age, csf]).T, \n",
        "                        columns=[\"age\", \"csf\"]).sample(frac=1)\n",
        "\n",
        "n_points = 71\n",
        "m, b = round(random.random()/5, 2), round(random.random()/5, 2)\n",
        "df_data = generate_data_without_noise(m, b, n_points)\n",
        "  \n",
        "m_noise, b_noise = round(random.random()/10, 2), round(random.random()/10, 2)\n",
        "df_data_noise = generate_data_with_noise(m_noise, b_noise, n_points)\n"
      ],
      "metadata": {
        "cellView": "form",
        "id": "6RrXdnVCI-g4"
      },
      "execution_count": null,
      "outputs": []
    },
    {
      "cell_type": "markdown",
      "source": [
        "## Regressão Linear\n",
        "\n",
        "A regressão linear descreve a relação entre uma variável dependente, $y$, e uma variável independente, $x$, pela equação: $y = mx +b$. Onde $m$ corresponde ao declive e $b$ a ordenada na origem $b$.\n",
        "\n",
        "No gráfico abaixo, Figura 1, está uma recta que segue a equação:\n",
        "$y=2x+5$ \n"
      ],
      "metadata": {
        "id": "pkwlzLb6HwZo"
      }
    },
    {
      "cell_type": "code",
      "source": [
        "#@title\n",
        "\n",
        "plt.plot([0, 20], [5, 45], 'r', label=f\"y=2x+5\")\n",
        "_ = plt.xlabel(\"x\")\n",
        "_ = plt.ylabel(\"y\")\n",
        "_ = plt.legend()\n",
        "_ = plt.title(\"Figura 1\")"
      ],
      "metadata": {
        "colab": {
          "base_uri": "https://localhost:8080/",
          "height": 295
        },
        "cellView": "form",
        "id": "2SNHr83FIv3B",
        "outputId": "d3de0cee-351e-486f-9abd-99096193d3a6"
      },
      "execution_count": null,
      "outputs": [
        {
          "output_type": "display_data",
          "data": {
            "text/plain": [
              "<Figure size 432x288 with 1 Axes>"
            ],
            "image/png": "[encoded data removed]"
          },
          "metadata": {
            "needs_background": "light"
          }
        }
      ]
    },
    {
      "cell_type": "markdown",
      "source": [
        "### Exercício 1: Conseguem encontrar os parâmetros da recta ($m$ e $b$) através de dados?\n",
        "\n",
        "Usando os dados que se encontram na tabela abaixo, tentem encontrar ($m$ e $b$). Preencham a vossa solução no widget abaixo e verifiquem se está correcta.\n",
        "\n",
        "Nota: Para encontrar ($m$ e $b$) podem usar um sistema de equações.\n"
      ],
      "metadata": {
        "id": "pjP8D2d1_KYF"
      }
    },
    {
      "cell_type": "code",
      "source": [
        "#@title\n",
        "n_points = 71\n",
        "\n",
        "df_data.head(5)"
      ],
      "metadata": {
        "colab": {
          "base_uri": "https://localhost:8080/",
          "height": 206
        },
        "cellView": "form",
        "id": "-czvTOX3JCqO",
        "outputId": "25880e9f-f412-4070-d8e6-0174c23bf565"
      },
      "execution_count": null,
      "outputs": [
        {
          "output_type": "execute_result",
          "data": {
            "text/plain": [
              "      x     y\n",
              "0  10.0  1.19\n",
              "1  11.0  1.30\n",
              "2  12.0  1.41\n",
              "3  13.0  1.52\n",
              "4  14.0  1.63"
            ],
            "text/html": [
              "\n",
              "  <div id=\"df-312de36f-a54d-4631-a8a5-8481bc59a398\">\n",
              "    <div class=\"colab-df-container\">\n",
              "      <div>\n",
              "<style scoped>\n",
              "    .dataframe tbody tr th:only-of-type {\n",
              "        vertical-align: middle;\n",
              "    }\n",
              "\n",
              "    .dataframe tbody tr th {\n",
              "        vertical-align: top;\n",
              "    }\n",
              "\n",
              "    .dataframe thead th {\n",
              "        text-align: right;\n",
              "    }\n",
              "</style>\n",
              "<table border=\"1\" class=\"dataframe\">\n",
              "  <thead>\n",
              "    <tr style=\"text-align: right;\">\n",
              "      <th></th>\n",
              "      <th>x</th>\n",
              "      <th>y</th>\n",
              "    </tr>\n",
              "  </thead>\n",
              "  <tbody>\n",
              "    <tr>\n",
              "      <th>0</th>\n",
              "      <td>10.0</td>\n",
              "      <td>1.19</td>\n",
              "    </tr>\n",
              "    <tr>\n",
              "      <th>1</th>\n",
              "      <td>11.0</td>\n",
              "      <td>1.30</td>\n",
              "    </tr>\n",
              "    <tr>\n",
              "      <th>2</th>\n",
              "      <td>12.0</td>\n",
              "      <td>1.41</td>\n",
              "    </tr>\n",
              "    <tr>\n",
              "      <th>3</th>\n",
              "      <td>13.0</td>\n",
              "      <td>1.52</td>\n",
              "    </tr>\n",
              "    <tr>\n",
              "      <th>4</th>\n",
              "      <td>14.0</td>\n",
              "      <td>1.63</td>\n",
              "    </tr>\n",
              "  </tbody>\n",
              "</table>\n",
              "</div>\n",
              "      <button class=\"colab-df-convert\" onclick=\"convertToInteractive('df-312de36f-a54d-4631-a8a5-8481bc59a398')\"\n",
              "              title=\"Convert this dataframe to an interactive table.\"\n",
              "              style=\"display:none;\">\n",
              "        \n",
              "  <svg xmlns=\"http://www.w3.org/2000/svg\" height=\"24px\"viewBox=\"0 0 24 24\"\n",
              "       width=\"24px\">\n",
              "    <path d=\"M0 0h24v24H0V0z\" fill=\"none\"/>\n",
              "    <path d=\"M18.56 5.44l.94 2.06.94-2.06 2.06-.94-2.06-.94-.94-2.06-.94 2.06-2.06.94zm-11 1L8.5 8.5l.94-2.06 2.06-.94-2.06-.94L8.5 2.5l-.94 2.06-2.06.94zm10 10l.94 2.06.94-2.06 2.06-.94-2.06-.94-.94-2.06-.94 2.06-2.06.94z\"/><path d=\"M17.41 7.96l-1.37-1.37c-.4-.4-.92-.59-1.43-.59-.52 0-1.04.2-1.43.59L10.3 9.45l-7.72 7.72c-.78.78-.78 2.05 0 2.83L4 21.41c.39.39.9.59 1.41.59.51 0 1.02-.2 1.41-.59l7.78-7.78 2.81-2.81c.8-.78.8-2.07 0-2.86zM5.41 20L4 18.59l7.72-7.72 1.47 1.35L5.41 20z\"/>\n",
              "  </svg>\n",
              "      </button>\n",
              "      \n",
              "  <style>\n",
              "    .colab-df-container {\n",
              "      display:flex;\n",
              "      flex-wrap:wrap;\n",
              "      gap: 12px;\n",
              "    }\n",
              "\n",
              "    .colab-df-convert {\n",
              "      background-color: #E8F0FE;\n",
              "      border: none;\n",
              "      border-radius: 50%;\n",
              "      cursor: pointer;\n",
              "      display: none;\n",
              "      fill: #1967D2;\n",
              "      height: 32px;\n",
              "      padding: 0 0 0 0;\n",
              "      width: 32px;\n",
              "    }\n",
              "\n",
              "    .colab-df-convert:hover {\n",
              "      background-color: #E2EBFA;\n",
              "      box-shadow: 0px 1px 2px rgba(60, 64, 67, 0.3), 0px 1px 3px 1px rgba(60, 64, 67, 0.15);\n",
              "      fill: #174EA6;\n",
              "    }\n",
              "\n",
              "    [theme=dark] .colab-df-convert {\n",
              "      background-color: #3B4455;\n",
              "      fill: #D2E3FC;\n",
              "    }\n",
              "\n",
              "    [theme=dark] .colab-df-convert:hover {\n",
              "      background-color: #434B5C;\n",
              "      box-shadow: 0px 1px 3px 1px rgba(0, 0, 0, 0.15);\n",
              "      filter: drop-shadow(0px 1px 2px rgba(0, 0, 0, 0.3));\n",
              "      fill: #FFFFFF;\n",
              "    }\n",
              "  </style>\n",
              "\n",
              "      <script>\n",
              "        const buttonEl =\n",
              "          document.querySelector('#df-312de36f-a54d-4631-a8a5-8481bc59a398 button.colab-df-convert');\n",
              "        buttonEl.style.display =\n",
              "          google.colab.kernel.accessAllowed ? 'block' : 'none';\n",
              "\n",
              "        async function convertToInteractive(key) {\n",
              "          const element = document.querySelector('#df-312de36f-a54d-4631-a8a5-8481bc59a398');\n",
              "          const dataTable =\n",
              "            await google.colab.kernel.invokeFunction('convertToInteractive',\n",
              "                                                     [key], {});\n",
              "          if (!dataTable) return;\n",
              "\n",
              "          const docLinkHtml = 'Like what you see? Visit the ' +\n",
              "            '<a target=\"_blank\" href=https://colab.research.google.com/notebooks/data_table.ipynb>data table notebook</a>'\n",
              "            + ' to learn more about interactive tables.';\n",
              "          element.innerHTML = '';\n",
              "          dataTable['output_type'] = 'display_data';\n",
              "          await google.colab.output.renderOutput(dataTable, element);\n",
              "          const docLink = document.createElement('div');\n",
              "          docLink.innerHTML = docLinkHtml;\n",
              "          element.appendChild(docLink);\n",
              "        }\n",
              "      </script>\n",
              "    </div>\n",
              "  </div>\n",
              "  "
            ]
          },
          "metadata": {},
          "execution_count": 22
        }
      ]
    },
    {
      "cell_type": "code",
      "source": [
        "#@title\n",
        "def verify_slop_intercep(df, x_label, y_label, m_estimate, b_estimate, m_real, b_real):\n",
        "  if m_estimate==m_real and b_estimate==b_real:\n",
        "    print(f\"\\nCorrecto, o valor de m é {m_real} e b é {b_real}\\n\")\n",
        "  else:\n",
        "    print(f\"\\nErrado, tenta novamente!\\n\")\n",
        "  \n",
        "  sns.scatterplot(data=df, x=x_label,y=y_label, label=\"data\")\n",
        "  plt.plot(df[x_label], m_estimate*df[x_label]+b_estimate, 'r', label=f\"y={m_estimate}x+{b_estimate}\")\n",
        "  plt.legend()\n",
        "  plt.title(\"Figura 2\")\n",
        "  return m_estimate==m_real and b_estimate==b_real\n",
        "m_widget = widgets.FloatText(value=0, description='m', disabled=False)\n",
        "b_widget = widgets.FloatText(value=0, description='b', disabled=False)\n",
        "result = interact(verify_slop_intercep, \n",
        "            df=widgets.fixed(df_data),\n",
        "            x_label=widgets.fixed(\"x\"),\n",
        "            y_label=widgets.fixed(\"y\"),\n",
        "            m_estimate=m_widget, b_estimate=b_widget, \n",
        "            m_real=widgets.fixed(m), b_real=widgets.fixed(b))"
      ],
      "metadata": {
        "colab": {
          "base_uri": "https://localhost:8080/",
          "height": 430,
          "referenced_widgets": [
            "a8d4708e6b21430da1733795f73a56cb",
            "5b501bc7bde341d6b7e4de40dee685c6",
            "fa2fa2772cec44829cdcdd1b073e7681",
            "d50c32a09e7946388f596340d3fe6c78",
            "64ba10ecf7df40578d4fd5f18512110f",
            "d99056ef765a4c59bfd43d8028dfeb94",
            "3b7cd63237a8463a81dffef01e03f731",
            "4e5395e25f3945d3a86487612bd3642f",
            "da4b2fb725fc46a19a60dcb84b251a4d",
            "b2f5bf69f6d74a2497e9f3f22849cc21"
          ]
        },
        "id": "5elcBMcK_qI3",
        "outputId": "cacee122-e6e9-4bb6-a635-b621c0556159",
        "cellView": "form"
      },
      "execution_count": null,
      "outputs": [
        {
          "output_type": "display_data",
          "data": {
            "text/plain": [
              "interactive(children=(FloatText(value=0.0, description='m'), FloatText(value=0.0, description='b'), Output()),…"
            ],
            "application/vnd.jupyter.widget-view+json": {
              "version_major": 2,
              "version_minor": 0,
              "model_id": "a8d4708e6b21430da1733795f73a56cb"
            }
          },
          "metadata": {}
        }
      ]
    },
    {
      "cell_type": "markdown",
      "source": [
        "## Variabilidade dos dados\n",
        "\n",
        "Os dados adquiridos em problemas reais contêm variabilidade. Essa variabilidade tem diferentes origens, no caso do cérebro, por exemplo, o cérebro de cada pessoa é diferente. \n",
        "\n",
        "Na Figura 3, está representado um caso mais realista, acham que neste caso é possível determinar $m$ e $b$ usando um sistema de equações?\n",
        "\n",
        "A resposta é não, pois cada par de pontos dará uma equação diferente! Explorem o widget abaixo."
      ],
      "metadata": {
        "id": "75oMbsrnHGsJ"
      }
    },
    {
      "cell_type": "code",
      "source": [
        "#@title\n",
        "\n",
        "def verify_slop_intercep(df, x_label, y_label, m_estimate, b_estimate):\n",
        "  \n",
        "  sns.scatterplot(data=df, x=x_label,y=y_label, label=\"data\")\n",
        "  plt.plot(df[x_label], m_estimate*df[x_label]+b_estimate, 'r', label=f\"y={m_estimate}x+{b_estimate}\")\n",
        "  plt.legend()\n",
        "  plt.title(\"Figura 3\")\n",
        "  return \n",
        "\n",
        "\n",
        "m_value = 0.3\n",
        "\n",
        "b_value = -2.9\n",
        "\n",
        "step_m = 0.005\n",
        "step_b = 0.1\n",
        "nsteps = 15\n",
        "\n",
        "min_m_value = m_noise - nsteps*step_m\n",
        "max_m_value = max(m_noise + 5*step_m, m_value)\n",
        "min_b_value = min(b_value, b_noise - nsteps*step_b)\n",
        "max_b_value = b_noise + 5*step_b\n",
        "\n",
        "m_widget = widgets.FloatSlider(value=m_value, \n",
        "                               min=min_m_value, \n",
        "                               max=max_m_value, \n",
        "                               step=step_m,\n",
        "                               description='m', disabled=False)\n",
        "\n",
        "b_widget = widgets.FloatSlider(value=b_value, \n",
        "                               min=min_b_value, \n",
        "                               max=max_b_value, \n",
        "                               step=step_b,\n",
        "                               description='b', disabled=False)\n",
        "\n",
        "_= interact(verify_slop_intercep, \n",
        "            df=widgets.fixed(df_data_noise),\n",
        "            x_label=widgets.fixed(\"x\"),\n",
        "            y_label=widgets.fixed(\"y\"),\n",
        "            m_estimate=m_widget, b_estimate=b_widget)"
      ],
      "metadata": {
        "colab": {
          "base_uri": "https://localhost:8080/",
          "height": 359,
          "referenced_widgets": [
            "f125a37812d042b4a5d7e4a42ef69405",
            "ef2fd0320e0446b6a694d4da4415cfd5",
            "e1862b96d1164b62a9f32a4d321f532d",
            "8a3f9e85143d4ed6b95498f617af2b84",
            "e19e4dbe20094951b14d78d17e886329",
            "488f1b653e4f4bc5a146937de6372b8f",
            "f94d8e7fde754681ad68ae3f43b83082",
            "57c52a6103164bc38f847992743680e7",
            "1eb8766db2544d73978f002799443002",
            "f54b902d8a8a40a19940b7bb758c2fe8"
          ]
        },
        "id": "FnKbotOwIxbN",
        "outputId": "d460cd9a-1070-446d-aec8-1da9f25df9f4",
        "cellView": "form"
      },
      "execution_count": null,
      "outputs": [
        {
          "output_type": "display_data",
          "data": {
            "text/plain": [
              "interactive(children=(FloatSlider(value=0.3, description='m', max=0.3, min=-0.045, step=0.005), FloatSlider(va…"
            ],
            "application/vnd.jupyter.widget-view+json": {
              "version_major": 2,
              "version_minor": 0,
              "model_id": "f125a37812d042b4a5d7e4a42ef69405"
            }
          },
          "metadata": {}
        }
      ]
    },
    {
      "cell_type": "markdown",
      "source": [
        "## Optimização dos parâmetros da recta\n",
        "\n",
        "Como podemos então decidir qual o melhor $m$ e $b$? \n",
        "\n",
        "Em suma, é necessário uma métrica que nos permita avaliar o ajuste da reta aos dados. Existem diferentes métricas, uma das métricas que é usada é a Soma do Quadrado dos Erros (MSE - Mean Squared Error), que é dada pela equação abaixo.\n",
        "\n",
        "\\begin{align}\n",
        "    MSE = \\frac{1}{N}\\sum_{i=1}^N(y - \\hat{y})^2 \n",
        "\\end{align}\n",
        "\n",
        "onde $N$ é o número de instâncias, $y$ e $\\hat{y}$ é o valor real e estimado de y, respectivamente.\n",
        "\n",
        "O objectivo é minimizar o MSE, ou seja:\n",
        "\\begin{align}\n",
        "\\min _{m, b} \\frac{1}{N}\\sum_{i=1}^{N}\\left(y_{i}-\\hat{y}_i\\right)^{2}\n",
        "\\end{align}\n",
        "\n",
        "\n"
      ],
      "metadata": {
        "id": "3ja7qAtDQMtz"
      }
    },
    {
      "cell_type": "markdown",
      "source": [
        "### Exercício 2: Encontra os parâmetros da recta com menor valor de MSE.\n",
        "\n",
        "Explora o widget abaixo e encontra o valor de $m$ e $b$ cujo erro é mais baixo.\n",
        "\n",
        "\n"
      ],
      "metadata": {
        "id": "LtgfSEjHQ9UJ"
      }
    },
    {
      "cell_type": "code",
      "source": [
        "#@title\n",
        "from sklearn.metrics import mean_squared_error\n",
        "values_mse = []\n",
        "def verify_slop_intercep(df, x_label, y_label, m_estimate, b_estimate, m_real, b_real):\n",
        "  \n",
        "  f, ax = plt.subplots(1, 2, figsize=(15, 5))\n",
        "  sns.scatterplot(data=df, x=x_label,y=y_label, label=\"data\", ax=ax[0])\n",
        "  y_pred = m_estimate*df[x_label]+b_estimate\n",
        "  ax[0].plot(df[x_label], y_pred, 'r', \n",
        "             label=f\"y={m_estimate}x+{b_estimate}\")\n",
        "  mse = mean_squared_error(df[y_label], y_pred)\n",
        "  \n",
        "  ymin = np.minimum(df[y_label], y_pred)\n",
        "  ymax = np.maximum(df[y_label], y_pred)\n",
        "  ax[0].vlines(df[x_label], ymin, ymax, 'g', alpha=0.5, label='$y_i - \\hat{y_i}$')\n",
        "  ax[0].set_title(\"Figura 4\")\n",
        "  values_mse.append(mse)\n",
        "\n",
        "  ax[1].plot(values_mse)\n",
        "  ax[1].set_ylabel(\"MSE\")\n",
        "  ax[1].set_xlabel(\"iteration\")\n",
        "  ax[1].set_title(\"Error Evolution\")\n",
        "  ax[0].legend()\n",
        "  if m_estimate == m_real and b_estimate == b_real:\n",
        "    print(\"Congratulations you found the real m and b value!\")\n",
        "    ax[1].plot([len(values_mse)-1], [values_mse[-1]], 'ro')\n",
        "  return \n",
        "\n",
        "\n",
        "m_widget = widgets.FloatSlider(value=m_value, \n",
        "                               min=min_m_value, \n",
        "                               max=max_m_value, \n",
        "                               step=step_m,\n",
        "                               description='m', disabled=False)\n",
        "\n",
        "b_widget = widgets.FloatSlider(value=b_value, \n",
        "                               min=min_b_value, \n",
        "                               max=max_b_value, \n",
        "                               step=step_b,\n",
        "                               description='b', disabled=False)\n",
        "\n",
        "_= interact(verify_slop_intercep, \n",
        "            df=widgets.fixed(df_data_noise),\n",
        "            x_label=widgets.fixed(\"x\"),\n",
        "            y_label=widgets.fixed(\"y\"),\n",
        "            m_estimate=m_widget, b_estimate=b_widget,\n",
        "            m_real=widgets.fixed(m_noise), b_real=widgets.fixed(b_noise))\n"
      ],
      "metadata": {
        "id": "47Z7V6QfQk0d",
        "colab": {
          "base_uri": "https://localhost:8080/",
          "height": 414,
          "referenced_widgets": [
            "011abeafa3ae4e9da1ee795d3de7130b",
            "895b76adcd9c411eaaa2b2f628d79f57",
            "73bf55e21d004d7282e383dc3d797866",
            "5a485d9a73414f45a8126778b31bb75c",
            "85ae238567634a4494130304ae3e60a2",
            "7020fbd733584039acf3c03a46afcd7b",
            "1ba3397e1e194ea382abb93920cb7568",
            "fbf94296060144a69546d3e6ceaeefdb",
            "d20ac6c33cf8448c8550cd9bd5ae2710",
            "38e3c4e1bf6c4b82a83fef6f3bac8261"
          ]
        },
        "outputId": "b212a27e-d774-455e-db4b-90951cb9ec02",
        "cellView": "form"
      },
      "execution_count": null,
      "outputs": [
        {
          "output_type": "display_data",
          "data": {
            "text/plain": [
              "interactive(children=(FloatSlider(value=0.3, description='m', max=0.3, min=-0.045, step=0.005), FloatSlider(va…"
            ],
            "application/vnd.jupyter.widget-view+json": {
              "version_major": 2,
              "version_minor": 0,
              "model_id": "011abeafa3ae4e9da1ee795d3de7130b"
            }
          },
          "metadata": {}
        }
      ]
    },
    {
      "cell_type": "markdown",
      "source": [
        "## Características não lineares\n",
        "\n",
        "A matéria cinzenta decresce monotonicamente com a idade, no entanto não é o caso de todas as features, como por exemplo o Líquido Cefalorraquidiano (CSF) que será representado na Figura abaixo. Como fazemos nestes casos? Há várias soluções, uma delas é transformar a característica não linear em linear para que conseguimos, desta forma, aplicar uma reta aos dados, por exemplo aplicando a seguinte equação aos dados:\n",
        "\\begin{align}\n",
        "    x_{linear} = x_{non~linear}^n\n",
        "\\end{align}\n"
      ],
      "metadata": {
        "id": "nSboBfwxNp7L"
      }
    },
    {
      "cell_type": "code",
      "source": [
        "#@title\n",
        "df = data_generation()\n",
        "_ = sns.scatterplot(data=df, y=\"age\", x=\"csf\")\n",
        "plt.xlabel(\"CSF\")\n",
        "plt.ylabel(\"Idade [anos]\")\n",
        "_ = plt.title(\"Figura 5\")"
      ],
      "metadata": {
        "colab": {
          "base_uri": "https://localhost:8080/",
          "height": 295
        },
        "cellView": "form",
        "id": "43r1xxvk6BbT",
        "outputId": "ad44080b-6d19-46f0-bf1d-935c3187e5c5"
      },
      "execution_count": null,
      "outputs": [
        {
          "output_type": "display_data",
          "data": {
            "text/plain": [
              "<Figure size 432x288 with 1 Axes>"
            ],
            "image/png": "[encoded data removed]"
          },
          "metadata": {
            "needs_background": "light"
          }
        }
      ]
    },
    {
      "cell_type": "markdown",
      "source": [
        "### Exercício 3: Qual a transformação polinomial que deve ser aplicada ao líquido cefalorraquidiano, que minimize o MSE?\n",
        "\n",
        "Terás de descobrir o valor de $n$ da equação: $x_{linear} = x_{non~linear}^n$\n",
        "\n",
        "Tentem diferentes ordens no widget abaixo.\n"
      ],
      "metadata": {
        "id": "HJvctq9H5N9F"
      }
    },
    {
      "cell_type": "code",
      "source": [
        "#@title\n",
        "\n",
        "def f(order):\n",
        "    pipeline = LinearRegression()\n",
        "    pipeline.fit(df[[\"csf\"]]**order, df[\"age\"])   \n",
        "    predicted_age = pipeline.predict(df[[\"csf\"]]**order)\n",
        "    \n",
        "    sns.scatterplot(data=df, x=\"csf\", y=\"age\", label=\"CSF\")\n",
        "    plt.plot(df[\"csf\"], predicted_age, 'or', label='Model preditivo')\n",
        "    mae = round(mean_absolute_error(df[\"age\"], predicted_age), 2)\n",
        "    plt.xlabel(\"CSF\")\n",
        "    plt.ylabel(\"Idade [anos]\")\n",
        "    plt.title(\"Figure 6\")\n",
        "    print(f\"\\nMSE: {mae} anos\\n\")\n",
        "    if order == 0.5:\n",
        "      print(\"Correcto! A ordem é 0.5.\\n\")\n",
        "    return \n",
        "\n",
        "widget_csf_order = widgets.FloatText(value=0, description='n', disabled=False)\n",
        "n = interact(f, order=widget_csf_order)"
      ],
      "metadata": {
        "colab": {
          "base_uri": "https://localhost:8080/",
          "height": 380,
          "referenced_widgets": [
            "b8c95dc2cb9445d89830dbd8160801f7",
            "2a522f4b1edb45e0a12a6913729295ad",
            "6a237e86953146ec8f55450068ab21f8",
            "c447e085655e435db2bd9b395283e70e",
            "abfdbae1b7094fd8aacf3cb3b8174616",
            "1d06f9a8267246d0be2d7b4ff80e20f0",
            "58a0cc72521947faa3d810af4f2043b5"
          ]
        },
        "id": "CjQHiOrj5pFo",
        "outputId": "f82c638d-0b40-41e4-d4ca-f9d519617c8f",
        "cellView": "form"
      },
      "execution_count": null,
      "outputs": [
        {
          "output_type": "display_data",
          "data": {
            "text/plain": [
              "interactive(children=(FloatText(value=0.0, description='n'), Output()), _dom_classes=('widget-interact',))"
            ],
            "application/vnd.jupyter.widget-view+json": {
              "version_major": 2,
              "version_minor": 0,
              "model_id": "b8c95dc2cb9445d89830dbd8160801f7"
            }
          },
          "metadata": {}
        }
      ]
    }
  ]
}